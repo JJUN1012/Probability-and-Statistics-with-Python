{
  "nbformat": 4,
  "nbformat_minor": 0,
  "metadata": {
    "colab": {
      "provenance": [],
      "authorship_tag": "ABX9TyN1E48DNDTKd4y8/8UfXcXb",
      "include_colab_link": true
    },
    "kernelspec": {
      "name": "python3",
      "display_name": "Python 3"
    },
    "language_info": {
      "name": "python"
    }
  },
  "cells": [
    {
      "cell_type": "markdown",
      "metadata": {
        "id": "view-in-github",
        "colab_type": "text"
      },
      "source": [
        "<a href=\"https://colab.research.google.com/github/JJUN1012/Probability-and-Statistics-with-Python/blob/main/4_vector_and_matrix.ipynb\" target=\"_parent\"><img src=\"https://colab.research.google.com/assets/colab-badge.svg\" alt=\"Open In Colab\"/></a>"
      ]
    },
    {
      "cell_type": "markdown",
      "source": [
        "This document is typed with python and $\\LaTeX$"
      ],
      "metadata": {
        "id": "KYBI6j-nKlZ-"
      }
    },
    {
      "cell_type": "markdown",
      "source": [
        "###import necessary packages for study"
      ],
      "metadata": {
        "id": "MIsnAnmxSVFt"
      }
    },
    {
      "cell_type": "code",
      "execution_count": null,
      "metadata": {
        "colab": {
          "base_uri": "https://localhost:8080/"
        },
        "id": "3U3o8dnPQ6EL",
        "outputId": "d022922f-2676-4036-b525-34bc25e3ed2a"
      },
      "outputs": [
        {
          "output_type": "stream",
          "name": "stdout",
          "text": [
            "1.26.4\n",
            "1.13.1\n"
          ]
        }
      ],
      "source": [
        "import numpy as np\n",
        "import scipy\n",
        "from scipy import linalg as la\n",
        "import matplotlib.pyplot as plt\n",
        "\n",
        "#check version\n",
        "print(np.__version__)\n",
        "print(scipy.__version__)"
      ]
    },
    {
      "cell_type": "markdown",
      "source": [
        "#4.1 express of vector"
      ],
      "metadata": {
        "id": "2UI1SE2sVSpt"
      }
    },
    {
      "cell_type": "code",
      "source": [
        "v =  np.array([0.61, 0.93, 0.24, 0.27])\n",
        "v"
      ],
      "metadata": {
        "colab": {
          "base_uri": "https://localhost:8080/"
        },
        "id": "2h5f_fCUWOC7",
        "outputId": "6ca677cc-e0ca-41c5-d266-6108c6d43241"
      },
      "execution_count": null,
      "outputs": [
        {
          "output_type": "execute_result",
          "data": {
            "text/plain": [
              "array([0.61, 0.93, 0.24, 0.27])"
            ]
          },
          "metadata": {},
          "execution_count": 4
        }
      ]
    },
    {
      "cell_type": "code",
      "source": [
        "print(v[0])\n",
        "print(v[3])"
      ],
      "metadata": {
        "colab": {
          "base_uri": "https://localhost:8080/"
        },
        "id": "E5eRb2OGWYbz",
        "outputId": "a3b09e50-baed-4d2e-a21d-1206ec9562a9"
      },
      "execution_count": null,
      "outputs": [
        {
          "output_type": "stream",
          "name": "stdout",
          "text": [
            "0.61\n",
            "0.27\n"
          ]
        }
      ]
    },
    {
      "cell_type": "markdown",
      "source": [
        "###4.1.1 size(dimention, length) of vector"
      ],
      "metadata": {
        "id": "i6lS-RFZWjGT"
      }
    },
    {
      "cell_type": "code",
      "source": [
        "v.shape"
      ],
      "metadata": {
        "colab": {
          "base_uri": "https://localhost:8080/"
        },
        "id": "63_mN0B7WvhA",
        "outputId": "8f3504b8-2387-473a-ada5-3af006aadc64"
      },
      "execution_count": null,
      "outputs": [
        {
          "output_type": "execute_result",
          "data": {
            "text/plain": [
              "(4,)"
            ]
          },
          "metadata": {},
          "execution_count": 6
        }
      ]
    },
    {
      "cell_type": "markdown",
      "source": [
        "###4.1.2 subvector"
      ],
      "metadata": {
        "id": "m0rpgdsIWzaV"
      }
    },
    {
      "cell_type": "code",
      "source": [
        "v_sub = v[0:2]#v[0]-v[1]\n",
        "v_sub"
      ],
      "metadata": {
        "colab": {
          "base_uri": "https://localhost:8080/"
        },
        "id": "3ndKaFhHXSGk",
        "outputId": "3b158aed-12e4-49f8-a9e6-84957b2f2167"
      },
      "execution_count": null,
      "outputs": [
        {
          "output_type": "execute_result",
          "data": {
            "text/plain": [
              "array([0.61, 0.93])"
            ]
          },
          "metadata": {},
          "execution_count": 7
        }
      ]
    },
    {
      "cell_type": "markdown",
      "source": [
        "###4.1.3 special vectors\n",
        "A zero vector is a vector where all elements are zero."
      ],
      "metadata": {
        "id": "GElKPdh-Xd6H"
      }
    },
    {
      "cell_type": "code",
      "source": [
        "size = 3\n",
        "zeros = np.zeros(shape = (size,))\n",
        "zeros"
      ],
      "metadata": {
        "colab": {
          "base_uri": "https://localhost:8080/"
        },
        "id": "lOiFpFTHYGdv",
        "outputId": "94be026a-afd0-46bb-d1b8-cf599a9a94c3"
      },
      "execution_count": null,
      "outputs": [
        {
          "output_type": "execute_result",
          "data": {
            "text/plain": [
              "array([0., 0., 0.])"
            ]
          },
          "metadata": {},
          "execution_count": 8
        }
      ]
    },
    {
      "cell_type": "markdown",
      "source": [
        "A vector with one element equal to 1 and all others equal to 0 is called a unit vector.\n",
        "\n",
        "Unit vectors are specially denoted using the $\\mathbf{e}$ notation.\n",
        "\n",
        "$\\mathbf{e}_1 = \\begin{bmatrix} 1 \\\\ 0 \\\\ 0 \\end{bmatrix}$\n",
        " $\\mathbf{e}_2 = \\begin{bmatrix} 0 \\\\ 1 \\\\ 0 \\end{bmatrix}$\n",
        " $\\mathbf{e}_3 = \\begin{bmatrix} 0 \\\\ 0 \\\\ 1 \\end{bmatrix}$\n"
      ],
      "metadata": {
        "id": "r6IWoEhSYROV"
      }
    },
    {
      "cell_type": "code",
      "source": [
        "e = np.zeros(shape = (3,))\n",
        "\n",
        "i = 1 #locate 1\n",
        "\n",
        "e[i] = 1\n",
        "e"
      ],
      "metadata": {
        "colab": {
          "base_uri": "https://localhost:8080/"
        },
        "id": "A2CiCH1FZmPT",
        "outputId": "4904ee3f-ea8e-4a07-ecee-f33c608d3140"
      },
      "execution_count": null,
      "outputs": [
        {
          "output_type": "execute_result",
          "data": {
            "text/plain": [
              "array([0., 1., 0.])"
            ]
          },
          "metadata": {},
          "execution_count": 11
        }
      ]
    },
    {
      "cell_type": "markdown",
      "source": [
        "A one vector is a vector where all elements are one."
      ],
      "metadata": {
        "id": "reWDHCeRZ_rY"
      }
    },
    {
      "cell_type": "code",
      "source": [
        "one = np.ones(shape = (size,))\n",
        "one"
      ],
      "metadata": {
        "colab": {
          "base_uri": "https://localhost:8080/"
        },
        "id": "-zlgeWFQaG0h",
        "outputId": "1c6d8029-afd2-4ef6-a62d-1dcbdbc11292"
      },
      "execution_count": null,
      "outputs": [
        {
          "output_type": "execute_result",
          "data": {
            "text/plain": [
              "array([1., 1., 1.])"
            ]
          },
          "metadata": {},
          "execution_count": 12
        }
      ]
    },
    {
      "cell_type": "markdown",
      "source": [
        "###4.1.4 geometric meaning of vectors\n",
        "\n",
        "In two or three-dimensional space, vectors can be interpreted as:\n",
        "\n",
        "* Displacements from one point to another\n",
        "* Forces acting in a particular direction\n",
        "* Velocities with both speed and direction\n",
        "* Any quantity that requires both magnitude and direction to be fully described"
      ],
      "metadata": {
        "id": "id-sS551aOSx"
      }
    },
    {
      "cell_type": "markdown",
      "source": [
        "###4.1.5 Vector Calculation\n",
        "####4.1.5.1 Vector Addition\n",
        "Addition of two vectors of the same size is defined as the sum of their corresponding elements.\n",
        "\n",
        "$\\begin{bmatrix} 1 \\\\ 3 \\end{bmatrix} + \\begin{bmatrix} 3 \\\\ 1 \\end{bmatrix} = \\begin{bmatrix} 4 \\\\ 4 \\end{bmatrix}$\n",
        "\n",
        "The addition operation satisfies the commutative law and the associative law."
      ],
      "metadata": {
        "id": "Pj2dkHsQbEYR"
      }
    },
    {
      "cell_type": "code",
      "source": [
        "a = np.array([1, 3])\n",
        "b = np.array([3, 1])\n",
        "a + b"
      ],
      "metadata": {
        "colab": {
          "base_uri": "https://localhost:8080/"
        },
        "id": "Ns6kByrJdaaN",
        "outputId": "b883a67b-f80f-4ef0-c570-be6b8b9d2bd4"
      },
      "execution_count": null,
      "outputs": [
        {
          "output_type": "execute_result",
          "data": {
            "text/plain": [
              "array([4, 4])"
            ]
          },
          "metadata": {},
          "execution_count": 13
        }
      ]
    },
    {
      "cell_type": "code",
      "source": [
        "#commutative law\n",
        "a + b == b + a"
      ],
      "metadata": {
        "colab": {
          "base_uri": "https://localhost:8080/"
        },
        "id": "8iPhvVYgdiFN",
        "outputId": "983c3986-a521-4efb-931e-64747fd332ba"
      },
      "execution_count": null,
      "outputs": [
        {
          "output_type": "execute_result",
          "data": {
            "text/plain": [
              "array([ True,  True])"
            ]
          },
          "metadata": {},
          "execution_count": 14
        }
      ]
    },
    {
      "cell_type": "code",
      "source": [
        "#associative law\n",
        "d = np.array([1, 2])\n",
        "(a + b) + d == a + (b + d)"
      ],
      "metadata": {
        "colab": {
          "base_uri": "https://localhost:8080/"
        },
        "id": "pfxw3o9Tdv-8",
        "outputId": "d95ce6eb-a439-4d09-db26-05e14d799474"
      },
      "execution_count": null,
      "outputs": [
        {
          "output_type": "execute_result",
          "data": {
            "text/plain": [
              "array([ True,  True])"
            ]
          },
          "metadata": {},
          "execution_count": 15
        }
      ]
    },
    {
      "cell_type": "markdown",
      "source": [
        "####4.1.5.2 Vector subtraction\n",
        "$\\begin{bmatrix} 3 \\\\ 1 \\end{bmatrix} - \\begin{bmatrix} 1 \\\\ 3 \\end{bmatrix} = \\begin{bmatrix} 2 \\\\ -2 \\end{bmatrix}$"
      ],
      "metadata": {
        "id": "1d6h6R5CeSiC"
      }
    },
    {
      "cell_type": "code",
      "source": [
        "b - a"
      ],
      "metadata": {
        "colab": {
          "base_uri": "https://localhost:8080/"
        },
        "id": "1_Xg7LbKlPoT",
        "outputId": "4359dd74-f275-4fc0-e2d4-b50e7c576feb"
      },
      "execution_count": null,
      "outputs": [
        {
          "output_type": "execute_result",
          "data": {
            "text/plain": [
              "array([ 2, -2])"
            ]
          },
          "metadata": {},
          "execution_count": 17
        }
      ]
    },
    {
      "cell_type": "markdown",
      "source": [
        "####4.1.5.3 Scalar-Vector multiplication\n",
        "Multiply all elments of a vector by scalar\n",
        "\n",
        "$\\begin{bmatrix} \\dfrac{1}{2} \\end{bmatrix} \\begin{bmatrix} 2 \\\\ 3 \\end{bmatrix} = \\begin{bmatrix} 1 \\\\ 1.5 \\end{bmatrix}$  \n",
        "\n",
        "$\\begin{bmatrix} 2 \\\\ 3 \\end{bmatrix} \\begin{bmatrix} \\dfrac{1}{2} \\end{bmatrix} = \\begin{bmatrix} 1 \\\\ 1.5 \\end{bmatrix}$  "
      ],
      "metadata": {
        "id": "gtDbt9ndmrZt"
      }
    },
    {
      "cell_type": "code",
      "source": [
        "alpha = 1/2\n",
        "a = np.array([2, 3])\n",
        "alpha * a"
      ],
      "metadata": {
        "colab": {
          "base_uri": "https://localhost:8080/"
        },
        "id": "Bzy-Un16obV6",
        "outputId": "66d3d341-8c8a-4167-b7b8-f622b2c820ef"
      },
      "execution_count": null,
      "outputs": [
        {
          "output_type": "execute_result",
          "data": {
            "text/plain": [
              "array([1. , 1.5])"
            ]
          },
          "metadata": {},
          "execution_count": 18
        }
      ]
    },
    {
      "cell_type": "code",
      "source": [
        "#commutative law\n",
        "a * alpha == alpha * a"
      ],
      "metadata": {
        "colab": {
          "base_uri": "https://localhost:8080/"
        },
        "id": "45tgr8PZoz2q",
        "outputId": "5c03f590-eeb3-4430-b42e-a0e22b437d71"
      },
      "execution_count": null,
      "outputs": [
        {
          "output_type": "execute_result",
          "data": {
            "text/plain": [
              "array([ True,  True])"
            ]
          },
          "metadata": {},
          "execution_count": 19
        }
      ]
    },
    {
      "cell_type": "code",
      "source": [
        "#distributive law\n",
        "beta = 0.7\n",
        "(alpha + beta) * a == alpha * a + beta * a"
      ],
      "metadata": {
        "colab": {
          "base_uri": "https://localhost:8080/"
        },
        "id": "EfC6MCy7pFI8",
        "outputId": "2a4af9be-3196-4835-e41a-0f6389363eb8"
      },
      "execution_count": null,
      "outputs": [
        {
          "output_type": "execute_result",
          "data": {
            "text/plain": [
              "array([ True,  True])"
            ]
          },
          "metadata": {},
          "execution_count": 20
        }
      ]
    },
    {
      "cell_type": "markdown",
      "source": [
        "####4.1.5.4 Linear Combination\n",
        "Linear combination is a fundamental concept in linear algebra that refers to the weighted sum of vectors.\n",
        "\n",
        "a₁v₁ + a₂v₂ + ... + aₙvₙ"
      ],
      "metadata": {
        "id": "uzMab2qmpk3k"
      }
    },
    {
      "cell_type": "markdown",
      "source": [
        "###4.1.6 inner product\n",
        "$a^Tb = \\sum_{i=1}^{n} a_ib_i$\n",
        "\n",
        "T is a notation for transpose\n",
        "\n",
        "it can be also expressed with $a \\cdot b ,  < a,  b >$\n",
        "\n",
        "$\\begin{bmatrix} -1 \\\\ 2 \\\\ 3\\end{bmatrix}^T \\begin{bmatrix} 1 \\\\ -2 \\\\ 4 \\end{bmatrix} = sum \\begin{bmatrix} -1 \\\\ -4 \\\\ 12 \\end{bmatrix} = 7$"
      ],
      "metadata": {
        "id": "PTJkWP2urXr5"
      }
    },
    {
      "cell_type": "code",
      "source": [
        "a =  np.array([-1, 2, 3])\n",
        "b =  np.array([1, -2, 4])\n",
        "\n",
        "print(a * b)\n",
        "np.sum (a * b)"
      ],
      "metadata": {
        "colab": {
          "base_uri": "https://localhost:8080/"
        },
        "id": "DQg9N83Ftdj2",
        "outputId": "7af7b766-a313-449b-a2fb-3da97880fcdc"
      },
      "execution_count": null,
      "outputs": [
        {
          "output_type": "stream",
          "name": "stdout",
          "text": [
            "[-1 -4 12]\n"
          ]
        },
        {
          "output_type": "execute_result",
          "data": {
            "text/plain": [
              "7"
            ]
          },
          "metadata": {},
          "execution_count": 24
        }
      ]
    },
    {
      "cell_type": "code",
      "source": [
        "#with function\n",
        "print(np.inner(a, b))\n",
        "print(np.dot(a, b))"
      ],
      "metadata": {
        "colab": {
          "base_uri": "https://localhost:8080/"
        },
        "id": "wXOpHknVtzsj",
        "outputId": "20cd98c7-d4ca-4427-d439-54e40e7224d4"
      },
      "execution_count": null,
      "outputs": [
        {
          "output_type": "stream",
          "name": "stdout",
          "text": [
            "7\n",
            "7\n"
          ]
        }
      ]
    },
    {
      "cell_type": "code",
      "source": [
        "#commutative law\n",
        "np.dot(a, b) == np.dot(b, a)"
      ],
      "metadata": {
        "colab": {
          "base_uri": "https://localhost:8080/"
        },
        "id": "nfYiQnFYw2YL",
        "outputId": "d23f6e2a-fb6a-4e49-af38-561dcb3ecdb9"
      },
      "execution_count": null,
      "outputs": [
        {
          "output_type": "execute_result",
          "data": {
            "text/plain": [
              "True"
            ]
          },
          "metadata": {},
          "execution_count": 25
        }
      ]
    },
    {
      "cell_type": "code",
      "source": [
        "#associative law\n",
        "alpha = 0.5\n",
        "np.dot(alpha * a, b) == alpha * np.dot(a, b)"
      ],
      "metadata": {
        "colab": {
          "base_uri": "https://localhost:8080/"
        },
        "id": "Y9mDP361xDJT",
        "outputId": "03358fc7-df36-4a0e-d865-fe8c04e2ad54"
      },
      "execution_count": null,
      "outputs": [
        {
          "output_type": "execute_result",
          "data": {
            "text/plain": [
              "True"
            ]
          },
          "metadata": {},
          "execution_count": 27
        }
      ]
    },
    {
      "cell_type": "code",
      "source": [
        "#distributive law\n",
        "c = np.array([1, 2, 3])\n",
        "np.dot(a + b, c) == np.dot(a, c) + np.dot(b, c)"
      ],
      "metadata": {
        "colab": {
          "base_uri": "https://localhost:8080/"
        },
        "id": "_aMMYfC7xSIZ",
        "outputId": "fc13c5b0-2aeb-42c3-94e4-160a36c85165"
      },
      "execution_count": null,
      "outputs": [
        {
          "output_type": "execute_result",
          "data": {
            "text/plain": [
              "True"
            ]
          },
          "metadata": {},
          "execution_count": 26
        }
      ]
    },
    {
      "cell_type": "markdown",
      "source": [
        "some usuage of inner product\n",
        "1. $1^Ta = a_1 + \\ldots +a_n = \\sum_{i=1}^{n} a_i$\n",
        "2. $\\frac{1}{n}1^Ta = \\frac{1}{n}(a_1 + \\ldots + a_n) = \\bar{a}$\n",
        "3. $a^Ta = a^2_1 + \\ldots + a^2_n$"
      ],
      "metadata": {
        "id": "inY9GwCxycU7"
      }
    },
    {
      "cell_type": "code",
      "source": [
        "a = np.array([1, 2, 3])\n",
        "size = len(a)\n",
        "ones = np.ones(shape=(size, ))\n",
        "np.dot(ones, a)"
      ],
      "metadata": {
        "colab": {
          "base_uri": "https://localhost:8080/"
        },
        "id": "2vvl0-rrzTiU",
        "outputId": "98d38cfa-26da-4e11-d432-f2071c6686c8"
      },
      "execution_count": null,
      "outputs": [
        {
          "output_type": "execute_result",
          "data": {
            "text/plain": [
              "6.0"
            ]
          },
          "metadata": {},
          "execution_count": 29
        }
      ]
    },
    {
      "cell_type": "code",
      "source": [
        "np.dot(ones, a) / len(a)"
      ],
      "metadata": {
        "colab": {
          "base_uri": "https://localhost:8080/"
        },
        "id": "l4MnBDsr08Bu",
        "outputId": "a44733b4-7ce5-45f9-cdb2-709391694086"
      },
      "execution_count": null,
      "outputs": [
        {
          "output_type": "execute_result",
          "data": {
            "text/plain": [
              "2.0"
            ]
          },
          "metadata": {},
          "execution_count": 30
        }
      ]
    },
    {
      "cell_type": "code",
      "source": [
        "np.dot(a, a)"
      ],
      "metadata": {
        "colab": {
          "base_uri": "https://localhost:8080/"
        },
        "id": "d5BxIJVe1AaM",
        "outputId": "57f0e8af-d553-4920-8f0c-56e3ee56ab5a"
      },
      "execution_count": null,
      "outputs": [
        {
          "output_type": "execute_result",
          "data": {
            "text/plain": [
              "14"
            ]
          },
          "metadata": {},
          "execution_count": 31
        }
      ]
    },
    {
      "cell_type": "markdown",
      "source": [
        "###4.1.7 Vector norm\n",
        "This is Euclidean norm of Vector.\n",
        "Norm means length or magnitude of vector\n",
        "\n",
        "$||a||_2 = \\sqrt{a^Ta} = \\sqrt{a^2_1 + \\ldots + a^2_n}$\n",
        "\n",
        "example\n",
        "\n",
        "$\\bigg|\\bigg|\\begin{bmatrix} 2 \\\\ 3 \\end{bmatrix}\\bigg|\\bigg|= \\sqrt{\\begin{bmatrix}2 \\\\ 3 \\end{bmatrix}^T\\begin{bmatrix}2 \\\\ 3 \\end{bmatrix}} = \\sqrt{sum\\begin{bmatrix}4 \\\\ 9 \\end{bmatrix}} = \\sqrt{13} = 3.606...$"
      ],
      "metadata": {
        "id": "01DpL-BD1Kw8"
      }
    },
    {
      "cell_type": "code",
      "source": [
        "a = np.array([2, 3])\n",
        "la.norm(a)"
      ],
      "metadata": {
        "colab": {
          "base_uri": "https://localhost:8080/"
        },
        "id": "1bNdkedX3qDa",
        "outputId": "ca451f44-3a53-4c6d-c440-2fa25159c13b"
      },
      "execution_count": null,
      "outputs": [
        {
          "output_type": "execute_result",
          "data": {
            "text/plain": [
              "3.605551275463989"
            ]
          },
          "metadata": {},
          "execution_count": 32
        }
      ]
    },
    {
      "cell_type": "markdown",
      "source": [
        "A norm satisfies the following properties.\n",
        "\n",
        "* $||\\beta a|| = |\\beta|\\,||a||$\n",
        "* $||a + b|| \\leq ||a|| + ||b||$\n",
        "* $||a|| \\geq 0$\n",
        "* $||a|| = 0 \\Rightarrow a = 0$"
      ],
      "metadata": {
        "id": "GQxp-sLs4Czg"
      }
    },
    {
      "cell_type": "code",
      "source": [
        "a = np.array([-1, 2, 3])\n",
        "b = np.array([1, -2, 4])\n",
        "\n",
        "beta = 0.5\n",
        "la.norm(beta * a) == np.abs(beta) * la.norm(a)"
      ],
      "metadata": {
        "colab": {
          "base_uri": "https://localhost:8080/"
        },
        "id": "gma9FmdJ7lfd",
        "outputId": "58212657-7f89-402f-9831-660c0b399aeb"
      },
      "execution_count": null,
      "outputs": [
        {
          "output_type": "execute_result",
          "data": {
            "text/plain": [
              "True"
            ]
          },
          "metadata": {},
          "execution_count": 33
        }
      ]
    },
    {
      "cell_type": "code",
      "source": [
        "la.norm(a + b) <= la.norm(a) + la.norm(b)"
      ],
      "metadata": {
        "colab": {
          "base_uri": "https://localhost:8080/"
        },
        "id": "m38fwzGn7_8k",
        "outputId": "8c9ae6cb-56cc-44f1-f1b4-3aa6e835d677"
      },
      "execution_count": null,
      "outputs": [
        {
          "output_type": "execute_result",
          "data": {
            "text/plain": [
              "True"
            ]
          },
          "metadata": {},
          "execution_count": 34
        }
      ]
    },
    {
      "cell_type": "code",
      "source": [
        "la.norm(a) >= 0"
      ],
      "metadata": {
        "colab": {
          "base_uri": "https://localhost:8080/"
        },
        "id": "PzbmpjQw8SxV",
        "outputId": "b0799ed7-e7a9-47f9-a135-f3654a1841bc"
      },
      "execution_count": null,
      "outputs": [
        {
          "output_type": "execute_result",
          "data": {
            "text/plain": [
              "True"
            ]
          },
          "metadata": {},
          "execution_count": 35
        }
      ]
    },
    {
      "cell_type": "code",
      "source": [
        "print(la.norm(np.zeros(shape=(2,))))\n",
        "a == 0"
      ],
      "metadata": {
        "colab": {
          "base_uri": "https://localhost:8080/"
        },
        "id": "byG3slgp8dWi",
        "outputId": "25d50f25-9eec-4d7e-a82f-47ac9efbc908"
      },
      "execution_count": null,
      "outputs": [
        {
          "output_type": "stream",
          "name": "stdout",
          "text": [
            "0.0\n"
          ]
        },
        {
          "output_type": "execute_result",
          "data": {
            "text/plain": [
              "True"
            ]
          },
          "metadata": {},
          "execution_count": 40
        }
      ]
    },
    {
      "cell_type": "markdown",
      "source": [
        "###4.1.8 Inner product & Norm\n",
        "\n",
        "$u\\cdot v = ||u||\\,||v||\\,cos\\theta$\n",
        "\n",
        "This formula showes that the inner product is in propotional to length of the vectors and $cos$ of angle between the vectors.\n",
        "\n",
        "1.   When both of Vectors are heading the same direction($\\theta = 0^\\circ$), the inner product has the max value.\n",
        "2.   When two Vectors are perpendicular($\\theta=90^\\circ$), the inner product is 0.\n",
        "3.   When two Vectors are heading completely opposite directions($\\theta = 180^\\circ$), the inner product has the min value.\n",
        "\n",
        "\n"
      ],
      "metadata": {
        "id": "NIdi6n5IDVx_"
      }
    },
    {
      "cell_type": "markdown",
      "source": [
        "###4.1.9 Vector linear dependence\n",
        "It is a funcamental concept in linear algebra that describes the relationship between bectors in a vector space.\n",
        "\n",
        "A set of vectors ${v_q, v_2, ...,v_n}$ is linearly dependent if there exist scalars $c_1,c_2,...,c_n$, not all zero, such that:\n",
        "\n",
        "$c_1v_1 + c_2v_2 + ... +c_nv_n = 0$\n",
        "\n",
        "For example:\n",
        "\n",
        "$a_1 = \\begin{pmatrix} 1 \\\\ 0 \\\\ 0 \\end{pmatrix}, a_2 = \\begin{pmatrix} 0 \\\\ 1 \\\\ 0 \\end{pmatrix}, a_3 = \\begin{pmatrix} 1 \\\\ 1 \\\\ 0 \\end{pmatrix}$\n",
        "\n",
        "Clearly, $a_3 = a_1 + a_2$, therefore the vectors above are linearly dependent.\n",
        "<br><br>\n",
        "\n",
        "####Linear independence\n",
        "In other words, at least one vector in the set can be expressed as a linear combination of the others.\n",
        "\n",
        "Conversely, a set of vectors is linearly independent if the only solution to:\n",
        "\n",
        "$c_1v_1 + c_2v_2 + ... + c_nv_n$\n",
        "is $c_1 = c_2 = ... = c_n = 0$\n",
        "\n",
        "for example:\n",
        "\n",
        "$a_1 = \\begin{pmatrix} 1 \\\\ 0 \\\\ 0 \\end{pmatrix}, a_2 = \\begin{pmatrix} 0 \\\\ -1 \\\\ 0 \\end{pmatrix}, a_3 = \\begin{pmatrix} -1 \\\\ 0 \\\\ 1 \\end{pmatrix}$\n",
        "\n",
        "From $\\beta_1a_1 + \\beta_2a_2 + \\beta_3a_3 = 0$, we have $ \\beta+1 - \\beta_3 = 0, -\\beta_2 = 0,$ and $\\beta_3 = 0$.Therefore, all $\\beta$ values are 0 and vectors above are linearly independent.\n"
      ],
      "metadata": {
        "id": "qj67dtKhNFo8"
      }
    },
    {
      "cell_type": "markdown",
      "source": [
        "####4.1.9.1 basis\n",
        "\n",
        "A basis in $n$ linearly independent vectors in $n$ dimensions. In other words, two vectors which are linearly independent in two-dimensional vector space. When there are another vectors, they can be expressend as a linear combination of two other linearly independent vectors.\n",
        "\n",
        "So, If $n$ dimentional vector $a_1, \\ldots,a_n$ is a basis, Any $n$ dimensional vector $x$ can be expressed as a linear combination of bases."
      ],
      "metadata": {
        "id": "N7uyBXvtbl6L"
      }
    },
    {
      "cell_type": "markdown",
      "source": [
        "**Example**\n",
        "\n",
        "Express $x = \\begin{bmatrix} 0.3 \\\\ 0.7 \\end{bmatrix}$ as a linear combination of $a1 = \\begin{bmatrix} 2 \\\\ 0 \\end{bmatrix}, a2 = \\begin{bmatrix} 0 \\\\ 3 \\end{bmatrix}$\n",
        "\n",
        "<br>Answer:<br>\n",
        "$\\beta_1\\begin{bmatrix} 2 \\\\ 0 \\end{bmatrix} + \\beta_2\\begin{bmatrix} 0 \\\\ 3 \\end{bmatrix} = \\begin{bmatrix} 0.3 \\\\ 0.7 \\end{bmatrix}$\n",
        "\n",
        "So,\n",
        "$\\,2\\beta_1 =0.3, 3\\beta_2 = 0.7$\n",
        "\n",
        "Therefore, $\\begin{bmatrix} \\beta_1 \\\\ \\beta_2 \\end{bmatrix} = \\begin{bmatrix} \\frac{0.3}{2} \\\\ \\frac{0.7}{3} \\end{bmatrix}$."
      ],
      "metadata": {
        "id": "YVCOVp3Web4r"
      }
    }
  ]
}