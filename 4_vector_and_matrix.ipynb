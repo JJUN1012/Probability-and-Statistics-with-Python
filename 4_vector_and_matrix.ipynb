{
  "nbformat": 4,
  "nbformat_minor": 0,
  "metadata": {
    "colab": {
      "provenance": [],
      "authorship_tag": "ABX9TyO9o28ESeVG2wc+dGPz3X1R",
      "include_colab_link": true
    },
    "kernelspec": {
      "name": "python3",
      "display_name": "Python 3"
    },
    "language_info": {
      "name": "python"
    }
  },
  "cells": [
    {
      "cell_type": "markdown",
      "metadata": {
        "id": "view-in-github",
        "colab_type": "text"
      },
      "source": [
        "<a href=\"https://colab.research.google.com/github/JJUN1012/Probability-and-Statistics-with-Python/blob/main/4_vector_and_matrix.ipynb\" target=\"_parent\"><img src=\"https://colab.research.google.com/assets/colab-badge.svg\" alt=\"Open In Colab\"/></a>"
      ]
    },
    {
      "cell_type": "markdown",
      "source": [
        "###import necessary packages for study"
      ],
      "metadata": {
        "id": "MIsnAnmxSVFt"
      }
    },
    {
      "cell_type": "code",
      "execution_count": 2,
      "metadata": {
        "colab": {
          "base_uri": "https://localhost:8080/"
        },
        "id": "3U3o8dnPQ6EL",
        "outputId": "d022922f-2676-4036-b525-34bc25e3ed2a"
      },
      "outputs": [
        {
          "output_type": "stream",
          "name": "stdout",
          "text": [
            "1.26.4\n",
            "1.13.1\n"
          ]
        }
      ],
      "source": [
        "import numpy as np\n",
        "import scipy\n",
        "from scipy import linalg as la\n",
        "import matplotlib.pyplot as plt\n",
        "\n",
        "#check version\n",
        "print(np.__version__)\n",
        "print(scipy.__version__)"
      ]
    },
    {
      "cell_type": "markdown",
      "source": [
        "#4.1 express of vector"
      ],
      "metadata": {
        "id": "2UI1SE2sVSpt"
      }
    },
    {
      "cell_type": "code",
      "source": [
        "v =  np.array([0.61, 0.93, 0.24, 0.27])\n",
        "v"
      ],
      "metadata": {
        "colab": {
          "base_uri": "https://localhost:8080/"
        },
        "id": "2h5f_fCUWOC7",
        "outputId": "6ca677cc-e0ca-41c5-d266-6108c6d43241"
      },
      "execution_count": 4,
      "outputs": [
        {
          "output_type": "execute_result",
          "data": {
            "text/plain": [
              "array([0.61, 0.93, 0.24, 0.27])"
            ]
          },
          "metadata": {},
          "execution_count": 4
        }
      ]
    },
    {
      "cell_type": "code",
      "source": [
        "print(v[0])\n",
        "print(v[3])"
      ],
      "metadata": {
        "colab": {
          "base_uri": "https://localhost:8080/"
        },
        "id": "E5eRb2OGWYbz",
        "outputId": "a3b09e50-baed-4d2e-a21d-1206ec9562a9"
      },
      "execution_count": 5,
      "outputs": [
        {
          "output_type": "stream",
          "name": "stdout",
          "text": [
            "0.61\n",
            "0.27\n"
          ]
        }
      ]
    },
    {
      "cell_type": "markdown",
      "source": [
        "###4.1.1 size(dimention, length) of vector"
      ],
      "metadata": {
        "id": "i6lS-RFZWjGT"
      }
    },
    {
      "cell_type": "code",
      "source": [
        "v.shape"
      ],
      "metadata": {
        "colab": {
          "base_uri": "https://localhost:8080/"
        },
        "id": "63_mN0B7WvhA",
        "outputId": "8f3504b8-2387-473a-ada5-3af006aadc64"
      },
      "execution_count": 6,
      "outputs": [
        {
          "output_type": "execute_result",
          "data": {
            "text/plain": [
              "(4,)"
            ]
          },
          "metadata": {},
          "execution_count": 6
        }
      ]
    },
    {
      "cell_type": "markdown",
      "source": [
        "###4.1.2 subvector"
      ],
      "metadata": {
        "id": "m0rpgdsIWzaV"
      }
    },
    {
      "cell_type": "code",
      "source": [
        "v_sub = v[0:2]#v[0]-v[1]\n",
        "v_sub"
      ],
      "metadata": {
        "colab": {
          "base_uri": "https://localhost:8080/"
        },
        "id": "3ndKaFhHXSGk",
        "outputId": "3b158aed-12e4-49f8-a9e6-84957b2f2167"
      },
      "execution_count": 7,
      "outputs": [
        {
          "output_type": "execute_result",
          "data": {
            "text/plain": [
              "array([0.61, 0.93])"
            ]
          },
          "metadata": {},
          "execution_count": 7
        }
      ]
    },
    {
      "cell_type": "markdown",
      "source": [
        "###4.1.3 special vectors\n",
        "A zero vector is a vector where all elements are zero."
      ],
      "metadata": {
        "id": "GElKPdh-Xd6H"
      }
    },
    {
      "cell_type": "code",
      "source": [
        "size = 3\n",
        "zeros = np.zeros(shape = (size,))\n",
        "zeros"
      ],
      "metadata": {
        "colab": {
          "base_uri": "https://localhost:8080/"
        },
        "id": "lOiFpFTHYGdv",
        "outputId": "94be026a-afd0-46bb-d1b8-cf599a9a94c3"
      },
      "execution_count": 8,
      "outputs": [
        {
          "output_type": "execute_result",
          "data": {
            "text/plain": [
              "array([0., 0., 0.])"
            ]
          },
          "metadata": {},
          "execution_count": 8
        }
      ]
    },
    {
      "cell_type": "markdown",
      "source": [
        "A vector with one element equal to 1 and all others equal to 0 is called a unit vector.\n",
        "\n",
        "Unit vectors are specially denoted using the $\\mathbf{e}$ notation.\n",
        "\n",
        "$\\mathbf{e}_1 = \\begin{bmatrix} 1 \\\\ 0 \\\\ 0 \\end{bmatrix}$\n",
        " $\\mathbf{e}_2 = \\begin{bmatrix} 0 \\\\ 1 \\\\ 0 \\end{bmatrix}$\n",
        " $\\mathbf{e}_3 = \\begin{bmatrix} 0 \\\\ 0 \\\\ 1 \\end{bmatrix}$\n"
      ],
      "metadata": {
        "id": "r6IWoEhSYROV"
      }
    },
    {
      "cell_type": "code",
      "source": [
        "e = np.zeros(shape = (3,))\n",
        "\n",
        "i = 1 #locate 1\n",
        "\n",
        "e[i] = 1\n",
        "e"
      ],
      "metadata": {
        "colab": {
          "base_uri": "https://localhost:8080/"
        },
        "id": "A2CiCH1FZmPT",
        "outputId": "4904ee3f-ea8e-4a07-ecee-f33c608d3140"
      },
      "execution_count": 11,
      "outputs": [
        {
          "output_type": "execute_result",
          "data": {
            "text/plain": [
              "array([0., 1., 0.])"
            ]
          },
          "metadata": {},
          "execution_count": 11
        }
      ]
    },
    {
      "cell_type": "markdown",
      "source": [
        "A one vector is a vector where all elements are one."
      ],
      "metadata": {
        "id": "reWDHCeRZ_rY"
      }
    },
    {
      "cell_type": "code",
      "source": [
        "one = np.ones(shape = (size,))\n",
        "one"
      ],
      "metadata": {
        "colab": {
          "base_uri": "https://localhost:8080/"
        },
        "id": "-zlgeWFQaG0h",
        "outputId": "1c6d8029-afd2-4ef6-a62d-1dcbdbc11292"
      },
      "execution_count": 12,
      "outputs": [
        {
          "output_type": "execute_result",
          "data": {
            "text/plain": [
              "array([1., 1., 1.])"
            ]
          },
          "metadata": {},
          "execution_count": 12
        }
      ]
    },
    {
      "cell_type": "markdown",
      "source": [
        "###4.1.4 geometric meaning of vectors\n",
        "\n",
        "In two or three-dimensional space, vectors can be interpreted as:\n",
        "\n",
        "* Displacements from one point to another\n",
        "* Forces acting in a particular direction\n",
        "* Velocities with both speed and direction\n",
        "* Any quantity that requires both magnitude and direction to be fully described"
      ],
      "metadata": {
        "id": "id-sS551aOSx"
      }
    },
    {
      "cell_type": "markdown",
      "source": [
        "###4.1.5 Vector Calculation\n",
        "####4.1.5.1 Vector Addition\n",
        "Addition of two vectors of the same size is defined as the sum of their corresponding elements.\n",
        "\n",
        "$\\begin{bmatrix} 1 \\\\ 3 \\end{bmatrix} + \\begin{bmatrix} 3 \\\\ 1 \\end{bmatrix} = \\begin{bmatrix} 4 \\\\ 4 \\end{bmatrix}$\n",
        "\n",
        "The addition operation satisfies the commutative law and the associative law."
      ],
      "metadata": {
        "id": "Pj2dkHsQbEYR"
      }
    },
    {
      "cell_type": "code",
      "source": [
        "a = np.array([1, 3])\n",
        "b = np.array([3, 1])\n",
        "a + b"
      ],
      "metadata": {
        "colab": {
          "base_uri": "https://localhost:8080/"
        },
        "id": "Ns6kByrJdaaN",
        "outputId": "b883a67b-f80f-4ef0-c570-be6b8b9d2bd4"
      },
      "execution_count": 13,
      "outputs": [
        {
          "output_type": "execute_result",
          "data": {
            "text/plain": [
              "array([4, 4])"
            ]
          },
          "metadata": {},
          "execution_count": 13
        }
      ]
    },
    {
      "cell_type": "code",
      "source": [
        "#commutative law\n",
        "a + b == b + a"
      ],
      "metadata": {
        "colab": {
          "base_uri": "https://localhost:8080/"
        },
        "id": "8iPhvVYgdiFN",
        "outputId": "983c3986-a521-4efb-931e-64747fd332ba"
      },
      "execution_count": 14,
      "outputs": [
        {
          "output_type": "execute_result",
          "data": {
            "text/plain": [
              "array([ True,  True])"
            ]
          },
          "metadata": {},
          "execution_count": 14
        }
      ]
    },
    {
      "cell_type": "code",
      "source": [
        "#associative law\n",
        "d = np.array([1, 2])\n",
        "(a + b) + d == a + (b + d)"
      ],
      "metadata": {
        "colab": {
          "base_uri": "https://localhost:8080/"
        },
        "id": "pfxw3o9Tdv-8",
        "outputId": "d95ce6eb-a439-4d09-db26-05e14d799474"
      },
      "execution_count": 15,
      "outputs": [
        {
          "output_type": "execute_result",
          "data": {
            "text/plain": [
              "array([ True,  True])"
            ]
          },
          "metadata": {},
          "execution_count": 15
        }
      ]
    },
    {
      "cell_type": "markdown",
      "source": [
        "####4.1.5.2 Vector subtraction\n",
        "$\\begin{bmatrix} 3 \\\\ 1 \\end{bmatrix} - \\begin{bmatrix} 1 \\\\ 3 \\end{bmatrix} = \\begin{bmatrix} 2 \\\\ -2 \\end{bmatrix}$"
      ],
      "metadata": {
        "id": "1d6h6R5CeSiC"
      }
    },
    {
      "cell_type": "code",
      "source": [
        "b - a"
      ],
      "metadata": {
        "colab": {
          "base_uri": "https://localhost:8080/"
        },
        "id": "1_Xg7LbKlPoT",
        "outputId": "4359dd74-f275-4fc0-e2d4-b50e7c576feb"
      },
      "execution_count": 17,
      "outputs": [
        {
          "output_type": "execute_result",
          "data": {
            "text/plain": [
              "array([ 2, -2])"
            ]
          },
          "metadata": {},
          "execution_count": 17
        }
      ]
    }
  ]
}