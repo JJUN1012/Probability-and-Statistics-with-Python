{
  "nbformat": 4,
  "nbformat_minor": 0,
  "metadata": {
    "colab": {
      "provenance": [],
      "authorship_tag": "ABX9TyMWnXxXrgPk8GdhzsfpOZ00",
      "include_colab_link": true
    },
    "kernelspec": {
      "name": "python3",
      "display_name": "Python 3"
    },
    "language_info": {
      "name": "python"
    }
  },
  "cells": [
    {
      "cell_type": "markdown",
      "metadata": {
        "id": "view-in-github",
        "colab_type": "text"
      },
      "source": [
        "<a href=\"https://colab.research.google.com/github/JJUN1012/Probability-and-Statistics-with-Python/blob/main/4_vector_and_matrix.ipynb\" target=\"_parent\"><img src=\"https://colab.research.google.com/assets/colab-badge.svg\" alt=\"Open In Colab\"/></a>"
      ]
    },
    {
      "cell_type": "markdown",
      "source": [
        "This document is typed with python and $\\LaTeX$"
      ],
      "metadata": {
        "id": "KYBI6j-nKlZ-"
      }
    },
    {
      "cell_type": "markdown",
      "source": [
        "###import necessary packages for study"
      ],
      "metadata": {
        "id": "MIsnAnmxSVFt"
      }
    },
    {
      "cell_type": "code",
      "execution_count": 62,
      "metadata": {
        "colab": {
          "base_uri": "https://localhost:8080/"
        },
        "id": "3U3o8dnPQ6EL",
        "outputId": "2c3f13b3-217e-444e-d20f-03f4193643ff"
      },
      "outputs": [
        {
          "output_type": "stream",
          "name": "stdout",
          "text": [
            "1.26.4\n",
            "1.14.1\n"
          ]
        }
      ],
      "source": [
        "import numpy as np\n",
        "import scipy\n",
        "from scipy import linalg as la\n",
        "import matplotlib.pyplot as plt\n",
        "\n",
        "#check version\n",
        "print(np.__version__)\n",
        "print(scipy.__version__)"
      ]
    },
    {
      "cell_type": "markdown",
      "source": [
        "#4.1 express of vector"
      ],
      "metadata": {
        "id": "2UI1SE2sVSpt"
      }
    },
    {
      "cell_type": "code",
      "source": [
        "v =  np.array([0.61, 0.93, 0.24, 0.27])\n",
        "v"
      ],
      "metadata": {
        "colab": {
          "base_uri": "https://localhost:8080/"
        },
        "id": "2h5f_fCUWOC7",
        "outputId": "d2288497-8dd5-41bd-ffc9-80323f5fcac3"
      },
      "execution_count": 63,
      "outputs": [
        {
          "output_type": "execute_result",
          "data": {
            "text/plain": [
              "array([0.61, 0.93, 0.24, 0.27])"
            ]
          },
          "metadata": {},
          "execution_count": 63
        }
      ]
    },
    {
      "cell_type": "code",
      "source": [
        "print(v[0])\n",
        "print(v[3])"
      ],
      "metadata": {
        "colab": {
          "base_uri": "https://localhost:8080/"
        },
        "id": "E5eRb2OGWYbz",
        "outputId": "5d44066d-b708-4089-f6f9-481163d6c712"
      },
      "execution_count": 64,
      "outputs": [
        {
          "output_type": "stream",
          "name": "stdout",
          "text": [
            "0.61\n",
            "0.27\n"
          ]
        }
      ]
    },
    {
      "cell_type": "markdown",
      "source": [
        "###4.1.1 size(dimention, length) of vector"
      ],
      "metadata": {
        "id": "i6lS-RFZWjGT"
      }
    },
    {
      "cell_type": "code",
      "source": [
        "v.shape"
      ],
      "metadata": {
        "colab": {
          "base_uri": "https://localhost:8080/"
        },
        "id": "63_mN0B7WvhA",
        "outputId": "72c13fa5-ff93-4a3e-a455-bbda63d46219"
      },
      "execution_count": 65,
      "outputs": [
        {
          "output_type": "execute_result",
          "data": {
            "text/plain": [
              "(4,)"
            ]
          },
          "metadata": {},
          "execution_count": 65
        }
      ]
    },
    {
      "cell_type": "markdown",
      "source": [
        "###4.1.2 subvector"
      ],
      "metadata": {
        "id": "m0rpgdsIWzaV"
      }
    },
    {
      "cell_type": "code",
      "source": [
        "v_sub = v[0:2]#v[0]-v[1]\n",
        "v_sub"
      ],
      "metadata": {
        "colab": {
          "base_uri": "https://localhost:8080/"
        },
        "id": "3ndKaFhHXSGk",
        "outputId": "6547a285-0f55-4eb4-a999-6b8dc0a5a74a"
      },
      "execution_count": 66,
      "outputs": [
        {
          "output_type": "execute_result",
          "data": {
            "text/plain": [
              "array([0.61, 0.93])"
            ]
          },
          "metadata": {},
          "execution_count": 66
        }
      ]
    },
    {
      "cell_type": "markdown",
      "source": [
        "###4.1.3 special vectors\n",
        "A zero vector is a vector where all elements are zero."
      ],
      "metadata": {
        "id": "GElKPdh-Xd6H"
      }
    },
    {
      "cell_type": "code",
      "source": [
        "size = 3\n",
        "zeros = np.zeros(shape = (size,))\n",
        "zeros"
      ],
      "metadata": {
        "colab": {
          "base_uri": "https://localhost:8080/"
        },
        "id": "lOiFpFTHYGdv",
        "outputId": "9c72c13c-2d9e-4745-c411-cc31607c44b3"
      },
      "execution_count": 67,
      "outputs": [
        {
          "output_type": "execute_result",
          "data": {
            "text/plain": [
              "array([0., 0., 0.])"
            ]
          },
          "metadata": {},
          "execution_count": 67
        }
      ]
    },
    {
      "cell_type": "markdown",
      "source": [
        "A vector with one element equal to 1 and all others equal to 0 is called a unit vector.\n",
        "\n",
        "Unit vectors are specially denoted using the $\\mathbf{e}$ notation.\n",
        "\n",
        "$\\mathbf{e}_1 = \\begin{bmatrix} 1 \\\\ 0 \\\\ 0 \\end{bmatrix}$\n",
        " $\\mathbf{e}_2 = \\begin{bmatrix} 0 \\\\ 1 \\\\ 0 \\end{bmatrix}$\n",
        " $\\mathbf{e}_3 = \\begin{bmatrix} 0 \\\\ 0 \\\\ 1 \\end{bmatrix}$\n"
      ],
      "metadata": {
        "id": "r6IWoEhSYROV"
      }
    },
    {
      "cell_type": "code",
      "source": [
        "e = np.zeros(shape = (3,))\n",
        "\n",
        "i = 1 #locate 1\n",
        "\n",
        "e[i] = 1\n",
        "e"
      ],
      "metadata": {
        "colab": {
          "base_uri": "https://localhost:8080/"
        },
        "id": "A2CiCH1FZmPT",
        "outputId": "341d41a0-9f6d-4137-e720-dbb9f4d3f95f"
      },
      "execution_count": 68,
      "outputs": [
        {
          "output_type": "execute_result",
          "data": {
            "text/plain": [
              "array([0., 1., 0.])"
            ]
          },
          "metadata": {},
          "execution_count": 68
        }
      ]
    },
    {
      "cell_type": "markdown",
      "source": [
        "A one vector is a vector where all elements are one."
      ],
      "metadata": {
        "id": "reWDHCeRZ_rY"
      }
    },
    {
      "cell_type": "code",
      "source": [
        "one = np.ones(shape = (size,))\n",
        "one"
      ],
      "metadata": {
        "colab": {
          "base_uri": "https://localhost:8080/"
        },
        "id": "-zlgeWFQaG0h",
        "outputId": "405a032a-5adf-48b1-c31f-579c6062ae9d"
      },
      "execution_count": 69,
      "outputs": [
        {
          "output_type": "execute_result",
          "data": {
            "text/plain": [
              "array([1., 1., 1.])"
            ]
          },
          "metadata": {},
          "execution_count": 69
        }
      ]
    },
    {
      "cell_type": "markdown",
      "source": [
        "###4.1.4 geometric meaning of vectors\n",
        "\n",
        "In two or three-dimensional space, vectors can be interpreted as:\n",
        "\n",
        "* Displacements from one point to another\n",
        "* Forces acting in a particular direction\n",
        "* Velocities with both speed and direction\n",
        "* Any quantity that requires both magnitude and direction to be fully described"
      ],
      "metadata": {
        "id": "id-sS551aOSx"
      }
    },
    {
      "cell_type": "markdown",
      "source": [
        "###4.1.5 Vector Calculation\n",
        "####4.1.5.1 Vector Addition\n",
        "Addition of two vectors of the same size is defined as the sum of their corresponding elements.\n",
        "\n",
        "$\\begin{bmatrix} 1 \\\\ 3 \\end{bmatrix} + \\begin{bmatrix} 3 \\\\ 1 \\end{bmatrix} = \\begin{bmatrix} 4 \\\\ 4 \\end{bmatrix}$\n",
        "\n",
        "The addition operation satisfies the commutative law and the associative law."
      ],
      "metadata": {
        "id": "Pj2dkHsQbEYR"
      }
    },
    {
      "cell_type": "code",
      "source": [
        "a = np.array([1, 3])\n",
        "b = np.array([3, 1])\n",
        "a + b"
      ],
      "metadata": {
        "colab": {
          "base_uri": "https://localhost:8080/"
        },
        "id": "Ns6kByrJdaaN",
        "outputId": "02b3de0d-4322-451f-d831-0d1eeadc456c"
      },
      "execution_count": 70,
      "outputs": [
        {
          "output_type": "execute_result",
          "data": {
            "text/plain": [
              "array([4, 4])"
            ]
          },
          "metadata": {},
          "execution_count": 70
        }
      ]
    },
    {
      "cell_type": "code",
      "source": [
        "#commutative law\n",
        "a + b == b + a"
      ],
      "metadata": {
        "colab": {
          "base_uri": "https://localhost:8080/"
        },
        "id": "8iPhvVYgdiFN",
        "outputId": "29b42a82-86c3-4977-d93d-5686ab66f924"
      },
      "execution_count": 71,
      "outputs": [
        {
          "output_type": "execute_result",
          "data": {
            "text/plain": [
              "array([ True,  True])"
            ]
          },
          "metadata": {},
          "execution_count": 71
        }
      ]
    },
    {
      "cell_type": "code",
      "source": [
        "#associative law\n",
        "d = np.array([1, 2])\n",
        "(a + b) + d == a + (b + d)"
      ],
      "metadata": {
        "colab": {
          "base_uri": "https://localhost:8080/"
        },
        "id": "pfxw3o9Tdv-8",
        "outputId": "8b09ef2b-7f71-4f8f-846b-496ef8c148f9"
      },
      "execution_count": 72,
      "outputs": [
        {
          "output_type": "execute_result",
          "data": {
            "text/plain": [
              "array([ True,  True])"
            ]
          },
          "metadata": {},
          "execution_count": 72
        }
      ]
    },
    {
      "cell_type": "markdown",
      "source": [
        "####4.1.5.2 Vector subtraction\n",
        "$\\begin{bmatrix} 3 \\\\ 1 \\end{bmatrix} - \\begin{bmatrix} 1 \\\\ 3 \\end{bmatrix} = \\begin{bmatrix} 2 \\\\ -2 \\end{bmatrix}$"
      ],
      "metadata": {
        "id": "1d6h6R5CeSiC"
      }
    },
    {
      "cell_type": "code",
      "source": [
        "b - a"
      ],
      "metadata": {
        "colab": {
          "base_uri": "https://localhost:8080/"
        },
        "id": "1_Xg7LbKlPoT",
        "outputId": "94548309-61fb-46c8-8075-93f7fbba473d"
      },
      "execution_count": 73,
      "outputs": [
        {
          "output_type": "execute_result",
          "data": {
            "text/plain": [
              "array([ 2, -2])"
            ]
          },
          "metadata": {},
          "execution_count": 73
        }
      ]
    },
    {
      "cell_type": "markdown",
      "source": [
        "####4.1.5.3 Scalar-Vector multiplication\n",
        "Multiply all elments of a vector by scalar\n",
        "\n",
        "$\\begin{bmatrix} \\dfrac{1}{2} \\end{bmatrix} \\begin{bmatrix} 2 \\\\ 3 \\end{bmatrix} = \\begin{bmatrix} 1 \\\\ 1.5 \\end{bmatrix}$  \n",
        "\n",
        "$\\begin{bmatrix} 2 \\\\ 3 \\end{bmatrix} \\begin{bmatrix} \\dfrac{1}{2} \\end{bmatrix} = \\begin{bmatrix} 1 \\\\ 1.5 \\end{bmatrix}$  "
      ],
      "metadata": {
        "id": "gtDbt9ndmrZt"
      }
    },
    {
      "cell_type": "code",
      "source": [
        "alpha = 1/2\n",
        "a = np.array([2, 3])\n",
        "alpha * a"
      ],
      "metadata": {
        "colab": {
          "base_uri": "https://localhost:8080/"
        },
        "id": "Bzy-Un16obV6",
        "outputId": "7bfac924-e511-4c2e-ee9a-939794d63d18"
      },
      "execution_count": 74,
      "outputs": [
        {
          "output_type": "execute_result",
          "data": {
            "text/plain": [
              "array([1. , 1.5])"
            ]
          },
          "metadata": {},
          "execution_count": 74
        }
      ]
    },
    {
      "cell_type": "code",
      "source": [
        "#commutative law\n",
        "a * alpha == alpha * a"
      ],
      "metadata": {
        "colab": {
          "base_uri": "https://localhost:8080/"
        },
        "id": "45tgr8PZoz2q",
        "outputId": "67590dc4-6d01-4401-d04d-9f5dd38d1994"
      },
      "execution_count": 75,
      "outputs": [
        {
          "output_type": "execute_result",
          "data": {
            "text/plain": [
              "array([ True,  True])"
            ]
          },
          "metadata": {},
          "execution_count": 75
        }
      ]
    },
    {
      "cell_type": "code",
      "source": [
        "#distributive law\n",
        "beta = 0.7\n",
        "(alpha + beta) * a == alpha * a + beta * a"
      ],
      "metadata": {
        "colab": {
          "base_uri": "https://localhost:8080/"
        },
        "id": "EfC6MCy7pFI8",
        "outputId": "b33dd7eb-d164-473a-e9bb-1abbebd525dc"
      },
      "execution_count": 76,
      "outputs": [
        {
          "output_type": "execute_result",
          "data": {
            "text/plain": [
              "array([ True,  True])"
            ]
          },
          "metadata": {},
          "execution_count": 76
        }
      ]
    },
    {
      "cell_type": "markdown",
      "source": [
        "####4.1.5.4 Linear Combination\n",
        "Linear combination is a fundamental concept in linear algebra that refers to the weighted sum of vectors.\n",
        "\n",
        "a₁v₁ + a₂v₂ + ... + aₙvₙ"
      ],
      "metadata": {
        "id": "uzMab2qmpk3k"
      }
    },
    {
      "cell_type": "markdown",
      "source": [
        "###4.1.6 inner product\n",
        "$a^Tb = \\sum_{i=1}^{n} a_ib_i$\n",
        "\n",
        "T is a notation for transpose\n",
        "\n",
        "it can be also expressed with $a \\cdot b ,  < a,  b >$\n",
        "\n",
        "$\\begin{bmatrix} -1 \\\\ 2 \\\\ 3\\end{bmatrix}^T \\begin{bmatrix} 1 \\\\ -2 \\\\ 4 \\end{bmatrix} = sum \\begin{bmatrix} -1 \\\\ -4 \\\\ 12 \\end{bmatrix} = 7$"
      ],
      "metadata": {
        "id": "PTJkWP2urXr5"
      }
    },
    {
      "cell_type": "code",
      "source": [
        "a =  np.array([-1, 2, 3])\n",
        "b =  np.array([1, -2, 4])\n",
        "\n",
        "print(a * b)\n",
        "np.sum (a * b)"
      ],
      "metadata": {
        "colab": {
          "base_uri": "https://localhost:8080/"
        },
        "id": "DQg9N83Ftdj2",
        "outputId": "d63f890b-2868-4761-9cd3-65afb0d2a070"
      },
      "execution_count": 77,
      "outputs": [
        {
          "output_type": "stream",
          "name": "stdout",
          "text": [
            "[-1 -4 12]\n"
          ]
        },
        {
          "output_type": "execute_result",
          "data": {
            "text/plain": [
              "7"
            ]
          },
          "metadata": {},
          "execution_count": 77
        }
      ]
    },
    {
      "cell_type": "code",
      "source": [
        "#with function\n",
        "print(np.inner(a, b))\n",
        "print(np.dot(a, b))"
      ],
      "metadata": {
        "colab": {
          "base_uri": "https://localhost:8080/"
        },
        "id": "wXOpHknVtzsj",
        "outputId": "c7db8984-4887-45d2-8802-dd5ce20e3339"
      },
      "execution_count": 78,
      "outputs": [
        {
          "output_type": "stream",
          "name": "stdout",
          "text": [
            "7\n",
            "7\n"
          ]
        }
      ]
    },
    {
      "cell_type": "code",
      "source": [
        "#commutative law\n",
        "np.dot(a, b) == np.dot(b, a)"
      ],
      "metadata": {
        "colab": {
          "base_uri": "https://localhost:8080/"
        },
        "id": "nfYiQnFYw2YL",
        "outputId": "45db2f3e-9756-4470-d2cd-4e6335aaaf57"
      },
      "execution_count": 79,
      "outputs": [
        {
          "output_type": "execute_result",
          "data": {
            "text/plain": [
              "True"
            ]
          },
          "metadata": {},
          "execution_count": 79
        }
      ]
    },
    {
      "cell_type": "code",
      "source": [
        "#associative law\n",
        "alpha = 0.5\n",
        "np.dot(alpha * a, b) == alpha * np.dot(a, b)"
      ],
      "metadata": {
        "colab": {
          "base_uri": "https://localhost:8080/"
        },
        "id": "Y9mDP361xDJT",
        "outputId": "43cb087d-3d0a-4ac0-f49a-88e57243482a"
      },
      "execution_count": 80,
      "outputs": [
        {
          "output_type": "execute_result",
          "data": {
            "text/plain": [
              "True"
            ]
          },
          "metadata": {},
          "execution_count": 80
        }
      ]
    },
    {
      "cell_type": "code",
      "source": [
        "#distributive law\n",
        "c = np.array([1, 2, 3])\n",
        "np.dot(a + b, c) == np.dot(a, c) + np.dot(b, c)"
      ],
      "metadata": {
        "colab": {
          "base_uri": "https://localhost:8080/"
        },
        "id": "_aMMYfC7xSIZ",
        "outputId": "8619c423-1ed7-4506-f6a3-6e48b68e39ec"
      },
      "execution_count": 81,
      "outputs": [
        {
          "output_type": "execute_result",
          "data": {
            "text/plain": [
              "True"
            ]
          },
          "metadata": {},
          "execution_count": 81
        }
      ]
    },
    {
      "cell_type": "markdown",
      "source": [
        "some usuage of inner product\n",
        "1. $1^Ta = a_1 + \\ldots +a_n = \\sum_{i=1}^{n} a_i$\n",
        "2. $\\frac{1}{n}1^Ta = \\frac{1}{n}(a_1 + \\ldots + a_n) = \\bar{a}$\n",
        "3. $a^Ta = a^2_1 + \\ldots + a^2_n$"
      ],
      "metadata": {
        "id": "inY9GwCxycU7"
      }
    },
    {
      "cell_type": "code",
      "source": [
        "a = np.array([1, 2, 3])\n",
        "size = len(a)\n",
        "ones = np.ones(shape=(size, ))\n",
        "np.dot(ones, a)"
      ],
      "metadata": {
        "colab": {
          "base_uri": "https://localhost:8080/"
        },
        "id": "2vvl0-rrzTiU",
        "outputId": "89538c5f-b75e-4c71-e722-f456c7ab9935"
      },
      "execution_count": 82,
      "outputs": [
        {
          "output_type": "execute_result",
          "data": {
            "text/plain": [
              "6.0"
            ]
          },
          "metadata": {},
          "execution_count": 82
        }
      ]
    },
    {
      "cell_type": "code",
      "source": [
        "np.dot(ones, a) / len(a)"
      ],
      "metadata": {
        "colab": {
          "base_uri": "https://localhost:8080/"
        },
        "id": "l4MnBDsr08Bu",
        "outputId": "c129b537-f4d6-4671-9219-59bcf991d107"
      },
      "execution_count": 83,
      "outputs": [
        {
          "output_type": "execute_result",
          "data": {
            "text/plain": [
              "2.0"
            ]
          },
          "metadata": {},
          "execution_count": 83
        }
      ]
    },
    {
      "cell_type": "code",
      "source": [
        "np.dot(a, a)"
      ],
      "metadata": {
        "colab": {
          "base_uri": "https://localhost:8080/"
        },
        "id": "d5BxIJVe1AaM",
        "outputId": "40b90788-65bd-4c5c-bf50-ff53e199e4a2"
      },
      "execution_count": 84,
      "outputs": [
        {
          "output_type": "execute_result",
          "data": {
            "text/plain": [
              "14"
            ]
          },
          "metadata": {},
          "execution_count": 84
        }
      ]
    },
    {
      "cell_type": "markdown",
      "source": [
        "###4.1.7 Vector norm\n",
        "This is Euclidean norm of Vector.\n",
        "Norm means length or magnitude of vector\n",
        "\n",
        "$||a||_2 = \\sqrt{a^Ta} = \\sqrt{a^2_1 + \\ldots + a^2_n}$\n",
        "\n",
        "example\n",
        "\n",
        "$\\bigg|\\bigg|\\begin{bmatrix} 2 \\\\ 3 \\end{bmatrix}\\bigg|\\bigg|= \\sqrt{\\begin{bmatrix}2 \\\\ 3 \\end{bmatrix}^T\\begin{bmatrix}2 \\\\ 3 \\end{bmatrix}} = \\sqrt{sum\\begin{bmatrix}4 \\\\ 9 \\end{bmatrix}} = \\sqrt{13} = 3.606...$"
      ],
      "metadata": {
        "id": "01DpL-BD1Kw8"
      }
    },
    {
      "cell_type": "code",
      "source": [
        "a = np.array([2, 3])\n",
        "la.norm(a)"
      ],
      "metadata": {
        "colab": {
          "base_uri": "https://localhost:8080/"
        },
        "id": "1bNdkedX3qDa",
        "outputId": "a14d2f56-491d-448d-d5c8-524c4228d065"
      },
      "execution_count": 85,
      "outputs": [
        {
          "output_type": "execute_result",
          "data": {
            "text/plain": [
              "3.605551275463989"
            ]
          },
          "metadata": {},
          "execution_count": 85
        }
      ]
    },
    {
      "cell_type": "markdown",
      "source": [
        "A norm satisfies the following properties.\n",
        "\n",
        "* $||\\beta a|| = |\\beta|\\,||a||$\n",
        "* $||a + b|| \\leq ||a|| + ||b||$\n",
        "* $||a|| \\geq 0$\n",
        "* $||a|| = 0 \\Rightarrow a = 0$"
      ],
      "metadata": {
        "id": "GQxp-sLs4Czg"
      }
    },
    {
      "cell_type": "code",
      "source": [
        "a = np.array([-1, 2, 3])\n",
        "b = np.array([1, -2, 4])\n",
        "\n",
        "beta = 0.5\n",
        "la.norm(beta * a) == np.abs(beta) * la.norm(a)"
      ],
      "metadata": {
        "colab": {
          "base_uri": "https://localhost:8080/"
        },
        "id": "gma9FmdJ7lfd",
        "outputId": "30d068a2-fa81-40c7-aa1f-5ef47bf7e93f"
      },
      "execution_count": 86,
      "outputs": [
        {
          "output_type": "execute_result",
          "data": {
            "text/plain": [
              "True"
            ]
          },
          "metadata": {},
          "execution_count": 86
        }
      ]
    },
    {
      "cell_type": "code",
      "source": [
        "la.norm(a + b) <= la.norm(a) + la.norm(b)"
      ],
      "metadata": {
        "colab": {
          "base_uri": "https://localhost:8080/"
        },
        "id": "m38fwzGn7_8k",
        "outputId": "fa2cdd54-37f1-4119-9896-7dc21a405ec0"
      },
      "execution_count": 87,
      "outputs": [
        {
          "output_type": "execute_result",
          "data": {
            "text/plain": [
              "True"
            ]
          },
          "metadata": {},
          "execution_count": 87
        }
      ]
    },
    {
      "cell_type": "code",
      "source": [
        "la.norm(a) >= 0"
      ],
      "metadata": {
        "colab": {
          "base_uri": "https://localhost:8080/"
        },
        "id": "PzbmpjQw8SxV",
        "outputId": "c0d42465-11bd-4358-ee2d-227f134a79b7"
      },
      "execution_count": 88,
      "outputs": [
        {
          "output_type": "execute_result",
          "data": {
            "text/plain": [
              "True"
            ]
          },
          "metadata": {},
          "execution_count": 88
        }
      ]
    },
    {
      "cell_type": "code",
      "source": [
        "print(la.norm(np.zeros(shape=(2,))))\n",
        "a == 0"
      ],
      "metadata": {
        "colab": {
          "base_uri": "https://localhost:8080/"
        },
        "id": "byG3slgp8dWi",
        "outputId": "d3f4eca6-4ace-4302-aac2-31a771327c92"
      },
      "execution_count": 89,
      "outputs": [
        {
          "output_type": "stream",
          "name": "stdout",
          "text": [
            "0.0\n"
          ]
        },
        {
          "output_type": "execute_result",
          "data": {
            "text/plain": [
              "array([False, False, False])"
            ]
          },
          "metadata": {},
          "execution_count": 89
        }
      ]
    },
    {
      "cell_type": "markdown",
      "source": [
        "###4.1.8 Inner product & Norm\n",
        "\n",
        "$u\\cdot v = ||u||\\,||v||\\,cos\\theta$\n",
        "\n",
        "This formula showes that the inner product is in propotional to length of the vectors and $cos$ of angle between the vectors.\n",
        "\n",
        "1.   When both of Vectors are heading the same direction($\\theta = 0^\\circ$), the inner product has the max value.\n",
        "2.   When two Vectors are perpendicular($\\theta=90^\\circ$), the inner product is 0.\n",
        "3.   When two Vectors are heading completely opposite directions($\\theta = 180^\\circ$), the inner product has the min value.\n",
        "\n",
        "\n"
      ],
      "metadata": {
        "id": "NIdi6n5IDVx_"
      }
    },
    {
      "cell_type": "markdown",
      "source": [
        "###4.1.9 Vector linear dependence\n",
        "It is a funcamental concept in linear algebra that describes the relationship between bectors in a vector space.\n",
        "\n",
        "A set of vectors ${v_q, v_2, ...,v_n}$ is linearly dependent if there exist scalars $c_1,c_2,...,c_n$, not all zero, such that:\n",
        "\n",
        "$c_1v_1 + c_2v_2 + ... +c_nv_n = 0$\n",
        "\n",
        "For example:\n",
        "\n",
        "$a_1 = \\begin{pmatrix} 1 \\\\ 0 \\\\ 0 \\end{pmatrix}, a_2 = \\begin{pmatrix} 0 \\\\ 1 \\\\ 0 \\end{pmatrix}, a_3 = \\begin{pmatrix} 1 \\\\ 1 \\\\ 0 \\end{pmatrix}$\n",
        "\n",
        "Clearly, $a_3 = a_1 + a_2$, therefore the vectors above are linearly dependent.\n",
        "<br><br>\n",
        "\n",
        "####Linear independence\n",
        "In other words, at least one vector in the set can be expressed as a linear combination of the others.\n",
        "\n",
        "Conversely, a set of vectors is linearly independent if the only solution to:\n",
        "\n",
        "$c_1v_1 + c_2v_2 + ... + c_nv_n$\n",
        "is $c_1 = c_2 = ... = c_n = 0$\n",
        "\n",
        "for example:\n",
        "\n",
        "$a_1 = \\begin{pmatrix} 1 \\\\ 0 \\\\ 0 \\end{pmatrix}, a_2 = \\begin{pmatrix} 0 \\\\ -1 \\\\ 0 \\end{pmatrix}, a_3 = \\begin{pmatrix} -1 \\\\ 0 \\\\ 1 \\end{pmatrix}$\n",
        "\n",
        "From $\\beta_1a_1 + \\beta_2a_2 + \\beta_3a_3 = 0$, we have $ \\beta+1 - \\beta_3 = 0, -\\beta_2 = 0,$ and $\\beta_3 = 0$.Therefore, all $\\beta$ values are 0 and vectors above are linearly independent.\n"
      ],
      "metadata": {
        "id": "qj67dtKhNFo8"
      }
    },
    {
      "cell_type": "markdown",
      "source": [
        "####4.1.9.1 basis\n",
        "\n",
        "A basis in $n$ linearly independent vectors in $n$ dimensions. In other words, two vectors which are linearly independent in two-dimensional vector space. When there are another vectors, they can be expressend as a linear combination of two other linearly independent vectors.\n",
        "\n",
        "So, If $n$ dimentional vector $a_1, \\ldots,a_n$ is a basis, Any $n$ dimensional vector $x$ can be expressed as a linear combination of bases."
      ],
      "metadata": {
        "id": "N7uyBXvtbl6L"
      }
    },
    {
      "cell_type": "markdown",
      "source": [
        "**Example**\n",
        "\n",
        "Express $x = \\begin{bmatrix} 0.3 \\\\ 0.7 \\end{bmatrix}$ as a linear combination of $a1 = \\begin{bmatrix} 2 \\\\ 0 \\end{bmatrix}, a2 = \\begin{bmatrix} 0 \\\\ 3 \\end{bmatrix}$\n",
        "\n",
        "<br>Answer:<br>\n",
        "$\\beta_1\\begin{bmatrix} 2 \\\\ 0 \\end{bmatrix} + \\beta_2\\begin{bmatrix} 0 \\\\ 3 \\end{bmatrix} = \\begin{bmatrix} 0.3 \\\\ 0.7 \\end{bmatrix}$\n",
        "\n",
        "So,\n",
        "$\\,2\\beta_1 =0.3, 3\\beta_2 = 0.7$\n",
        "\n",
        "Therefore, $\\begin{bmatrix} \\beta_1 \\\\ \\beta_2 \\end{bmatrix} = \\begin{bmatrix} \\frac{0.3}{2} \\\\ \\frac{0.7}{3} \\end{bmatrix}$."
      ],
      "metadata": {
        "id": "YVCOVp3Web4r"
      }
    },
    {
      "cell_type": "markdown",
      "source": [
        "####4.1.9.2 Orthonormal vector\n",
        "\n",
        "$a_1 \\cdots a_n$ being orthonormal means that they form a set of vectors that are mutually orthogonal while simultaneously each having a length of 1.\n",
        "\n",
        "In the other words, when $i = j$, the dot product, $a_i^T \\cdot a_j = 1$, and when $i \\neq j$, the dot product, $a_i^T \\cdot a_j = 0$\n",
        "\n",
        "**example**\n",
        "\n",
        "$a_1 = \\begin{bmatrix} 0 \\\\ 0 \\\\ 1 \\end{bmatrix},\n",
        "a_2 = \\frac{1}{\\sqrt{2}} \\begin{bmatrix} 1 \\\\ 1 \\\\ 0 \\end{bmatrix},\n",
        "a_3 = \\frac{1}{\\sqrt{2}} \\begin{bmatrix} 1 \\\\ -1 \\\\ 0 \\end{bmatrix}$"
      ],
      "metadata": {
        "id": "RRvtUIacO9V6"
      }
    },
    {
      "cell_type": "code",
      "source": [
        "a1 = np.array([0, 0, 1]).reshape(-1, 1)\n",
        "a2 = 1/np.sqrt(2) * np.array([1, 1, 0]).reshape(-1, 1)\n",
        "a3 = 1/np.sqrt(2) * np.array([1, -1, 0]).reshape(-1, 1)\n",
        "\n",
        "A = np.concatenate((a1, a2, a3), axis = 1)\n",
        "\n",
        "np.round(A.T @ A, 2)"
      ],
      "metadata": {
        "colab": {
          "base_uri": "https://localhost:8080/"
        },
        "id": "SC6HTywbSC0z",
        "outputId": "5fec9dbb-e522-469e-d3d2-9610fca3a1b0"
      },
      "execution_count": 90,
      "outputs": [
        {
          "output_type": "execute_result",
          "data": {
            "text/plain": [
              "array([[ 1.,  0.,  0.],\n",
              "       [ 0.,  1., -0.],\n",
              "       [ 0., -0.,  1.]])"
            ]
          },
          "metadata": {},
          "execution_count": 90
        }
      ]
    },
    {
      "cell_type": "markdown",
      "source": [
        "#4.2 Express of matrix\n",
        "Matirx is an array that is divided with row and column.\n",
        "\n",
        "You can define elements of matrix as numbers or characters\n",
        "\n",
        "$A = \\begin{bmatrix}\n",
        "-1.09 & 1 & 0.28 & -1.51 \\\\\n",
        " -0.58 & 1.65 & -2.43 & -0.43 \\\\\n",
        "  1.27 & -0.87 & -0.68 & -0.09 \\\\\n",
        "   1.49 & -0.64 & -0.44 & -0.43\n",
        "   \\end{bmatrix}$\n",
        "\n",
        "$B = \\begin{bmatrix}\n",
        "a & c \\\\\n",
        "b & d\n",
        "\\end{bmatrix}$"
      ],
      "metadata": {
        "id": "-Ve-zY56XMGH"
      }
    },
    {
      "cell_type": "code",
      "source": [
        "A = np.array(np.random.RandomState(123).normal(size = 16)).reshape(4, 4)\n",
        "A.round(3)"
      ],
      "metadata": {
        "colab": {
          "base_uri": "https://localhost:8080/"
        },
        "id": "t_H5fyr5Zq-M",
        "outputId": "dd0b4f6a-7b27-4a71-f983-c63278f7b9ee"
      },
      "execution_count": 91,
      "outputs": [
        {
          "output_type": "execute_result",
          "data": {
            "text/plain": [
              "array([[-1.086,  0.997,  0.283, -1.506],\n",
              "       [-0.579,  1.651, -2.427, -0.429],\n",
              "       [ 1.266, -0.867, -0.679, -0.095],\n",
              "       [ 1.491, -0.639, -0.444, -0.434]])"
            ]
          },
          "metadata": {},
          "execution_count": 91
        }
      ]
    },
    {
      "cell_type": "markdown",
      "source": [
        "###4.2.1 Size of matrix\n",
        "\n",
        "Size of matrix is defined with count of row & column. In 4.2, A matrix has 4 rows and 4 columns, so it is called **4 by 4** matrix.\n",
        "\n",
        "Also you can express like $A_{n\\times p}$\n",
        "\n",
        "Especially, a matrix which has the same count of rows and columns is called **square matrix**."
      ],
      "metadata": {
        "id": "SQs4gZ_ZZ8zV"
      }
    },
    {
      "cell_type": "code",
      "source": [
        "A = np.array(np.random.RandomState(123).normal(size = 12)).reshape(3, 4)\n",
        "A.shape"
      ],
      "metadata": {
        "colab": {
          "base_uri": "https://localhost:8080/"
        },
        "id": "YXPVn4Pfbucg",
        "outputId": "0bd77da8-4eee-4417-8b33-5a693bc84868"
      },
      "execution_count": 92,
      "outputs": [
        {
          "output_type": "execute_result",
          "data": {
            "text/plain": [
              "(3, 4)"
            ]
          },
          "metadata": {},
          "execution_count": 92
        }
      ]
    },
    {
      "cell_type": "markdown",
      "source": [
        "###4.2.2 Row vector and Column vector\n",
        "\n",
        "A vector which consists of row only is called row vector, and a vector which consists of column only is called column vector.\n",
        "\n",
        "**Example**\n",
        "\n",
        "$A = \\begin{bmatrix}\n",
        "3 & 3 & 7 & 2\\\\\n",
        "4 & 11 & 10 & 7 \\\\\n",
        "2 & 1 & 2 & 10\n",
        "\\end{bmatrix}$\n",
        "\n",
        "In this matrix, $\\begin{bmatrix}3 \\\\ 4 \\\\ 2\\end{bmatrix}$ is one of the column vectors, and $\\begin{bmatrix}3 & 3 & 7 & 2\\end{bmatrix}$ is one of the row vectors."
      ],
      "metadata": {
        "id": "r6NEocwTcAHO"
      }
    },
    {
      "cell_type": "code",
      "source": [
        "A = np.array(np.random.RandomState(123).randint(1, 12, size = 12)).reshape(3, 4)\n",
        "A"
      ],
      "metadata": {
        "colab": {
          "base_uri": "https://localhost:8080/"
        },
        "id": "jGF9zScTdMas",
        "outputId": "9dd95ad9-06ae-43ec-ba98-854f8442a1ba"
      },
      "execution_count": 93,
      "outputs": [
        {
          "output_type": "execute_result",
          "data": {
            "text/plain": [
              "array([[ 3,  3,  7,  2],\n",
              "       [ 4, 11, 10,  7],\n",
              "       [ 2,  1,  2, 10]])"
            ]
          },
          "metadata": {},
          "execution_count": 93
        }
      ]
    },
    {
      "cell_type": "code",
      "source": [
        "#Row vector\n",
        "display(A[:, 0])\n",
        "display(A[:, 1])\n",
        "display(A[:, 2])\n",
        "display(A[:, 3])"
      ],
      "metadata": {
        "colab": {
          "base_uri": "https://localhost:8080/",
          "height": 90
        },
        "id": "YgL4Jv_sdUfu",
        "outputId": "4b672b62-0995-420c-b2af-289b5f96e1e4"
      },
      "execution_count": 94,
      "outputs": [
        {
          "output_type": "display_data",
          "data": {
            "text/plain": [
              "array([3, 4, 2])"
            ]
          },
          "metadata": {}
        },
        {
          "output_type": "display_data",
          "data": {
            "text/plain": [
              "array([ 3, 11,  1])"
            ]
          },
          "metadata": {}
        },
        {
          "output_type": "display_data",
          "data": {
            "text/plain": [
              "array([ 7, 10,  2])"
            ]
          },
          "metadata": {}
        },
        {
          "output_type": "display_data",
          "data": {
            "text/plain": [
              "array([ 2,  7, 10])"
            ]
          },
          "metadata": {}
        }
      ]
    },
    {
      "cell_type": "code",
      "source": [
        "#Column vector\n",
        "display(A[0, :])\n",
        "display(A[1, :])\n",
        "display(A[2, :])"
      ],
      "metadata": {
        "colab": {
          "base_uri": "https://localhost:8080/",
          "height": 72
        },
        "id": "BM2PUXsSdg-l",
        "outputId": "1fe93a4e-2124-4055-bbc2-e4251a7c9a6d"
      },
      "execution_count": 95,
      "outputs": [
        {
          "output_type": "display_data",
          "data": {
            "text/plain": [
              "array([3, 3, 7, 2])"
            ]
          },
          "metadata": {}
        },
        {
          "output_type": "display_data",
          "data": {
            "text/plain": [
              "array([ 4, 11, 10,  7])"
            ]
          },
          "metadata": {}
        },
        {
          "output_type": "display_data",
          "data": {
            "text/plain": [
              "array([ 2,  1,  2, 10])"
            ]
          },
          "metadata": {}
        }
      ]
    },
    {
      "cell_type": "markdown",
      "source": [
        "###4.2.3 Notation of matrix\n",
        "\n",
        "Matrix is expressed with box brackets or parentheses like below.\n",
        "\n",
        "$A = \\begin{bmatrix}\n",
        "a_{1\\,1} & a_{1\\,2} & \\cdots & a_{1\\, p}\\\\\n",
        "a_{2\\,1} & a_{2\\,2} & \\cdots & a_{2\\, p}\\\\\n",
        "\\cdot & \\cdot & \\cdots & \\cdot\\\\\n",
        "a_{n\\,1} & a_{n\\,2} & \\cdots & a_{n\\, p}\n",
        "\\end{bmatrix}\n",
        "=\n",
        "\\begin{pmatrix}\n",
        "a_{1\\,1} & a_{1\\,2} & \\cdots & a_{1\\, p}\\\\\n",
        "a_{2\\,1} & a_{2\\,2} & \\cdots & a_{2\\, p}\\\\\n",
        "\\cdot & \\cdot & \\cdots & \\cdot\\\\\n",
        "a_{n\\,1} & a_{n\\,2} & \\cdots & a_{n\\, p}\n",
        "\\end{pmatrix} = (a_{i\\,j}) \\in \\mathbb{R}^{n\\times p}$\n",
        "<br><br>\n",
        "In the array below, $a_{1\\,1} = 3$,  $a_{2\\,4} = 7$"
      ],
      "metadata": {
        "id": "HNoMFSEZdzQT"
      }
    },
    {
      "cell_type": "code",
      "source": [
        "display(A[0, 0])\n",
        "display(A[1, 3])"
      ],
      "metadata": {
        "colab": {
          "base_uri": "https://localhost:8080/",
          "height": 54
        },
        "id": "FxrE-wpJgUgu",
        "outputId": "9b96f360-0020-4957-8e19-e2ce98789a5f"
      },
      "execution_count": 96,
      "outputs": [
        {
          "output_type": "display_data",
          "data": {
            "text/plain": [
              "3"
            ]
          },
          "metadata": {}
        },
        {
          "output_type": "display_data",
          "data": {
            "text/plain": [
              "7"
            ]
          },
          "metadata": {}
        }
      ]
    },
    {
      "cell_type": "markdown",
      "source": [
        "###4.2.4 Matrix operation\n",
        "\n",
        "####4.2.4.1 Matrix addition\n",
        "\n",
        "Addition of matrices of the same size is defined as follows.\n",
        "\n",
        "When $A = (a_{ij}), B = (b_{ij})$,\n",
        "\n",
        "$A + B = (a_{ij} + b_{ij})$\n",
        "\n",
        "It is the sum of the balues of the elements at the correspoinding position."
      ],
      "metadata": {
        "id": "BhsxBGcgg1QL"
      }
    },
    {
      "cell_type": "code",
      "source": [
        "A = np.arange(1, 7).reshape(2, 3)\n",
        "B = np.arange(3, 9).reshape(2, 3)\n",
        "display(A)\n",
        "display(B)\n",
        "A + B"
      ],
      "metadata": {
        "id": "3aKK9wYDiJxS",
        "outputId": "287cad5f-85c2-449d-b137-ab1fd437538d",
        "colab": {
          "base_uri": "https://localhost:8080/",
          "height": 127
        }
      },
      "execution_count": 97,
      "outputs": [
        {
          "output_type": "display_data",
          "data": {
            "text/plain": [
              "array([[1, 2, 3],\n",
              "       [4, 5, 6]])"
            ]
          },
          "metadata": {}
        },
        {
          "output_type": "display_data",
          "data": {
            "text/plain": [
              "array([[3, 4, 5],\n",
              "       [6, 7, 8]])"
            ]
          },
          "metadata": {}
        },
        {
          "output_type": "execute_result",
          "data": {
            "text/plain": [
              "array([[ 4,  6,  8],\n",
              "       [10, 12, 14]])"
            ]
          },
          "metadata": {},
          "execution_count": 97
        }
      ]
    },
    {
      "cell_type": "markdown",
      "source": [
        "This addition also obeys the commutative and associative laws."
      ],
      "metadata": {
        "id": "WRThZIAvigXg"
      }
    },
    {
      "cell_type": "code",
      "source": [
        "#Commutative law\n",
        "A + B == B + A"
      ],
      "metadata": {
        "id": "al5ruTpOifkG",
        "outputId": "074866d7-3cbe-4034-d1a2-683392409edf",
        "colab": {
          "base_uri": "https://localhost:8080/"
        }
      },
      "execution_count": 98,
      "outputs": [
        {
          "output_type": "execute_result",
          "data": {
            "text/plain": [
              "array([[ True,  True,  True],\n",
              "       [ True,  True,  True]])"
            ]
          },
          "metadata": {},
          "execution_count": 98
        }
      ]
    },
    {
      "cell_type": "code",
      "source": [
        "#Associative law\n",
        "C = np.arange(5, 11).reshape(2, 3)\n",
        "(A + B) + C == A + (B + C)"
      ],
      "metadata": {
        "id": "fcIX0NNOiwTP",
        "outputId": "8555285e-3ad1-45be-c464-5e2e8d1ec1bd",
        "colab": {
          "base_uri": "https://localhost:8080/"
        }
      },
      "execution_count": 99,
      "outputs": [
        {
          "output_type": "execute_result",
          "data": {
            "text/plain": [
              "array([[ True,  True,  True],\n",
              "       [ True,  True,  True]])"
            ]
          },
          "metadata": {},
          "execution_count": 99
        }
      ]
    },
    {
      "cell_type": "markdown",
      "source": [
        "####4.2.4.2 Multiplication of scalar and matrix\n",
        "\n",
        "When $A = (a_{ij}), c \\in \\mathbb{R}$\n",
        "\n",
        "$cA = (ca_{ij})$\n",
        "\n",
        "In the other words, this multiplies each element by the scalar $c$\n",
        "\n",
        "$0.1 \\times \\begin{bmatrix}1 & 2 & 3 \\\\ 4 & 5 & 6\\end{bmatrix} = \\begin{bmatrix}0.1 & 0.2 & 0.3 \\\\ 0.4 & 0.5 & 0.6\\end{bmatrix}$"
      ],
      "metadata": {
        "id": "XQuqSeJ-jHyT"
      }
    },
    {
      "cell_type": "code",
      "source": [
        "c = 0.1\n",
        "c * A"
      ],
      "metadata": {
        "id": "GqsAsPwDkDuh",
        "outputId": "a1c48538-f429-44a5-e945-06fa659d98e3",
        "colab": {
          "base_uri": "https://localhost:8080/"
        }
      },
      "execution_count": 100,
      "outputs": [
        {
          "output_type": "execute_result",
          "data": {
            "text/plain": [
              "array([[0.1, 0.2, 0.3],\n",
              "       [0.4, 0.5, 0.6]])"
            ]
          },
          "metadata": {},
          "execution_count": 100
        }
      ]
    },
    {
      "cell_type": "code",
      "source": [
        "#Commutative law\n",
        "c * A == A * c"
      ],
      "metadata": {
        "id": "l4rpb0XwkHpy",
        "outputId": "c581cae5-de7d-4b99-ba95-828f2a09853a",
        "colab": {
          "base_uri": "https://localhost:8080/"
        }
      },
      "execution_count": 101,
      "outputs": [
        {
          "output_type": "execute_result",
          "data": {
            "text/plain": [
              "array([[ True,  True,  True],\n",
              "       [ True,  True,  True]])"
            ]
          },
          "metadata": {},
          "execution_count": 101
        }
      ]
    },
    {
      "cell_type": "markdown",
      "source": [
        "####4.2.4.3 Transpose of a Matrix\n",
        "\n",
        "Basically, it means that exchanges of position of rows and columns.\n",
        "\n",
        "For example, $\\begin{bmatrix} 1 & 2 & 3 \\\\ 4 & 5 & 6\\end{bmatrix}^T = \\begin{bmatrix} 1 & 4 \\\\ 2 & 5 \\\\ 3 & 6\\end{bmatrix}$"
      ],
      "metadata": {
        "id": "xq34HmxpUhS3"
      }
    },
    {
      "cell_type": "code",
      "source": [
        "A.T"
      ],
      "metadata": {
        "colab": {
          "base_uri": "https://localhost:8080/"
        },
        "id": "4RFIow60VWIK",
        "outputId": "e874eb57-849b-4205-9219-d25c7585ac2c"
      },
      "execution_count": 102,
      "outputs": [
        {
          "output_type": "execute_result",
          "data": {
            "text/plain": [
              "array([[1, 4],\n",
              "       [2, 5],\n",
              "       [3, 6]])"
            ]
          },
          "metadata": {},
          "execution_count": 102
        }
      ]
    },
    {
      "cell_type": "markdown",
      "source": [
        "It has the following properties:\n",
        "\n",
        "\n",
        "\n",
        "1.  $(A + B)^T = A^T + B^T$\n",
        "2.  $(cA)^T = cA^T$\n",
        "\n"
      ],
      "metadata": {
        "id": "iOOJtfXyVhzB"
      }
    },
    {
      "cell_type": "code",
      "source": [
        "A = np.arange(1, 7).reshape(2, 3)\n",
        "B = np.arange(3, 9).reshape(2, 3)\n",
        "\n",
        "A.T + B.T == (A + B).T"
      ],
      "metadata": {
        "colab": {
          "base_uri": "https://localhost:8080/"
        },
        "id": "fsJZmrnvV9B6",
        "outputId": "f30377f2-afee-4ead-b089-a07390d9dc5c"
      },
      "execution_count": 103,
      "outputs": [
        {
          "output_type": "execute_result",
          "data": {
            "text/plain": [
              "array([[ True,  True],\n",
              "       [ True,  True],\n",
              "       [ True,  True]])"
            ]
          },
          "metadata": {},
          "execution_count": 103
        }
      ]
    },
    {
      "cell_type": "code",
      "source": [
        "c = 0.1\n",
        "(c * A).T == c * A.T"
      ],
      "metadata": {
        "colab": {
          "base_uri": "https://localhost:8080/"
        },
        "id": "yICsCWk_WOva",
        "outputId": "fa00d7ce-69c5-4146-9dc4-285cfe2c7f42"
      },
      "execution_count": 104,
      "outputs": [
        {
          "output_type": "execute_result",
          "data": {
            "text/plain": [
              "array([[ True,  True],\n",
              "       [ True,  True],\n",
              "       [ True,  True]])"
            ]
          },
          "metadata": {},
          "execution_count": 104
        }
      ]
    },
    {
      "cell_type": "markdown",
      "source": [
        "####4.2.4.4 Matrix multiplication\n",
        "\n",
        "It is defined as below\n",
        "\n",
        "$AB = (c_{il}) = (\\sum\\limits_{r=1}^p a_{ir} b_{rl}),\\; i = 1, \\ldots, n, \\; l = 1,\\ldots,m$\n",
        "\n",
        "As you can see in definition, count of columns of $A$ and count of rows of $B$ must be the same. Size of the result matrix is count of rows of $A$ and count of columns of $B$.\n",
        "\n",
        "$\\begin{bmatrix} 1 & 2 & 3 \\\\ 4 & 5 & 6\\end{bmatrix}\\begin{bmatrix} 1 & 2 \\\\ 3 & 4 \\\\ 5 & 6\\end{bmatrix} = \\begin{bmatrix} 22 & 28 \\\\ 49 & 64\\end{bmatrix}$"
      ],
      "metadata": {
        "id": "ONeDpxdXWcsq"
      }
    },
    {
      "cell_type": "code",
      "source": [
        "A = np.arange(1, 7).reshape(2, 3)\n",
        "A"
      ],
      "metadata": {
        "colab": {
          "base_uri": "https://localhost:8080/"
        },
        "id": "EIvFE1hbYTG2",
        "outputId": "59293012-6ba4-43b0-f855-2530c6a2f075"
      },
      "execution_count": 105,
      "outputs": [
        {
          "output_type": "execute_result",
          "data": {
            "text/plain": [
              "array([[1, 2, 3],\n",
              "       [4, 5, 6]])"
            ]
          },
          "metadata": {},
          "execution_count": 105
        }
      ]
    },
    {
      "cell_type": "code",
      "source": [
        "B = np.arange(1, 7).reshape(3, 2)\n",
        "B"
      ],
      "metadata": {
        "colab": {
          "base_uri": "https://localhost:8080/"
        },
        "id": "ltbIE7VSYx-A",
        "outputId": "57110587-f5a0-4c26-8de3-1c55832c08f1"
      },
      "execution_count": 106,
      "outputs": [
        {
          "output_type": "execute_result",
          "data": {
            "text/plain": [
              "array([[1, 2],\n",
              "       [3, 4],\n",
              "       [5, 6]])"
            ]
          },
          "metadata": {},
          "execution_count": 106
        }
      ]
    },
    {
      "cell_type": "code",
      "source": [
        "A @ B"
      ],
      "metadata": {
        "colab": {
          "base_uri": "https://localhost:8080/"
        },
        "id": "1GH6_knFY4BD",
        "outputId": "659899cf-3d67-4b45-c0de-b10a1d8d1731"
      },
      "execution_count": 107,
      "outputs": [
        {
          "output_type": "execute_result",
          "data": {
            "text/plain": [
              "array([[22, 28],\n",
              "       [49, 64]])"
            ]
          },
          "metadata": {},
          "execution_count": 107
        }
      ]
    },
    {
      "cell_type": "code",
      "source": [
        "np.matmul(A, B)"
      ],
      "metadata": {
        "colab": {
          "base_uri": "https://localhost:8080/"
        },
        "id": "Xp6FynKiY7-_",
        "outputId": "a19c566f-b7d7-4dd0-ae89-c9654a8dc07d"
      },
      "execution_count": 108,
      "outputs": [
        {
          "output_type": "execute_result",
          "data": {
            "text/plain": [
              "array([[22, 28],\n",
              "       [49, 64]])"
            ]
          },
          "metadata": {},
          "execution_count": 108
        }
      ]
    },
    {
      "cell_type": "markdown",
      "source": [
        "Multiplication of Matrix doesn't meet commutative law."
      ],
      "metadata": {
        "id": "RJDe5UY2Y_g4"
      }
    },
    {
      "cell_type": "code",
      "source": [
        "A = np.arange(1, 5).reshape(2, 2)\n",
        "display(A)\n",
        "B = np.arange(5, 9).reshape(2, 2)\n",
        "display(B)\n",
        "\n",
        "display('A @ B: ', A @ B)\n",
        "display('B @ A: ', B @ A)"
      ],
      "metadata": {
        "colab": {
          "base_uri": "https://localhost:8080/",
          "height": 201
        },
        "id": "ohzIxj4EZRXh",
        "outputId": "041307f6-2d55-42b9-e72a-9fb5ce6c01b3"
      },
      "execution_count": 109,
      "outputs": [
        {
          "output_type": "display_data",
          "data": {
            "text/plain": [
              "array([[1, 2],\n",
              "       [3, 4]])"
            ]
          },
          "metadata": {}
        },
        {
          "output_type": "display_data",
          "data": {
            "text/plain": [
              "array([[5, 6],\n",
              "       [7, 8]])"
            ]
          },
          "metadata": {}
        },
        {
          "output_type": "display_data",
          "data": {
            "text/plain": [
              "'A @ B: '"
            ],
            "application/vnd.google.colaboratory.intrinsic+json": {
              "type": "string"
            }
          },
          "metadata": {}
        },
        {
          "output_type": "display_data",
          "data": {
            "text/plain": [
              "array([[19, 22],\n",
              "       [43, 50]])"
            ]
          },
          "metadata": {}
        },
        {
          "output_type": "display_data",
          "data": {
            "text/plain": [
              "'B @ A: '"
            ],
            "application/vnd.google.colaboratory.intrinsic+json": {
              "type": "string"
            }
          },
          "metadata": {}
        },
        {
          "output_type": "display_data",
          "data": {
            "text/plain": [
              "array([[23, 34],\n",
              "       [31, 46]])"
            ]
          },
          "metadata": {}
        }
      ]
    },
    {
      "cell_type": "markdown",
      "source": [
        "For matrix muliplication, the transpose operator holds as follows:\n",
        "\n",
        "$(AB)^T = B^TA^T$\n",
        "\n",
        "Because, $((AB)^T)_{ij} = \\sum_rb_{ri}a_{rj}$ and $(B^TA^T)_{ij} = \\sum_rb_{ri}a_{rj}$"
      ],
      "metadata": {
        "id": "fOVska2yZ2Qr"
      }
    },
    {
      "cell_type": "code",
      "source": [
        "#example\n",
        "(A @ B).T"
      ],
      "metadata": {
        "colab": {
          "base_uri": "https://localhost:8080/"
        },
        "id": "Edu21RvSaVmt",
        "outputId": "79b320ac-9fda-4903-f43a-3837b6f0f48c"
      },
      "execution_count": 110,
      "outputs": [
        {
          "output_type": "execute_result",
          "data": {
            "text/plain": [
              "array([[19, 43],\n",
              "       [22, 50]])"
            ]
          },
          "metadata": {},
          "execution_count": 110
        }
      ]
    },
    {
      "cell_type": "code",
      "source": [
        "B.T @ A.T"
      ],
      "metadata": {
        "colab": {
          "base_uri": "https://localhost:8080/"
        },
        "id": "bUqIVUHPbk7R",
        "outputId": "9c37f264-d650-4ed6-d597-25366b00733a"
      },
      "execution_count": 111,
      "outputs": [
        {
          "output_type": "execute_result",
          "data": {
            "text/plain": [
              "array([[19, 43],\n",
              "       [22, 50]])"
            ]
          },
          "metadata": {},
          "execution_count": 111
        }
      ]
    },
    {
      "cell_type": "markdown",
      "source": [
        "####4.2.4.5 Submatrix\n",
        "\n",
        "A submatrix is ​​a matrix that can be obtained by deleting arbitrary rows and columns from any matrix A.\n",
        "\n",
        "$A = \\begin{bmatrix}1 & 2 & 3 \\\\ 4 & 5 &6\\\\7&8&9\\\\10&11&12\\end{bmatrix}$\n",
        "\n",
        "$A_{1:2, 2:3} = \\begin{bmatrix}2 & 3 \\\\ 5 & 6\\end{bmatrix}$\n",
        "$A_{:, 2:3} = \\begin{bmatrix}2 & 3 \\\\ 5 & 6 \\\\ 8&9 \\\\ 11&12\\end{bmatrix}$\n",
        "$A_{(1,3), (2,3)} = \\begin{bmatrix}2 & 3 \\\\ 8 & 9\\end{bmatrix}$"
      ],
      "metadata": {
        "id": "9zz9ng4nbo6q"
      }
    },
    {
      "cell_type": "code",
      "source": [
        "A = np.arange(1, 13).reshape(4, 3)\n",
        "A"
      ],
      "metadata": {
        "colab": {
          "base_uri": "https://localhost:8080/"
        },
        "id": "thB2Jpo2dVc_",
        "outputId": "be64ebd7-b78e-4ea1-a33f-bdb9a54f71ba"
      },
      "execution_count": 112,
      "outputs": [
        {
          "output_type": "execute_result",
          "data": {
            "text/plain": [
              "array([[ 1,  2,  3],\n",
              "       [ 4,  5,  6],\n",
              "       [ 7,  8,  9],\n",
              "       [10, 11, 12]])"
            ]
          },
          "metadata": {},
          "execution_count": 112
        }
      ]
    },
    {
      "cell_type": "code",
      "source": [
        "A[0:2, 1:3]"
      ],
      "metadata": {
        "colab": {
          "base_uri": "https://localhost:8080/"
        },
        "id": "ZXquKxWFdjHH",
        "outputId": "ad016821-8562-4468-acbf-f41a71b8ac42"
      },
      "execution_count": 113,
      "outputs": [
        {
          "output_type": "execute_result",
          "data": {
            "text/plain": [
              "array([[2, 3],\n",
              "       [5, 6]])"
            ]
          },
          "metadata": {},
          "execution_count": 113
        }
      ]
    },
    {
      "cell_type": "code",
      "source": [
        "A[:, 1:3]"
      ],
      "metadata": {
        "colab": {
          "base_uri": "https://localhost:8080/"
        },
        "id": "UbYCZOC3dmyP",
        "outputId": "ff265133-9a6b-4f45-ce52-007a96752210"
      },
      "execution_count": 114,
      "outputs": [
        {
          "output_type": "execute_result",
          "data": {
            "text/plain": [
              "array([[ 2,  3],\n",
              "       [ 5,  6],\n",
              "       [ 8,  9],\n",
              "       [11, 12]])"
            ]
          },
          "metadata": {},
          "execution_count": 114
        }
      ]
    },
    {
      "cell_type": "code",
      "source": [
        "A[[0, 2], :][:, [1, 2]]"
      ],
      "metadata": {
        "colab": {
          "base_uri": "https://localhost:8080/"
        },
        "id": "AWWx4z7Hdr7h",
        "outputId": "4d5e3aae-599c-4a25-9994-db31942b2f90"
      },
      "execution_count": 115,
      "outputs": [
        {
          "output_type": "execute_result",
          "data": {
            "text/plain": [
              "array([[2, 3],\n",
              "       [8, 9]])"
            ]
          },
          "metadata": {},
          "execution_count": 115
        }
      ]
    },
    {
      "cell_type": "markdown",
      "source": [
        "###4.2.5 Special matrix\n",
        "\n",
        "Zero Matrix\n",
        "\n",
        "$\\begin{bmatrix}0&0&0\\\\0&0&0\\\\0&0&0\\end{bmatrix}$\n",
        "\n",
        "Identity Matrix:\n",
        "Only the diagonal elements have values ​​of 1, the rest are all 0.\n",
        "\n",
        "$I_3 = \\begin{bmatrix}1&0&0\\\\0&1&0\\\\0&0&1\\end{bmatrix}$\n",
        "\n",
        "Diagonal Matrix:\n",
        "All elements except the diagonal values ​​have values ​​of 0.\n",
        "\n",
        "$D_3 = \\begin{bmatrix}1&0&0\\\\0&2&0\\\\0&0&3\\end{bmatrix}$"
      ],
      "metadata": {
        "id": "hdV4IwpieDIB"
      }
    },
    {
      "cell_type": "code",
      "source": [
        "size = 3\n",
        "np.zeros(shape=(size, size))"
      ],
      "metadata": {
        "colab": {
          "base_uri": "https://localhost:8080/"
        },
        "id": "JKO8e1eve-zs",
        "outputId": "45a2d123-217c-4a33-c0d7-4147bd76a97a"
      },
      "execution_count": 116,
      "outputs": [
        {
          "output_type": "execute_result",
          "data": {
            "text/plain": [
              "array([[0., 0., 0.],\n",
              "       [0., 0., 0.],\n",
              "       [0., 0., 0.]])"
            ]
          },
          "metadata": {},
          "execution_count": 116
        }
      ]
    },
    {
      "cell_type": "code",
      "source": [
        "np.identity(n = size)"
      ],
      "metadata": {
        "colab": {
          "base_uri": "https://localhost:8080/"
        },
        "id": "tPZMnkJAfFLl",
        "outputId": "089cdbb2-9b4f-453c-f855-b40afd57a0f4"
      },
      "execution_count": 117,
      "outputs": [
        {
          "output_type": "execute_result",
          "data": {
            "text/plain": [
              "array([[1., 0., 0.],\n",
              "       [0., 1., 0.],\n",
              "       [0., 0., 1.]])"
            ]
          },
          "metadata": {},
          "execution_count": 117
        }
      ]
    },
    {
      "cell_type": "code",
      "source": [
        "np.diag([1, 2, 3])"
      ],
      "metadata": {
        "colab": {
          "base_uri": "https://localhost:8080/"
        },
        "id": "KMIf8koJfISl",
        "outputId": "ab8fb88a-f11e-4e3d-c576-249c60d07423"
      },
      "execution_count": 118,
      "outputs": [
        {
          "output_type": "execute_result",
          "data": {
            "text/plain": [
              "array([[1, 0, 0],\n",
              "       [0, 2, 0],\n",
              "       [0, 0, 3]])"
            ]
          },
          "metadata": {},
          "execution_count": 118
        }
      ]
    },
    {
      "cell_type": "markdown",
      "source": [
        "Triangular Matrix: It is a matrix in which all sides of the diagonal are 0. If lower is all 0, it is called an **upper triangular matrix**, and the opposite is called a **lower triangular matrix**.\n",
        "\n",
        "$T^{upper} = \\begin{bmatrix}1&2&3\\\\0&2&7\\\\0&0&5\\end{bmatrix}$\n",
        "\n",
        "\n"
      ],
      "metadata": {
        "id": "ZWIK4jxSfRwd"
      }
    },
    {
      "cell_type": "code",
      "source": [
        "np.triu([[1, 2, 3],[1, 2, 7],[7, 8, 5]], k= 0)"
      ],
      "metadata": {
        "colab": {
          "base_uri": "https://localhost:8080/"
        },
        "id": "BwTH2c4efuVt",
        "outputId": "f157c9d7-e3de-49b5-9ddb-463e74337281"
      },
      "execution_count": 119,
      "outputs": [
        {
          "output_type": "execute_result",
          "data": {
            "text/plain": [
              "array([[1, 2, 3],\n",
              "       [0, 2, 7],\n",
              "       [0, 0, 5]])"
            ]
          },
          "metadata": {},
          "execution_count": 119
        }
      ]
    },
    {
      "cell_type": "markdown",
      "source": [
        "Orthogonal Matrix: each column or ros is an orthonormal vector.\n",
        "\n",
        "$A^TA = AA^T = I$"
      ],
      "metadata": {
        "id": "JrbhOWvigZUj"
      }
    },
    {
      "cell_type": "code",
      "source": [
        "A = np.array([[1,0], [0, -1]])\n",
        "A"
      ],
      "metadata": {
        "colab": {
          "base_uri": "https://localhost:8080/"
        },
        "id": "mC9QI_0ihFPe",
        "outputId": "6025bb0f-ce1d-4bf1-c12e-30fe1a1f8498"
      },
      "execution_count": 120,
      "outputs": [
        {
          "output_type": "execute_result",
          "data": {
            "text/plain": [
              "array([[ 1,  0],\n",
              "       [ 0, -1]])"
            ]
          },
          "metadata": {},
          "execution_count": 120
        }
      ]
    },
    {
      "cell_type": "code",
      "source": [
        "A.T @ A"
      ],
      "metadata": {
        "colab": {
          "base_uri": "https://localhost:8080/"
        },
        "id": "n8VJ84pNhLoX",
        "outputId": "ae7a04ac-5ba3-40e8-a18f-048a7a24544a"
      },
      "execution_count": 121,
      "outputs": [
        {
          "output_type": "execute_result",
          "data": {
            "text/plain": [
              "array([[1, 0],\n",
              "       [0, 1]])"
            ]
          },
          "metadata": {},
          "execution_count": 121
        }
      ]
    },
    {
      "cell_type": "code",
      "source": [
        "A @ A.T"
      ],
      "metadata": {
        "colab": {
          "base_uri": "https://localhost:8080/"
        },
        "id": "KpTB1xZjhOoV",
        "outputId": "d3dcd2f8-1801-4122-d2d3-7f14ce16d98e"
      },
      "execution_count": 122,
      "outputs": [
        {
          "output_type": "execute_result",
          "data": {
            "text/plain": [
              "array([[1, 0],\n",
              "       [0, 1]])"
            ]
          },
          "metadata": {},
          "execution_count": 122
        }
      ]
    },
    {
      "cell_type": "markdown",
      "source": [
        "#4.3 Linear Equation\n",
        "\n",
        "Linear Equation means like below:\n",
        "\n",
        "$a_1x_1 + a_2x_2 + \\cdots + a_nx_n = b_1$\n",
        "\n",
        "In here, $x_1, \\cdots , x_p $ are variables, b_1 is a constant, and $a_1,\\cdots ,a_n are coefficients.$\n",
        "\n",
        "For example,\n",
        "\n",
        "$x_1 + x_2 = 5$\n",
        "\n",
        "$\\frac{1}{2}x_1 - x_2 = 2$\n",
        "\n",
        "It can be expressed with matrix like below:\n",
        "\n",
        "$\\begin{bmatrix}1 & 1 \\\\ \\frac{1}{2} & -1\\end{bmatrix} \\begin{bmatrix}x_1\\\\x_2\\end{bmatrix} =\\begin{bmatrix}5\\\\2\\end{bmatrix}$\n",
        "\n",
        "So, you can express it in form of $Ax = b$. In linear equation matrix like this, you can evaluate solution with addition or subtraction method."
      ],
      "metadata": {
        "id": "DG14IPeoimPr"
      }
    },
    {
      "cell_type": "markdown",
      "source": [
        "###4.3.1 QR decomposition\n",
        "$A_{n\\times p} = Q_{n \\times p}R_{p \\times p}$\n",
        "\n",
        "In this formular, Q is an orthogonal matrix and R is an upper triangular matrix. The Q and R matrices are generated by the Householder transformation.\n",
        "\n",
        "This is to find the reflection vector $a'$ of vector $a$ reflected on a specific hyperplane. If $v$ is the normal vector of the hyperplane:\n",
        "\n",
        "$a' + 2(a^Tv)v = a ⇒ a' = a - 2(a^Tv)v = a - 2(v^Ta)v = a - 2v(v^Ta) = a - 2(vv^T)a = (I - 2vv^T)a$\n",
        "\n",
        "In this formula, $Q = I - 2vv^T$ transform vector $a$ into the reflection vector and is called **Householder matrix**.\n",
        "<br><br>\n",
        "As another example, let the first column vector of matrix $A$ be $a$. Let us define $u = a - ||a||e_1$. In this formula, $e_1$ is an unit vector. To make size of $u$ as 1, let us define $v = \\frac{u}{||u||}$.\n",
        "\n",
        "If we define $Q_1 = I - 2vv^T$, this matrix is called the Householder Matrix.\n",
        "\n",
        "$(I - 2vv^T)a = Ia - 2(a^Tv)v = a - u = a - (a - ||a||e_1) = ||a||e_1 = (||a||,0,\\ldots,0)^T$\n",
        "\n",
        "That is, it sets all elements except the first element value to 0.\n",
        "\n",
        "Next, it performs another Householder transformation on matrix $A_{2:n,2:p}$, excluding the first row and column of matrix $A$.\n",
        "\n",
        "The normal equation in a regression problem is $(X^TX)\\beta = X^Ty$. If we define $A = X^TX$, then $Q_k\\ldots Q_1X^TX\\beta = Q_k\\ldots Q_1X^Ty$. Since $Q_k\\ldots Q_1X^TX$ is an upper triangular matrix, we can find the solution through back substitution.\n",
        "\n",
        "$X^TX = \\begin{bmatrix} 1.25 & 0.5 \\\\ 0.5 & 2 \\end{bmatrix} , X^Ty = \\begin{bmatrix}4\\\\2\\end{bmatrix}$\n",
        "\n",
        "In this formula, the solution is $\\begin{bmatrix}\\beta_1\\\\ \\beta_2\\end{bmatrix}$ that satisfies $\\begin{bmatrix} 1.25 & 0.5 \\\\ 0.5 & 2 \\end{bmatrix} \\begin{bmatrix}\\beta_1\\\\ \\beta_2\\end{bmatrix} = \\begin{bmatrix}4\\\\2\\end{bmatrix}$. By QR decomposition:\n",
        "<br><br>\n",
        "$\\begin{bmatrix} -1.35 & -1.21 \\\\ 0 & 1.67 \\end{bmatrix} \\begin{bmatrix}\\beta_1\\\\ \\beta_2\\end{bmatrix} = \\begin{bmatrix}-4.46\\\\0.37\\end{bmatrix}$\n",
        "\n",
        "$⇒ \\begin{bmatrix} -1.35\\beta_1 & -1.21\\beta_2 \\\\ 0\\beta_1 & 1.67\\beta_2 \\end{bmatrix} = \\begin{bmatrix}-4.46\\\\0.37\\end{bmatrix}$\n",
        "\n",
        "You can find the value of $\\beta2$ here and substitute it to find the value of $\\beta_1$."
      ],
      "metadata": {
        "id": "d5_C1s7zpAYm"
      }
    },
    {
      "cell_type": "code",
      "source": [
        "A = np.array([[1, 1], [1/2, -1]])\n",
        "XTX = A.T@A\n",
        "XTX"
      ],
      "metadata": {
        "id": "KHbQKmPT-240",
        "outputId": "de531e92-ecbe-43f7-ff37-451f76d9fec3",
        "colab": {
          "base_uri": "https://localhost:8080/"
        }
      },
      "execution_count": 123,
      "outputs": [
        {
          "output_type": "execute_result",
          "data": {
            "text/plain": [
              "array([[1.25, 0.5 ],\n",
              "       [0.5 , 2.  ]])"
            ]
          },
          "metadata": {},
          "execution_count": 123
        }
      ]
    },
    {
      "cell_type": "code",
      "source": [
        "#QR dedomposition\n",
        "Q, R = la.qr(XTX)\n",
        "R.round(2)"
      ],
      "metadata": {
        "id": "mzJxkyHR_eqi",
        "outputId": "964f8149-fb8a-4e57-ec35-3b594e2a61bc",
        "colab": {
          "base_uri": "https://localhost:8080/"
        }
      },
      "execution_count": 124,
      "outputs": [
        {
          "output_type": "execute_result",
          "data": {
            "text/plain": [
              "array([[-1.35, -1.21],\n",
              "       [ 0.  ,  1.67]])"
            ]
          },
          "metadata": {},
          "execution_count": 124
        }
      ]
    },
    {
      "cell_type": "code",
      "source": [
        "b = np.array([4, 2])\n",
        "np.round(Q.T @ b, 2)"
      ],
      "metadata": {
        "id": "10IcCiZn_o16",
        "outputId": "f4fe13a7-bbbb-4663-9a31-666b4fbdca8f",
        "colab": {
          "base_uri": "https://localhost:8080/"
        }
      },
      "execution_count": 125,
      "outputs": [
        {
          "output_type": "execute_result",
          "data": {
            "text/plain": [
              "array([-4.46,  0.37])"
            ]
          },
          "metadata": {},
          "execution_count": 125
        }
      ]
    },
    {
      "cell_type": "code",
      "source": [
        "#Householder transposition\n",
        "A = np.array([[5, 1, 5],\n",
        "              [3, 9, 8],\n",
        "              [2, 1, 4]])\n",
        "A"
      ],
      "metadata": {
        "id": "Q6RVB9JO_43a",
        "outputId": "40e7bbee-bbde-4fc6-8b27-88a66db78ccf",
        "colab": {
          "base_uri": "https://localhost:8080/"
        }
      },
      "execution_count": 126,
      "outputs": [
        {
          "output_type": "execute_result",
          "data": {
            "text/plain": [
              "array([[5, 1, 5],\n",
              "       [3, 9, 8],\n",
              "       [2, 1, 4]])"
            ]
          },
          "metadata": {},
          "execution_count": 126
        }
      ]
    },
    {
      "cell_type": "code",
      "source": [
        "#Ectract first column vector\n",
        "a = A[:, 0].reshape(-1, 1)\n",
        "a"
      ],
      "metadata": {
        "id": "bPo0Nv7gAO5N",
        "outputId": "f508d8a4-2252-48ff-d494-2491b618fb11",
        "colab": {
          "base_uri": "https://localhost:8080/"
        }
      },
      "execution_count": 127,
      "outputs": [
        {
          "output_type": "execute_result",
          "data": {
            "text/plain": [
              "array([[5],\n",
              "       [3],\n",
              "       [2]])"
            ]
          },
          "metadata": {},
          "execution_count": 127
        }
      ]
    },
    {
      "cell_type": "code",
      "source": [
        "#Form Householder matrix Q1\n",
        "size = A.shape[0]\n",
        "e1 = np.identity(n = size)[:,0].reshape(-1, 1)#first column vector of identity matrix\n",
        "\n",
        "u = a - la.norm(a)*e1\n",
        "u"
      ],
      "metadata": {
        "id": "ULf7NxCDAZKt",
        "outputId": "7940444e-3fc0-4c74-907e-ad35b5e838b7",
        "colab": {
          "base_uri": "https://localhost:8080/"
        }
      },
      "execution_count": 128,
      "outputs": [
        {
          "output_type": "execute_result",
          "data": {
            "text/plain": [
              "array([[-1.164414],\n",
              "       [ 3.      ],\n",
              "       [ 2.      ]])"
            ]
          },
          "metadata": {},
          "execution_count": 128
        }
      ]
    },
    {
      "cell_type": "code",
      "source": [
        "v = u / la.norm(u)\n",
        "v"
      ],
      "metadata": {
        "id": "cdFBownZA3au",
        "outputId": "fda5c463-3f30-48c0-a4a9-10d694fc992b",
        "colab": {
          "base_uri": "https://localhost:8080/"
        }
      },
      "execution_count": 129,
      "outputs": [
        {
          "output_type": "execute_result",
          "data": {
            "text/plain": [
              "array([[-0.30732141],\n",
              "       [ 0.79178387],\n",
              "       [ 0.52785591]])"
            ]
          },
          "metadata": {},
          "execution_count": 129
        }
      ]
    },
    {
      "cell_type": "code",
      "source": [
        "Q1 = np.identity(n = size) - 2 * v @ v.T\n",
        "np.round(Q1, 2)"
      ],
      "metadata": {
        "id": "wxJ2lgJ1A-yO",
        "outputId": "2a505200-7df7-4024-8091-bd750715b33c",
        "colab": {
          "base_uri": "https://localhost:8080/"
        }
      },
      "execution_count": 130,
      "outputs": [
        {
          "output_type": "execute_result",
          "data": {
            "text/plain": [
              "array([[ 0.81,  0.49,  0.32],\n",
              "       [ 0.49, -0.25, -0.84],\n",
              "       [ 0.32, -0.84,  0.44]])"
            ]
          },
          "metadata": {},
          "execution_count": 130
        }
      ]
    },
    {
      "cell_type": "code",
      "source": [
        "np.round(Q1 @ A, 2)"
      ],
      "metadata": {
        "id": "JExXmYUkBLmO",
        "outputId": "8c1f370a-8d60-4730-b7c2-d5959446f4ef",
        "colab": {
          "base_uri": "https://localhost:8080/"
        }
      },
      "execution_count": 131,
      "outputs": [
        {
          "output_type": "execute_result",
          "data": {
            "text/plain": [
              "array([[ 6.16,  5.52,  9.25],\n",
              "       [-0.  , -2.63, -2.94],\n",
              "       [-0.  , -6.76, -3.29]])"
            ]
          },
          "metadata": {},
          "execution_count": 131
        }
      ]
    },
    {
      "cell_type": "code",
      "source": [
        "#Real result of QR decomposition\n",
        "Q, R = la.qr(A)\n",
        "np.round(Q, 3)"
      ],
      "metadata": {
        "id": "0Q4NSjX5BRi1",
        "outputId": "8979d5d0-f35c-4baf-bd86-0984b1ff6bd7",
        "colab": {
          "base_uri": "https://localhost:8080/"
        }
      },
      "execution_count": 132,
      "outputs": [
        {
          "output_type": "execute_result",
          "data": {
            "text/plain": [
              "array([[-0.811,  0.479, -0.336],\n",
              "       [-0.487, -0.871, -0.067],\n",
              "       [-0.324,  0.109,  0.94 ]])"
            ]
          },
          "metadata": {},
          "execution_count": 132
        }
      ]
    },
    {
      "cell_type": "code",
      "source": [
        "np.round(R, 3)"
      ],
      "metadata": {
        "id": "dIKTZSIoBbLN",
        "outputId": "9bbee170-66bd-4df3-c934-6a37d7e17a28",
        "colab": {
          "base_uri": "https://localhost:8080/"
        }
      },
      "execution_count": 133,
      "outputs": [
        {
          "output_type": "execute_result",
          "data": {
            "text/plain": [
              "array([[-6.164, -5.516, -9.247],\n",
              "       [ 0.   , -7.251, -4.137],\n",
              "       [ 0.   ,  0.   ,  1.544]])"
            ]
          },
          "metadata": {},
          "execution_count": 133
        }
      ]
    },
    {
      "cell_type": "markdown",
      "source": [
        "You can realize that matrix $R$ is an upper triangular matrix."
      ],
      "metadata": {
        "id": "XZEoHBXpBfHu"
      }
    },
    {
      "cell_type": "markdown",
      "source": [
        "**example**\n",
        "\n",
        "Find the QR decomposition result below.\n",
        "\n",
        "$A = \\begin{bmatrix} 1 & -1 & -1 & 1\\\\\n",
        "2 & -1 & 1 & -1 \\\\ 4 & 1 & -1 & 1 \\\\ 2 & 1 & -1 & -1\\end{bmatrix}$"
      ],
      "metadata": {
        "id": "f9d0T2g_Bs5c"
      }
    },
    {
      "cell_type": "code",
      "source": [
        "A = np.array([[1, -1, -1, 1],\n",
        "              [2, -1, 1, -1],\n",
        "              [4, 1, -1, 1],\n",
        "              [2, 1, -1, -1]])\n",
        "\n",
        "Q, R = la.qr(A)\n",
        "print(Q.round(3))\n",
        "print()\n",
        "print(R.round(3))"
      ],
      "metadata": {
        "id": "H2-PKPBbCSuA",
        "outputId": "e67abed6-7cb3-470c-d527-90aa158913ba",
        "colab": {
          "base_uri": "https://localhost:8080/"
        }
      },
      "execution_count": 142,
      "outputs": [
        {
          "output_type": "stream",
          "name": "stdout",
          "text": [
            "[[-0.2   -0.587  0.784 -0.   ]\n",
            " [-0.4   -0.65  -0.588  0.267]\n",
            " [-0.8    0.273 -0.    -0.535]\n",
            " [-0.4    0.398  0.196  0.802]]\n",
            "\n",
            "[[-5.    -0.6    1.    -0.2  ]\n",
            " [ 0.     1.908 -0.734 -0.063]\n",
            " [ 0.     0.    -1.569  1.177]\n",
            " [ 0.     0.     0.    -1.604]]\n"
          ]
        }
      ]
    }
  ]
}