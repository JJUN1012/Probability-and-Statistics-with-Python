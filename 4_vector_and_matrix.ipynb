{
  "nbformat": 4,
  "nbformat_minor": 0,
  "metadata": {
    "colab": {
      "provenance": [],
      "authorship_tag": "ABX9TyPX799gvHw+4XSylEqDh/30",
      "include_colab_link": true
    },
    "kernelspec": {
      "name": "python3",
      "display_name": "Python 3"
    },
    "language_info": {
      "name": "python"
    }
  },
  "cells": [
    {
      "cell_type": "markdown",
      "metadata": {
        "id": "view-in-github",
        "colab_type": "text"
      },
      "source": [
        "<a href=\"https://colab.research.google.com/github/JJUN1012/Probability-and-Statistics-with-Python/blob/main/4_vector_and_matrix.ipynb\" target=\"_parent\"><img src=\"https://colab.research.google.com/assets/colab-badge.svg\" alt=\"Open In Colab\"/></a>"
      ]
    },
    {
      "cell_type": "markdown",
      "source": [
        "This document is typed with python and $\\LaTeX$"
      ],
      "metadata": {
        "id": "KYBI6j-nKlZ-"
      }
    },
    {
      "cell_type": "markdown",
      "source": [
        "###import necessary packages for study"
      ],
      "metadata": {
        "id": "MIsnAnmxSVFt"
      }
    },
    {
      "cell_type": "code",
      "execution_count": 2,
      "metadata": {
        "colab": {
          "base_uri": "https://localhost:8080/"
        },
        "id": "3U3o8dnPQ6EL",
        "outputId": "8813477a-b6c9-4469-a1c6-64030907d970"
      },
      "outputs": [
        {
          "output_type": "stream",
          "name": "stdout",
          "text": [
            "1.26.4\n",
            "1.13.1\n"
          ]
        }
      ],
      "source": [
        "import numpy as np\n",
        "import scipy\n",
        "from scipy import linalg as la\n",
        "import matplotlib.pyplot as plt\n",
        "\n",
        "#check version\n",
        "print(np.__version__)\n",
        "print(scipy.__version__)"
      ]
    },
    {
      "cell_type": "markdown",
      "source": [
        "#4.1 express of vector"
      ],
      "metadata": {
        "id": "2UI1SE2sVSpt"
      }
    },
    {
      "cell_type": "code",
      "source": [
        "v =  np.array([0.61, 0.93, 0.24, 0.27])\n",
        "v"
      ],
      "metadata": {
        "colab": {
          "base_uri": "https://localhost:8080/"
        },
        "id": "2h5f_fCUWOC7",
        "outputId": "c27f5d47-a94c-41f0-b702-3525a73a6f2f"
      },
      "execution_count": 3,
      "outputs": [
        {
          "output_type": "execute_result",
          "data": {
            "text/plain": [
              "array([0.61, 0.93, 0.24, 0.27])"
            ]
          },
          "metadata": {},
          "execution_count": 3
        }
      ]
    },
    {
      "cell_type": "code",
      "source": [
        "print(v[0])\n",
        "print(v[3])"
      ],
      "metadata": {
        "colab": {
          "base_uri": "https://localhost:8080/"
        },
        "id": "E5eRb2OGWYbz",
        "outputId": "49e5d1ab-dffc-4636-baea-d854b62f3463"
      },
      "execution_count": 4,
      "outputs": [
        {
          "output_type": "stream",
          "name": "stdout",
          "text": [
            "0.61\n",
            "0.27\n"
          ]
        }
      ]
    },
    {
      "cell_type": "markdown",
      "source": [
        "###4.1.1 size(dimention, length) of vector"
      ],
      "metadata": {
        "id": "i6lS-RFZWjGT"
      }
    },
    {
      "cell_type": "code",
      "source": [
        "v.shape"
      ],
      "metadata": {
        "colab": {
          "base_uri": "https://localhost:8080/"
        },
        "id": "63_mN0B7WvhA",
        "outputId": "6438d066-7530-4cdf-fdbb-3f75ec954e4e"
      },
      "execution_count": 5,
      "outputs": [
        {
          "output_type": "execute_result",
          "data": {
            "text/plain": [
              "(4,)"
            ]
          },
          "metadata": {},
          "execution_count": 5
        }
      ]
    },
    {
      "cell_type": "markdown",
      "source": [
        "###4.1.2 subvector"
      ],
      "metadata": {
        "id": "m0rpgdsIWzaV"
      }
    },
    {
      "cell_type": "code",
      "source": [
        "v_sub = v[0:2]#v[0]-v[1]\n",
        "v_sub"
      ],
      "metadata": {
        "colab": {
          "base_uri": "https://localhost:8080/"
        },
        "id": "3ndKaFhHXSGk",
        "outputId": "d976e193-2411-41ec-b6b0-5762a9624150"
      },
      "execution_count": 6,
      "outputs": [
        {
          "output_type": "execute_result",
          "data": {
            "text/plain": [
              "array([0.61, 0.93])"
            ]
          },
          "metadata": {},
          "execution_count": 6
        }
      ]
    },
    {
      "cell_type": "markdown",
      "source": [
        "###4.1.3 special vectors\n",
        "A zero vector is a vector where all elements are zero."
      ],
      "metadata": {
        "id": "GElKPdh-Xd6H"
      }
    },
    {
      "cell_type": "code",
      "source": [
        "size = 3\n",
        "zeros = np.zeros(shape = (size,))\n",
        "zeros"
      ],
      "metadata": {
        "colab": {
          "base_uri": "https://localhost:8080/"
        },
        "id": "lOiFpFTHYGdv",
        "outputId": "a0debaee-26f0-4b23-f7ae-63d87ee6e38a"
      },
      "execution_count": 7,
      "outputs": [
        {
          "output_type": "execute_result",
          "data": {
            "text/plain": [
              "array([0., 0., 0.])"
            ]
          },
          "metadata": {},
          "execution_count": 7
        }
      ]
    },
    {
      "cell_type": "markdown",
      "source": [
        "A vector with one element equal to 1 and all others equal to 0 is called a unit vector.\n",
        "\n",
        "Unit vectors are specially denoted using the $\\mathbf{e}$ notation.\n",
        "\n",
        "$\\mathbf{e}_1 = \\begin{bmatrix} 1 \\\\ 0 \\\\ 0 \\end{bmatrix}$\n",
        " $\\mathbf{e}_2 = \\begin{bmatrix} 0 \\\\ 1 \\\\ 0 \\end{bmatrix}$\n",
        " $\\mathbf{e}_3 = \\begin{bmatrix} 0 \\\\ 0 \\\\ 1 \\end{bmatrix}$\n"
      ],
      "metadata": {
        "id": "r6IWoEhSYROV"
      }
    },
    {
      "cell_type": "code",
      "source": [
        "e = np.zeros(shape = (3,))\n",
        "\n",
        "i = 1 #locate 1\n",
        "\n",
        "e[i] = 1\n",
        "e"
      ],
      "metadata": {
        "colab": {
          "base_uri": "https://localhost:8080/"
        },
        "id": "A2CiCH1FZmPT",
        "outputId": "84286b63-6510-4511-9575-e87773999a30"
      },
      "execution_count": 8,
      "outputs": [
        {
          "output_type": "execute_result",
          "data": {
            "text/plain": [
              "array([0., 1., 0.])"
            ]
          },
          "metadata": {},
          "execution_count": 8
        }
      ]
    },
    {
      "cell_type": "markdown",
      "source": [
        "A one vector is a vector where all elements are one."
      ],
      "metadata": {
        "id": "reWDHCeRZ_rY"
      }
    },
    {
      "cell_type": "code",
      "source": [
        "one = np.ones(shape = (size,))\n",
        "one"
      ],
      "metadata": {
        "colab": {
          "base_uri": "https://localhost:8080/"
        },
        "id": "-zlgeWFQaG0h",
        "outputId": "bf2c4864-f36f-413b-c56c-2af02b6176b3"
      },
      "execution_count": 9,
      "outputs": [
        {
          "output_type": "execute_result",
          "data": {
            "text/plain": [
              "array([1., 1., 1.])"
            ]
          },
          "metadata": {},
          "execution_count": 9
        }
      ]
    },
    {
      "cell_type": "markdown",
      "source": [
        "###4.1.4 geometric meaning of vectors\n",
        "\n",
        "In two or three-dimensional space, vectors can be interpreted as:\n",
        "\n",
        "* Displacements from one point to another\n",
        "* Forces acting in a particular direction\n",
        "* Velocities with both speed and direction\n",
        "* Any quantity that requires both magnitude and direction to be fully described"
      ],
      "metadata": {
        "id": "id-sS551aOSx"
      }
    },
    {
      "cell_type": "markdown",
      "source": [
        "###4.1.5 Vector Calculation\n",
        "####4.1.5.1 Vector Addition\n",
        "Addition of two vectors of the same size is defined as the sum of their corresponding elements.\n",
        "\n",
        "$\\begin{bmatrix} 1 \\\\ 3 \\end{bmatrix} + \\begin{bmatrix} 3 \\\\ 1 \\end{bmatrix} = \\begin{bmatrix} 4 \\\\ 4 \\end{bmatrix}$\n",
        "\n",
        "The addition operation satisfies the commutative law and the associative law."
      ],
      "metadata": {
        "id": "Pj2dkHsQbEYR"
      }
    },
    {
      "cell_type": "code",
      "source": [
        "a = np.array([1, 3])\n",
        "b = np.array([3, 1])\n",
        "a + b"
      ],
      "metadata": {
        "colab": {
          "base_uri": "https://localhost:8080/"
        },
        "id": "Ns6kByrJdaaN",
        "outputId": "6576f463-bd4a-43b7-e192-7a4696100481"
      },
      "execution_count": 10,
      "outputs": [
        {
          "output_type": "execute_result",
          "data": {
            "text/plain": [
              "array([4, 4])"
            ]
          },
          "metadata": {},
          "execution_count": 10
        }
      ]
    },
    {
      "cell_type": "code",
      "source": [
        "#commutative law\n",
        "a + b == b + a"
      ],
      "metadata": {
        "colab": {
          "base_uri": "https://localhost:8080/"
        },
        "id": "8iPhvVYgdiFN",
        "outputId": "5d83aaf4-2aed-4cfd-9a15-f7bcceb3aab2"
      },
      "execution_count": 11,
      "outputs": [
        {
          "output_type": "execute_result",
          "data": {
            "text/plain": [
              "array([ True,  True])"
            ]
          },
          "metadata": {},
          "execution_count": 11
        }
      ]
    },
    {
      "cell_type": "code",
      "source": [
        "#associative law\n",
        "d = np.array([1, 2])\n",
        "(a + b) + d == a + (b + d)"
      ],
      "metadata": {
        "colab": {
          "base_uri": "https://localhost:8080/"
        },
        "id": "pfxw3o9Tdv-8",
        "outputId": "0e147467-d039-4620-b367-55a484e66360"
      },
      "execution_count": 12,
      "outputs": [
        {
          "output_type": "execute_result",
          "data": {
            "text/plain": [
              "array([ True,  True])"
            ]
          },
          "metadata": {},
          "execution_count": 12
        }
      ]
    },
    {
      "cell_type": "markdown",
      "source": [
        "####4.1.5.2 Vector subtraction\n",
        "$\\begin{bmatrix} 3 \\\\ 1 \\end{bmatrix} - \\begin{bmatrix} 1 \\\\ 3 \\end{bmatrix} = \\begin{bmatrix} 2 \\\\ -2 \\end{bmatrix}$"
      ],
      "metadata": {
        "id": "1d6h6R5CeSiC"
      }
    },
    {
      "cell_type": "code",
      "source": [
        "b - a"
      ],
      "metadata": {
        "colab": {
          "base_uri": "https://localhost:8080/"
        },
        "id": "1_Xg7LbKlPoT",
        "outputId": "f57bbbfe-6373-469c-d05b-a99136faf5c9"
      },
      "execution_count": 13,
      "outputs": [
        {
          "output_type": "execute_result",
          "data": {
            "text/plain": [
              "array([ 2, -2])"
            ]
          },
          "metadata": {},
          "execution_count": 13
        }
      ]
    },
    {
      "cell_type": "markdown",
      "source": [
        "####4.1.5.3 Scalar-Vector multiplication\n",
        "Multiply all elments of a vector by scalar\n",
        "\n",
        "$\\begin{bmatrix} \\dfrac{1}{2} \\end{bmatrix} \\begin{bmatrix} 2 \\\\ 3 \\end{bmatrix} = \\begin{bmatrix} 1 \\\\ 1.5 \\end{bmatrix}$  \n",
        "\n",
        "$\\begin{bmatrix} 2 \\\\ 3 \\end{bmatrix} \\begin{bmatrix} \\dfrac{1}{2} \\end{bmatrix} = \\begin{bmatrix} 1 \\\\ 1.5 \\end{bmatrix}$  "
      ],
      "metadata": {
        "id": "gtDbt9ndmrZt"
      }
    },
    {
      "cell_type": "code",
      "source": [
        "alpha = 1/2\n",
        "a = np.array([2, 3])\n",
        "alpha * a"
      ],
      "metadata": {
        "colab": {
          "base_uri": "https://localhost:8080/"
        },
        "id": "Bzy-Un16obV6",
        "outputId": "db1d74ec-8e75-4a1e-a70b-d83fbe3b4a88"
      },
      "execution_count": 14,
      "outputs": [
        {
          "output_type": "execute_result",
          "data": {
            "text/plain": [
              "array([1. , 1.5])"
            ]
          },
          "metadata": {},
          "execution_count": 14
        }
      ]
    },
    {
      "cell_type": "code",
      "source": [
        "#commutative law\n",
        "a * alpha == alpha * a"
      ],
      "metadata": {
        "colab": {
          "base_uri": "https://localhost:8080/"
        },
        "id": "45tgr8PZoz2q",
        "outputId": "5d124b01-2758-43ce-d8c2-a7453738d547"
      },
      "execution_count": 15,
      "outputs": [
        {
          "output_type": "execute_result",
          "data": {
            "text/plain": [
              "array([ True,  True])"
            ]
          },
          "metadata": {},
          "execution_count": 15
        }
      ]
    },
    {
      "cell_type": "code",
      "source": [
        "#distributive law\n",
        "beta = 0.7\n",
        "(alpha + beta) * a == alpha * a + beta * a"
      ],
      "metadata": {
        "colab": {
          "base_uri": "https://localhost:8080/"
        },
        "id": "EfC6MCy7pFI8",
        "outputId": "245d79d4-e37a-43f9-ea2c-1a905535dd07"
      },
      "execution_count": 16,
      "outputs": [
        {
          "output_type": "execute_result",
          "data": {
            "text/plain": [
              "array([ True,  True])"
            ]
          },
          "metadata": {},
          "execution_count": 16
        }
      ]
    },
    {
      "cell_type": "markdown",
      "source": [
        "####4.1.5.4 Linear Combination\n",
        "Linear combination is a fundamental concept in linear algebra that refers to the weighted sum of vectors.\n",
        "\n",
        "a₁v₁ + a₂v₂ + ... + aₙvₙ"
      ],
      "metadata": {
        "id": "uzMab2qmpk3k"
      }
    },
    {
      "cell_type": "markdown",
      "source": [
        "###4.1.6 inner product\n",
        "$a^Tb = \\sum_{i=1}^{n} a_ib_i$\n",
        "\n",
        "T is a notation for transpose\n",
        "\n",
        "it can be also expressed with $a \\cdot b ,  < a,  b >$\n",
        "\n",
        "$\\begin{bmatrix} -1 \\\\ 2 \\\\ 3\\end{bmatrix}^T \\begin{bmatrix} 1 \\\\ -2 \\\\ 4 \\end{bmatrix} = sum \\begin{bmatrix} -1 \\\\ -4 \\\\ 12 \\end{bmatrix} = 7$"
      ],
      "metadata": {
        "id": "PTJkWP2urXr5"
      }
    },
    {
      "cell_type": "code",
      "source": [
        "a =  np.array([-1, 2, 3])\n",
        "b =  np.array([1, -2, 4])\n",
        "\n",
        "print(a * b)\n",
        "np.sum (a * b)"
      ],
      "metadata": {
        "colab": {
          "base_uri": "https://localhost:8080/"
        },
        "id": "DQg9N83Ftdj2",
        "outputId": "698dfcc6-4b38-4fbe-cadf-2f06492b1a04"
      },
      "execution_count": 17,
      "outputs": [
        {
          "output_type": "stream",
          "name": "stdout",
          "text": [
            "[-1 -4 12]\n"
          ]
        },
        {
          "output_type": "execute_result",
          "data": {
            "text/plain": [
              "7"
            ]
          },
          "metadata": {},
          "execution_count": 17
        }
      ]
    },
    {
      "cell_type": "code",
      "source": [
        "#with function\n",
        "print(np.inner(a, b))\n",
        "print(np.dot(a, b))"
      ],
      "metadata": {
        "colab": {
          "base_uri": "https://localhost:8080/"
        },
        "id": "wXOpHknVtzsj",
        "outputId": "246665a9-c973-4101-d070-5db70f7c0912"
      },
      "execution_count": 18,
      "outputs": [
        {
          "output_type": "stream",
          "name": "stdout",
          "text": [
            "7\n",
            "7\n"
          ]
        }
      ]
    },
    {
      "cell_type": "code",
      "source": [
        "#commutative law\n",
        "np.dot(a, b) == np.dot(b, a)"
      ],
      "metadata": {
        "colab": {
          "base_uri": "https://localhost:8080/"
        },
        "id": "nfYiQnFYw2YL",
        "outputId": "4bdfda58-846d-4e4c-8035-506018d4a761"
      },
      "execution_count": 19,
      "outputs": [
        {
          "output_type": "execute_result",
          "data": {
            "text/plain": [
              "True"
            ]
          },
          "metadata": {},
          "execution_count": 19
        }
      ]
    },
    {
      "cell_type": "code",
      "source": [
        "#associative law\n",
        "alpha = 0.5\n",
        "np.dot(alpha * a, b) == alpha * np.dot(a, b)"
      ],
      "metadata": {
        "colab": {
          "base_uri": "https://localhost:8080/"
        },
        "id": "Y9mDP361xDJT",
        "outputId": "3b07db32-c3f7-4ade-d2e6-340fae65428a"
      },
      "execution_count": 20,
      "outputs": [
        {
          "output_type": "execute_result",
          "data": {
            "text/plain": [
              "True"
            ]
          },
          "metadata": {},
          "execution_count": 20
        }
      ]
    },
    {
      "cell_type": "code",
      "source": [
        "#distributive law\n",
        "c = np.array([1, 2, 3])\n",
        "np.dot(a + b, c) == np.dot(a, c) + np.dot(b, c)"
      ],
      "metadata": {
        "colab": {
          "base_uri": "https://localhost:8080/"
        },
        "id": "_aMMYfC7xSIZ",
        "outputId": "a4ab78ff-a8f4-4fc0-ba89-ae5be0772c76"
      },
      "execution_count": 21,
      "outputs": [
        {
          "output_type": "execute_result",
          "data": {
            "text/plain": [
              "True"
            ]
          },
          "metadata": {},
          "execution_count": 21
        }
      ]
    },
    {
      "cell_type": "markdown",
      "source": [
        "some usuage of inner product\n",
        "1. $1^Ta = a_1 + \\ldots +a_n = \\sum_{i=1}^{n} a_i$\n",
        "2. $\\frac{1}{n}1^Ta = \\frac{1}{n}(a_1 + \\ldots + a_n) = \\bar{a}$\n",
        "3. $a^Ta = a^2_1 + \\ldots + a^2_n$"
      ],
      "metadata": {
        "id": "inY9GwCxycU7"
      }
    },
    {
      "cell_type": "code",
      "source": [
        "a = np.array([1, 2, 3])\n",
        "size = len(a)\n",
        "ones = np.ones(shape=(size, ))\n",
        "np.dot(ones, a)"
      ],
      "metadata": {
        "colab": {
          "base_uri": "https://localhost:8080/"
        },
        "id": "2vvl0-rrzTiU",
        "outputId": "041a7716-dc4b-42e4-bc8a-16ccc64252aa"
      },
      "execution_count": 22,
      "outputs": [
        {
          "output_type": "execute_result",
          "data": {
            "text/plain": [
              "6.0"
            ]
          },
          "metadata": {},
          "execution_count": 22
        }
      ]
    },
    {
      "cell_type": "code",
      "source": [
        "np.dot(ones, a) / len(a)"
      ],
      "metadata": {
        "colab": {
          "base_uri": "https://localhost:8080/"
        },
        "id": "l4MnBDsr08Bu",
        "outputId": "69f821c3-7ae8-4442-8e58-e9e94fdbf8b9"
      },
      "execution_count": 23,
      "outputs": [
        {
          "output_type": "execute_result",
          "data": {
            "text/plain": [
              "2.0"
            ]
          },
          "metadata": {},
          "execution_count": 23
        }
      ]
    },
    {
      "cell_type": "code",
      "source": [
        "np.dot(a, a)"
      ],
      "metadata": {
        "colab": {
          "base_uri": "https://localhost:8080/"
        },
        "id": "d5BxIJVe1AaM",
        "outputId": "a54b2fd8-b8b1-49ce-dc0d-67bd422e8c00"
      },
      "execution_count": 24,
      "outputs": [
        {
          "output_type": "execute_result",
          "data": {
            "text/plain": [
              "14"
            ]
          },
          "metadata": {},
          "execution_count": 24
        }
      ]
    },
    {
      "cell_type": "markdown",
      "source": [
        "###4.1.7 Vector norm\n",
        "This is Euclidean norm of Vector.\n",
        "Norm means length or magnitude of vector\n",
        "\n",
        "$||a||_2 = \\sqrt{a^Ta} = \\sqrt{a^2_1 + \\ldots + a^2_n}$\n",
        "\n",
        "example\n",
        "\n",
        "$\\bigg|\\bigg|\\begin{bmatrix} 2 \\\\ 3 \\end{bmatrix}\\bigg|\\bigg|= \\sqrt{\\begin{bmatrix}2 \\\\ 3 \\end{bmatrix}^T\\begin{bmatrix}2 \\\\ 3 \\end{bmatrix}} = \\sqrt{sum\\begin{bmatrix}4 \\\\ 9 \\end{bmatrix}} = \\sqrt{13} = 3.606...$"
      ],
      "metadata": {
        "id": "01DpL-BD1Kw8"
      }
    },
    {
      "cell_type": "code",
      "source": [
        "a = np.array([2, 3])\n",
        "la.norm(a)"
      ],
      "metadata": {
        "colab": {
          "base_uri": "https://localhost:8080/"
        },
        "id": "1bNdkedX3qDa",
        "outputId": "90f6bf51-90b8-4c39-ee98-03c3f348949f"
      },
      "execution_count": 25,
      "outputs": [
        {
          "output_type": "execute_result",
          "data": {
            "text/plain": [
              "3.605551275463989"
            ]
          },
          "metadata": {},
          "execution_count": 25
        }
      ]
    },
    {
      "cell_type": "markdown",
      "source": [
        "A norm satisfies the following properties.\n",
        "\n",
        "* $||\\beta a|| = |\\beta|\\,||a||$\n",
        "* $||a + b|| \\leq ||a|| + ||b||$\n",
        "* $||a|| \\geq 0$\n",
        "* $||a|| = 0 \\Rightarrow a = 0$"
      ],
      "metadata": {
        "id": "GQxp-sLs4Czg"
      }
    },
    {
      "cell_type": "code",
      "source": [
        "a = np.array([-1, 2, 3])\n",
        "b = np.array([1, -2, 4])\n",
        "\n",
        "beta = 0.5\n",
        "la.norm(beta * a) == np.abs(beta) * la.norm(a)"
      ],
      "metadata": {
        "colab": {
          "base_uri": "https://localhost:8080/"
        },
        "id": "gma9FmdJ7lfd",
        "outputId": "8d65a39f-9274-4067-f0b6-4272dae5bbc9"
      },
      "execution_count": 26,
      "outputs": [
        {
          "output_type": "execute_result",
          "data": {
            "text/plain": [
              "True"
            ]
          },
          "metadata": {},
          "execution_count": 26
        }
      ]
    },
    {
      "cell_type": "code",
      "source": [
        "la.norm(a + b) <= la.norm(a) + la.norm(b)"
      ],
      "metadata": {
        "colab": {
          "base_uri": "https://localhost:8080/"
        },
        "id": "m38fwzGn7_8k",
        "outputId": "5db19921-a273-4f5b-80bc-7265ee65fc95"
      },
      "execution_count": 27,
      "outputs": [
        {
          "output_type": "execute_result",
          "data": {
            "text/plain": [
              "True"
            ]
          },
          "metadata": {},
          "execution_count": 27
        }
      ]
    },
    {
      "cell_type": "code",
      "source": [
        "la.norm(a) >= 0"
      ],
      "metadata": {
        "colab": {
          "base_uri": "https://localhost:8080/"
        },
        "id": "PzbmpjQw8SxV",
        "outputId": "8ce6811b-bb18-4be6-9553-9f267fbbe98d"
      },
      "execution_count": 28,
      "outputs": [
        {
          "output_type": "execute_result",
          "data": {
            "text/plain": [
              "True"
            ]
          },
          "metadata": {},
          "execution_count": 28
        }
      ]
    },
    {
      "cell_type": "code",
      "source": [
        "print(la.norm(np.zeros(shape=(2,))))\n",
        "a == 0"
      ],
      "metadata": {
        "colab": {
          "base_uri": "https://localhost:8080/"
        },
        "id": "byG3slgp8dWi",
        "outputId": "bf7209c8-e860-48e0-9a6c-ef516ab11975"
      },
      "execution_count": 29,
      "outputs": [
        {
          "output_type": "stream",
          "name": "stdout",
          "text": [
            "0.0\n"
          ]
        },
        {
          "output_type": "execute_result",
          "data": {
            "text/plain": [
              "array([False, False, False])"
            ]
          },
          "metadata": {},
          "execution_count": 29
        }
      ]
    },
    {
      "cell_type": "markdown",
      "source": [
        "###4.1.8 Inner product & Norm\n",
        "\n",
        "$u\\cdot v = ||u||\\,||v||\\,cos\\theta$\n",
        "\n",
        "This formula showes that the inner product is in propotional to length of the vectors and $cos$ of angle between the vectors.\n",
        "\n",
        "1.   When both of Vectors are heading the same direction($\\theta = 0^\\circ$), the inner product has the max value.\n",
        "2.   When two Vectors are perpendicular($\\theta=90^\\circ$), the inner product is 0.\n",
        "3.   When two Vectors are heading completely opposite directions($\\theta = 180^\\circ$), the inner product has the min value.\n",
        "\n",
        "\n"
      ],
      "metadata": {
        "id": "NIdi6n5IDVx_"
      }
    },
    {
      "cell_type": "markdown",
      "source": [
        "###4.1.9 Vector linear dependence\n",
        "It is a funcamental concept in linear algebra that describes the relationship between bectors in a vector space.\n",
        "\n",
        "A set of vectors ${v_q, v_2, ...,v_n}$ is linearly dependent if there exist scalars $c_1,c_2,...,c_n$, not all zero, such that:\n",
        "\n",
        "$c_1v_1 + c_2v_2 + ... +c_nv_n = 0$\n",
        "\n",
        "For example:\n",
        "\n",
        "$a_1 = \\begin{pmatrix} 1 \\\\ 0 \\\\ 0 \\end{pmatrix}, a_2 = \\begin{pmatrix} 0 \\\\ 1 \\\\ 0 \\end{pmatrix}, a_3 = \\begin{pmatrix} 1 \\\\ 1 \\\\ 0 \\end{pmatrix}$\n",
        "\n",
        "Clearly, $a_3 = a_1 + a_2$, therefore the vectors above are linearly dependent.\n",
        "<br><br>\n",
        "\n",
        "####Linear independence\n",
        "In other words, at least one vector in the set can be expressed as a linear combination of the others.\n",
        "\n",
        "Conversely, a set of vectors is linearly independent if the only solution to:\n",
        "\n",
        "$c_1v_1 + c_2v_2 + ... + c_nv_n$\n",
        "is $c_1 = c_2 = ... = c_n = 0$\n",
        "\n",
        "for example:\n",
        "\n",
        "$a_1 = \\begin{pmatrix} 1 \\\\ 0 \\\\ 0 \\end{pmatrix}, a_2 = \\begin{pmatrix} 0 \\\\ -1 \\\\ 0 \\end{pmatrix}, a_3 = \\begin{pmatrix} -1 \\\\ 0 \\\\ 1 \\end{pmatrix}$\n",
        "\n",
        "From $\\beta_1a_1 + \\beta_2a_2 + \\beta_3a_3 = 0$, we have $ \\beta+1 - \\beta_3 = 0, -\\beta_2 = 0,$ and $\\beta_3 = 0$.Therefore, all $\\beta$ values are 0 and vectors above are linearly independent.\n"
      ],
      "metadata": {
        "id": "qj67dtKhNFo8"
      }
    },
    {
      "cell_type": "markdown",
      "source": [
        "####4.1.9.1 basis\n",
        "\n",
        "A basis in $n$ linearly independent vectors in $n$ dimensions. In other words, two vectors which are linearly independent in two-dimensional vector space. When there are another vectors, they can be expressend as a linear combination of two other linearly independent vectors.\n",
        "\n",
        "So, If $n$ dimentional vector $a_1, \\ldots,a_n$ is a basis, Any $n$ dimensional vector $x$ can be expressed as a linear combination of bases."
      ],
      "metadata": {
        "id": "N7uyBXvtbl6L"
      }
    },
    {
      "cell_type": "markdown",
      "source": [
        "**Example**\n",
        "\n",
        "Express $x = \\begin{bmatrix} 0.3 \\\\ 0.7 \\end{bmatrix}$ as a linear combination of $a1 = \\begin{bmatrix} 2 \\\\ 0 \\end{bmatrix}, a2 = \\begin{bmatrix} 0 \\\\ 3 \\end{bmatrix}$\n",
        "\n",
        "<br>Answer:<br>\n",
        "$\\beta_1\\begin{bmatrix} 2 \\\\ 0 \\end{bmatrix} + \\beta_2\\begin{bmatrix} 0 \\\\ 3 \\end{bmatrix} = \\begin{bmatrix} 0.3 \\\\ 0.7 \\end{bmatrix}$\n",
        "\n",
        "So,\n",
        "$\\,2\\beta_1 =0.3, 3\\beta_2 = 0.7$\n",
        "\n",
        "Therefore, $\\begin{bmatrix} \\beta_1 \\\\ \\beta_2 \\end{bmatrix} = \\begin{bmatrix} \\frac{0.3}{2} \\\\ \\frac{0.7}{3} \\end{bmatrix}$."
      ],
      "metadata": {
        "id": "YVCOVp3Web4r"
      }
    },
    {
      "cell_type": "markdown",
      "source": [
        "####4.1.9.2 Orthonormal vector\n",
        "\n",
        "$a_1 \\cdots a_n$ being orthonormal means that they form a set of vectors that are mutually orthogonal while simultaneously each having a length of 1.\n",
        "\n",
        "In the other words, when $i = j$, the dot product, $a_i^T \\cdot a_j = 1$, and when $i \\neq j$, the dot product, $a_i^T \\cdot a_j = 0$\n",
        "\n",
        "**example**\n",
        "\n",
        "$a_1 = \\begin{bmatrix} 0 \\\\ 0 \\\\ 1 \\end{bmatrix},\n",
        "a_2 = \\frac{1}{\\sqrt{2}} \\begin{bmatrix} 1 \\\\ 1 \\\\ 0 \\end{bmatrix},\n",
        "a_3 = \\frac{1}{\\sqrt{2}} \\begin{bmatrix} 1 \\\\ -1 \\\\ 0 \\end{bmatrix}$"
      ],
      "metadata": {
        "id": "RRvtUIacO9V6"
      }
    },
    {
      "cell_type": "code",
      "source": [
        "a1 = np.array([0, 0, 1]).reshape(-1, 1)\n",
        "a2 = 1/np.sqrt(2) * np.array([1, 1, 0]).reshape(-1, 1)\n",
        "a3 = 1/np.sqrt(2) * np.array([1, -1, 0]).reshape(-1, 1)\n",
        "\n",
        "A = np.concatenate((a1, a2, a3), axis = 1)\n",
        "\n",
        "np.round(A.T @ A, 2)"
      ],
      "metadata": {
        "id": "SC6HTywbSC0z",
        "outputId": "d76aa4cb-d6c6-49cc-d05e-007493f90c79",
        "colab": {
          "base_uri": "https://localhost:8080/"
        }
      },
      "execution_count": 40,
      "outputs": [
        {
          "output_type": "execute_result",
          "data": {
            "text/plain": [
              "array([[ 1.,  0.,  0.],\n",
              "       [ 0.,  1., -0.],\n",
              "       [ 0., -0.,  1.]])"
            ]
          },
          "metadata": {},
          "execution_count": 40
        }
      ]
    },
    {
      "cell_type": "markdown",
      "source": [
        "#4.2 Express of matrix\n",
        "Matirx is an array that is divided with row and column.\n",
        "\n",
        "You can define elements of matrix as numbers or characters\n",
        "\n",
        "$A = \\begin{bmatrix}\n",
        "-1.09 & 1 & 0.28 & -1.51 \\\\\n",
        " -0.58 & 1.65 & -2.43 & -0.43 \\\\\n",
        "  1.27 & -0.87 & -0.68 & -0.09 \\\\\n",
        "   1.49 & -0.64 & -0.44 & -0.43\n",
        "   \\end{bmatrix}$\n",
        "\n",
        "$B = \\begin{bmatrix}\n",
        "a & c \\\\\n",
        "b & d\n",
        "\\end{bmatrix}$"
      ],
      "metadata": {
        "id": "-Ve-zY56XMGH"
      }
    },
    {
      "cell_type": "code",
      "source": [
        "A = np.array(np.random.RandomState(123).normal(size = 16)).reshape(4, 4)\n",
        "A.round(3)"
      ],
      "metadata": {
        "id": "t_H5fyr5Zq-M",
        "outputId": "7a83d6ba-d258-4b3c-b150-199c31b7477f",
        "colab": {
          "base_uri": "https://localhost:8080/"
        }
      },
      "execution_count": 41,
      "outputs": [
        {
          "output_type": "execute_result",
          "data": {
            "text/plain": [
              "array([[-1.086,  0.997,  0.283, -1.506],\n",
              "       [-0.579,  1.651, -2.427, -0.429],\n",
              "       [ 1.266, -0.867, -0.679, -0.095],\n",
              "       [ 1.491, -0.639, -0.444, -0.434]])"
            ]
          },
          "metadata": {},
          "execution_count": 41
        }
      ]
    },
    {
      "cell_type": "markdown",
      "source": [
        "###4.2.1 Size of matrix\n",
        "\n",
        "Size of matrix is defined with count of row & column. In 4.2, A matrix has 4 rows and 4 columns, so it is called **4 by 4** matrix.\n",
        "\n",
        "Also you can express like $A_{n\\times p}$\n",
        "\n",
        "Especially, a matrix which has the same count of rows and columns is called **square matrix**."
      ],
      "metadata": {
        "id": "SQs4gZ_ZZ8zV"
      }
    },
    {
      "cell_type": "code",
      "source": [
        "A = np.array(np.random.RandomState(123).normal(size = 12)).reshape(3, 4)\n",
        "A.shape"
      ],
      "metadata": {
        "id": "YXPVn4Pfbucg",
        "outputId": "55a533a7-0e66-48f3-f27f-e19c6e37da0c",
        "colab": {
          "base_uri": "https://localhost:8080/"
        }
      },
      "execution_count": 42,
      "outputs": [
        {
          "output_type": "execute_result",
          "data": {
            "text/plain": [
              "(3, 4)"
            ]
          },
          "metadata": {},
          "execution_count": 42
        }
      ]
    },
    {
      "cell_type": "markdown",
      "source": [
        "###4.2.2 Row vector and Column vector\n",
        "\n",
        "A vector which consists of row only is called row vector, and a vector which consists of column only is called column vector.\n",
        "\n",
        "**Example**\n",
        "\n",
        "$A = \\begin{bmatrix}\n",
        "3 & 3 & 7 & 2\\\\\n",
        "4 & 11 & 10 & 7 \\\\\n",
        "2 & 1 & 2 & 10\n",
        "\\end{bmatrix}$\n",
        "\n",
        "In this matrix, $\\begin{bmatrix}3 \\\\ 4 \\\\ 2\\end{bmatrix}$ is one of the column vectors, and $\\begin{bmatrix}3 & 3 & 7 & 2\\end{bmatrix}$ is one of the row vectors."
      ],
      "metadata": {
        "id": "r6NEocwTcAHO"
      }
    },
    {
      "cell_type": "code",
      "source": [
        "A = np.array(np.random.RandomState(123).randint(1, 12, size = 12)).reshape(3, 4)\n",
        "A"
      ],
      "metadata": {
        "id": "jGF9zScTdMas",
        "outputId": "c65b9f01-32c2-4b21-aa4e-399d09f55147",
        "colab": {
          "base_uri": "https://localhost:8080/"
        }
      },
      "execution_count": 43,
      "outputs": [
        {
          "output_type": "execute_result",
          "data": {
            "text/plain": [
              "array([[ 3,  3,  7,  2],\n",
              "       [ 4, 11, 10,  7],\n",
              "       [ 2,  1,  2, 10]])"
            ]
          },
          "metadata": {},
          "execution_count": 43
        }
      ]
    },
    {
      "cell_type": "code",
      "source": [
        "#Row vector\n",
        "display(A[:, 0])\n",
        "display(A[:, 1])\n",
        "display(A[:, 2])\n",
        "display(A[:, 3])"
      ],
      "metadata": {
        "id": "YgL4Jv_sdUfu",
        "outputId": "6a014f3d-dcfc-4905-a75b-9be9bdfc29c8",
        "colab": {
          "base_uri": "https://localhost:8080/",
          "height": 94
        }
      },
      "execution_count": 46,
      "outputs": [
        {
          "output_type": "display_data",
          "data": {
            "text/plain": [
              "array([3, 4, 2])"
            ]
          },
          "metadata": {}
        },
        {
          "output_type": "display_data",
          "data": {
            "text/plain": [
              "array([ 3, 11,  1])"
            ]
          },
          "metadata": {}
        },
        {
          "output_type": "display_data",
          "data": {
            "text/plain": [
              "array([ 7, 10,  2])"
            ]
          },
          "metadata": {}
        },
        {
          "output_type": "display_data",
          "data": {
            "text/plain": [
              "array([ 2,  7, 10])"
            ]
          },
          "metadata": {}
        }
      ]
    },
    {
      "cell_type": "code",
      "source": [
        "#Column vector\n",
        "display(A[0, :])\n",
        "display(A[1, :])\n",
        "display(A[2, :])"
      ],
      "metadata": {
        "id": "BM2PUXsSdg-l",
        "outputId": "6f752b44-e5d6-4d7e-e439-992ddb2a568e",
        "colab": {
          "base_uri": "https://localhost:8080/",
          "height": 75
        }
      },
      "execution_count": 47,
      "outputs": [
        {
          "output_type": "display_data",
          "data": {
            "text/plain": [
              "array([3, 3, 7, 2])"
            ]
          },
          "metadata": {}
        },
        {
          "output_type": "display_data",
          "data": {
            "text/plain": [
              "array([ 4, 11, 10,  7])"
            ]
          },
          "metadata": {}
        },
        {
          "output_type": "display_data",
          "data": {
            "text/plain": [
              "array([ 2,  1,  2, 10])"
            ]
          },
          "metadata": {}
        }
      ]
    },
    {
      "cell_type": "markdown",
      "source": [
        "###4.2.3 Notation of matrix\n",
        "\n",
        "Matrix is expressed with box brackets or parentheses like below.\n",
        "\n",
        "$A = \\begin{bmatrix}\n",
        "a_{1\\,1} & a_{1\\,2} & \\cdots & a_{1\\, p}\\\\\n",
        "a_{2\\,1} & a_{2\\,2} & \\cdots & a_{2\\, p}\\\\\n",
        "\\cdot & \\cdot & \\cdots & \\cdot\\\\\n",
        "a_{n\\,1} & a_{n\\,2} & \\cdots & a_{n\\, p}\n",
        "\\end{bmatrix}\n",
        "=\n",
        "\\begin{pmatrix}\n",
        "a_{1\\,1} & a_{1\\,2} & \\cdots & a_{1\\, p}\\\\\n",
        "a_{2\\,1} & a_{2\\,2} & \\cdots & a_{2\\, p}\\\\\n",
        "\\cdot & \\cdot & \\cdots & \\cdot\\\\\n",
        "a_{n\\,1} & a_{n\\,2} & \\cdots & a_{n\\, p}\n",
        "\\end{pmatrix} = (a_{i\\,j}) \\in \\mathbb{R}^{n\\times p}$\n",
        "<br><br>\n",
        "In the array below, $a_{1\\,1} = 3$,  $a_{2\\,4} = 7$"
      ],
      "metadata": {
        "id": "HNoMFSEZdzQT"
      }
    },
    {
      "cell_type": "code",
      "source": [
        "display(A[0, 0])\n",
        "display(A[1, 3])"
      ],
      "metadata": {
        "id": "FxrE-wpJgUgu",
        "outputId": "4ee25040-bd58-4ed8-f50e-58fa3cb5726e",
        "colab": {
          "base_uri": "https://localhost:8080/",
          "height": 56
        }
      },
      "execution_count": 48,
      "outputs": [
        {
          "output_type": "display_data",
          "data": {
            "text/plain": [
              "3"
            ]
          },
          "metadata": {}
        },
        {
          "output_type": "display_data",
          "data": {
            "text/plain": [
              "7"
            ]
          },
          "metadata": {}
        }
      ]
    }
  ]
}