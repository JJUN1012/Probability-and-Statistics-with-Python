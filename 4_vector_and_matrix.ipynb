{
  "nbformat": 4,
  "nbformat_minor": 0,
  "metadata": {
    "colab": {
      "provenance": [],
      "authorship_tag": "ABX9TyPRGPbaPoQBp61hEQvV/H52",
      "include_colab_link": true
    },
    "kernelspec": {
      "name": "python3",
      "display_name": "Python 3"
    },
    "language_info": {
      "name": "python"
    }
  },
  "cells": [
    {
      "cell_type": "markdown",
      "metadata": {
        "id": "view-in-github",
        "colab_type": "text"
      },
      "source": [
        "<a href=\"https://colab.research.google.com/github/JJUN1012/Probability-and-Statistics-with-Python/blob/main/4_vector_and_matrix.ipynb\" target=\"_parent\"><img src=\"https://colab.research.google.com/assets/colab-badge.svg\" alt=\"Open In Colab\"/></a>"
      ]
    },
    {
      "cell_type": "markdown",
      "source": [
        "This document is typed with python and $\\LaTeX$"
      ],
      "metadata": {
        "id": "KYBI6j-nKlZ-"
      }
    },
    {
      "cell_type": "markdown",
      "source": [
        "###import necessary packages for study"
      ],
      "metadata": {
        "id": "MIsnAnmxSVFt"
      }
    },
    {
      "cell_type": "code",
      "execution_count": 3,
      "metadata": {
        "colab": {
          "base_uri": "https://localhost:8080/"
        },
        "id": "3U3o8dnPQ6EL",
        "outputId": "086480b1-33bd-482e-e7e4-380d4f058985"
      },
      "outputs": [
        {
          "output_type": "stream",
          "name": "stdout",
          "text": [
            "1.26.4\n",
            "1.13.1\n"
          ]
        }
      ],
      "source": [
        "import numpy as np\n",
        "import scipy\n",
        "from scipy import linalg as la\n",
        "import matplotlib.pyplot as plt\n",
        "\n",
        "#check version\n",
        "print(np.__version__)\n",
        "print(scipy.__version__)"
      ]
    },
    {
      "cell_type": "markdown",
      "source": [
        "#4.1 express of vector"
      ],
      "metadata": {
        "id": "2UI1SE2sVSpt"
      }
    },
    {
      "cell_type": "code",
      "source": [
        "v =  np.array([0.61, 0.93, 0.24, 0.27])\n",
        "v"
      ],
      "metadata": {
        "colab": {
          "base_uri": "https://localhost:8080/"
        },
        "id": "2h5f_fCUWOC7",
        "outputId": "913016e1-3d04-410e-bbc9-1dafd9dc7d81"
      },
      "execution_count": 4,
      "outputs": [
        {
          "output_type": "execute_result",
          "data": {
            "text/plain": [
              "array([0.61, 0.93, 0.24, 0.27])"
            ]
          },
          "metadata": {},
          "execution_count": 4
        }
      ]
    },
    {
      "cell_type": "code",
      "source": [
        "print(v[0])\n",
        "print(v[3])"
      ],
      "metadata": {
        "colab": {
          "base_uri": "https://localhost:8080/"
        },
        "id": "E5eRb2OGWYbz",
        "outputId": "7217e871-ace6-4f65-ccba-c62603a0eca8"
      },
      "execution_count": 5,
      "outputs": [
        {
          "output_type": "stream",
          "name": "stdout",
          "text": [
            "0.61\n",
            "0.27\n"
          ]
        }
      ]
    },
    {
      "cell_type": "markdown",
      "source": [
        "###4.1.1 size(dimention, length) of vector"
      ],
      "metadata": {
        "id": "i6lS-RFZWjGT"
      }
    },
    {
      "cell_type": "code",
      "source": [
        "v.shape"
      ],
      "metadata": {
        "colab": {
          "base_uri": "https://localhost:8080/"
        },
        "id": "63_mN0B7WvhA",
        "outputId": "d7208dd6-02ab-490a-91ff-89bcf9e43785"
      },
      "execution_count": 6,
      "outputs": [
        {
          "output_type": "execute_result",
          "data": {
            "text/plain": [
              "(4,)"
            ]
          },
          "metadata": {},
          "execution_count": 6
        }
      ]
    },
    {
      "cell_type": "markdown",
      "source": [
        "###4.1.2 subvector"
      ],
      "metadata": {
        "id": "m0rpgdsIWzaV"
      }
    },
    {
      "cell_type": "code",
      "source": [
        "v_sub = v[0:2]#v[0]-v[1]\n",
        "v_sub"
      ],
      "metadata": {
        "colab": {
          "base_uri": "https://localhost:8080/"
        },
        "id": "3ndKaFhHXSGk",
        "outputId": "3f597aa3-6e74-451d-a03f-4c1c8d098cc3"
      },
      "execution_count": 7,
      "outputs": [
        {
          "output_type": "execute_result",
          "data": {
            "text/plain": [
              "array([0.61, 0.93])"
            ]
          },
          "metadata": {},
          "execution_count": 7
        }
      ]
    },
    {
      "cell_type": "markdown",
      "source": [
        "###4.1.3 special vectors\n",
        "A zero vector is a vector where all elements are zero."
      ],
      "metadata": {
        "id": "GElKPdh-Xd6H"
      }
    },
    {
      "cell_type": "code",
      "source": [
        "size = 3\n",
        "zeros = np.zeros(shape = (size,))\n",
        "zeros"
      ],
      "metadata": {
        "colab": {
          "base_uri": "https://localhost:8080/"
        },
        "id": "lOiFpFTHYGdv",
        "outputId": "196f0982-3539-44aa-a889-cbc99b24301a"
      },
      "execution_count": 8,
      "outputs": [
        {
          "output_type": "execute_result",
          "data": {
            "text/plain": [
              "array([0., 0., 0.])"
            ]
          },
          "metadata": {},
          "execution_count": 8
        }
      ]
    },
    {
      "cell_type": "markdown",
      "source": [
        "A vector with one element equal to 1 and all others equal to 0 is called a unit vector.\n",
        "\n",
        "Unit vectors are specially denoted using the $\\mathbf{e}$ notation.\n",
        "\n",
        "$\\mathbf{e}_1 = \\begin{bmatrix} 1 \\\\ 0 \\\\ 0 \\end{bmatrix}$\n",
        " $\\mathbf{e}_2 = \\begin{bmatrix} 0 \\\\ 1 \\\\ 0 \\end{bmatrix}$\n",
        " $\\mathbf{e}_3 = \\begin{bmatrix} 0 \\\\ 0 \\\\ 1 \\end{bmatrix}$\n"
      ],
      "metadata": {
        "id": "r6IWoEhSYROV"
      }
    },
    {
      "cell_type": "code",
      "source": [
        "e = np.zeros(shape = (3,))\n",
        "\n",
        "i = 1 #locate 1\n",
        "\n",
        "e[i] = 1\n",
        "e"
      ],
      "metadata": {
        "colab": {
          "base_uri": "https://localhost:8080/"
        },
        "id": "A2CiCH1FZmPT",
        "outputId": "5f901077-cf7f-4c04-b291-0d5cfc4e1cb8"
      },
      "execution_count": 9,
      "outputs": [
        {
          "output_type": "execute_result",
          "data": {
            "text/plain": [
              "array([0., 1., 0.])"
            ]
          },
          "metadata": {},
          "execution_count": 9
        }
      ]
    },
    {
      "cell_type": "markdown",
      "source": [
        "A one vector is a vector where all elements are one."
      ],
      "metadata": {
        "id": "reWDHCeRZ_rY"
      }
    },
    {
      "cell_type": "code",
      "source": [
        "one = np.ones(shape = (size,))\n",
        "one"
      ],
      "metadata": {
        "colab": {
          "base_uri": "https://localhost:8080/"
        },
        "id": "-zlgeWFQaG0h",
        "outputId": "ff698f46-8357-49cd-923b-97101646e671"
      },
      "execution_count": 10,
      "outputs": [
        {
          "output_type": "execute_result",
          "data": {
            "text/plain": [
              "array([1., 1., 1.])"
            ]
          },
          "metadata": {},
          "execution_count": 10
        }
      ]
    },
    {
      "cell_type": "markdown",
      "source": [
        "###4.1.4 geometric meaning of vectors\n",
        "\n",
        "In two or three-dimensional space, vectors can be interpreted as:\n",
        "\n",
        "* Displacements from one point to another\n",
        "* Forces acting in a particular direction\n",
        "* Velocities with both speed and direction\n",
        "* Any quantity that requires both magnitude and direction to be fully described"
      ],
      "metadata": {
        "id": "id-sS551aOSx"
      }
    },
    {
      "cell_type": "markdown",
      "source": [
        "###4.1.5 Vector Calculation\n",
        "####4.1.5.1 Vector Addition\n",
        "Addition of two vectors of the same size is defined as the sum of their corresponding elements.\n",
        "\n",
        "$\\begin{bmatrix} 1 \\\\ 3 \\end{bmatrix} + \\begin{bmatrix} 3 \\\\ 1 \\end{bmatrix} = \\begin{bmatrix} 4 \\\\ 4 \\end{bmatrix}$\n",
        "\n",
        "The addition operation satisfies the commutative law and the associative law."
      ],
      "metadata": {
        "id": "Pj2dkHsQbEYR"
      }
    },
    {
      "cell_type": "code",
      "source": [
        "a = np.array([1, 3])\n",
        "b = np.array([3, 1])\n",
        "a + b"
      ],
      "metadata": {
        "colab": {
          "base_uri": "https://localhost:8080/"
        },
        "id": "Ns6kByrJdaaN",
        "outputId": "64aa6c04-32e9-4218-fcdf-dadc9237157e"
      },
      "execution_count": 11,
      "outputs": [
        {
          "output_type": "execute_result",
          "data": {
            "text/plain": [
              "array([4, 4])"
            ]
          },
          "metadata": {},
          "execution_count": 11
        }
      ]
    },
    {
      "cell_type": "code",
      "source": [
        "#commutative law\n",
        "a + b == b + a"
      ],
      "metadata": {
        "colab": {
          "base_uri": "https://localhost:8080/"
        },
        "id": "8iPhvVYgdiFN",
        "outputId": "1a11efcd-6cba-4f56-e6fb-abc2c9e57cd2"
      },
      "execution_count": 12,
      "outputs": [
        {
          "output_type": "execute_result",
          "data": {
            "text/plain": [
              "array([ True,  True])"
            ]
          },
          "metadata": {},
          "execution_count": 12
        }
      ]
    },
    {
      "cell_type": "code",
      "source": [
        "#associative law\n",
        "d = np.array([1, 2])\n",
        "(a + b) + d == a + (b + d)"
      ],
      "metadata": {
        "colab": {
          "base_uri": "https://localhost:8080/"
        },
        "id": "pfxw3o9Tdv-8",
        "outputId": "ea029731-8749-4990-b77a-e2558bdba90e"
      },
      "execution_count": 13,
      "outputs": [
        {
          "output_type": "execute_result",
          "data": {
            "text/plain": [
              "array([ True,  True])"
            ]
          },
          "metadata": {},
          "execution_count": 13
        }
      ]
    },
    {
      "cell_type": "markdown",
      "source": [
        "####4.1.5.2 Vector subtraction\n",
        "$\\begin{bmatrix} 3 \\\\ 1 \\end{bmatrix} - \\begin{bmatrix} 1 \\\\ 3 \\end{bmatrix} = \\begin{bmatrix} 2 \\\\ -2 \\end{bmatrix}$"
      ],
      "metadata": {
        "id": "1d6h6R5CeSiC"
      }
    },
    {
      "cell_type": "code",
      "source": [
        "b - a"
      ],
      "metadata": {
        "colab": {
          "base_uri": "https://localhost:8080/"
        },
        "id": "1_Xg7LbKlPoT",
        "outputId": "bf4294f1-9bf4-4f4d-938e-8506958afb87"
      },
      "execution_count": 14,
      "outputs": [
        {
          "output_type": "execute_result",
          "data": {
            "text/plain": [
              "array([ 2, -2])"
            ]
          },
          "metadata": {},
          "execution_count": 14
        }
      ]
    },
    {
      "cell_type": "markdown",
      "source": [
        "####4.1.5.3 Scalar-Vector multiplication\n",
        "Multiply all elments of a vector by scalar\n",
        "\n",
        "$\\begin{bmatrix} \\dfrac{1}{2} \\end{bmatrix} \\begin{bmatrix} 2 \\\\ 3 \\end{bmatrix} = \\begin{bmatrix} 1 \\\\ 1.5 \\end{bmatrix}$  \n",
        "\n",
        "$\\begin{bmatrix} 2 \\\\ 3 \\end{bmatrix} \\begin{bmatrix} \\dfrac{1}{2} \\end{bmatrix} = \\begin{bmatrix} 1 \\\\ 1.5 \\end{bmatrix}$  "
      ],
      "metadata": {
        "id": "gtDbt9ndmrZt"
      }
    },
    {
      "cell_type": "code",
      "source": [
        "alpha = 1/2\n",
        "a = np.array([2, 3])\n",
        "alpha * a"
      ],
      "metadata": {
        "colab": {
          "base_uri": "https://localhost:8080/"
        },
        "id": "Bzy-Un16obV6",
        "outputId": "95a1ae4f-ef5f-438c-8d1a-81b451af3835"
      },
      "execution_count": 15,
      "outputs": [
        {
          "output_type": "execute_result",
          "data": {
            "text/plain": [
              "array([1. , 1.5])"
            ]
          },
          "metadata": {},
          "execution_count": 15
        }
      ]
    },
    {
      "cell_type": "code",
      "source": [
        "#commutative law\n",
        "a * alpha == alpha * a"
      ],
      "metadata": {
        "colab": {
          "base_uri": "https://localhost:8080/"
        },
        "id": "45tgr8PZoz2q",
        "outputId": "1e0cb2bc-5eb3-44ae-f0e3-622c30db36d3"
      },
      "execution_count": 16,
      "outputs": [
        {
          "output_type": "execute_result",
          "data": {
            "text/plain": [
              "array([ True,  True])"
            ]
          },
          "metadata": {},
          "execution_count": 16
        }
      ]
    },
    {
      "cell_type": "code",
      "source": [
        "#distributive law\n",
        "beta = 0.7\n",
        "(alpha + beta) * a == alpha * a + beta * a"
      ],
      "metadata": {
        "colab": {
          "base_uri": "https://localhost:8080/"
        },
        "id": "EfC6MCy7pFI8",
        "outputId": "0c848af8-436b-41be-d606-f83836bd4bf9"
      },
      "execution_count": 17,
      "outputs": [
        {
          "output_type": "execute_result",
          "data": {
            "text/plain": [
              "array([ True,  True])"
            ]
          },
          "metadata": {},
          "execution_count": 17
        }
      ]
    },
    {
      "cell_type": "markdown",
      "source": [
        "####4.1.5.4 Linear Combination\n",
        "Linear combination is a fundamental concept in linear algebra that refers to the weighted sum of vectors.\n",
        "\n",
        "a₁v₁ + a₂v₂ + ... + aₙvₙ"
      ],
      "metadata": {
        "id": "uzMab2qmpk3k"
      }
    },
    {
      "cell_type": "markdown",
      "source": [
        "###4.1.6 inner product\n",
        "$a^Tb = \\sum_{i=1}^{n} a_ib_i$\n",
        "\n",
        "T is a notation for transpose\n",
        "\n",
        "it can be also expressed with $a \\cdot b ,  < a,  b >$\n",
        "\n",
        "$\\begin{bmatrix} -1 \\\\ 2 \\\\ 3\\end{bmatrix}^T \\begin{bmatrix} 1 \\\\ -2 \\\\ 4 \\end{bmatrix} = sum \\begin{bmatrix} -1 \\\\ -4 \\\\ 12 \\end{bmatrix} = 7$"
      ],
      "metadata": {
        "id": "PTJkWP2urXr5"
      }
    },
    {
      "cell_type": "code",
      "source": [
        "a =  np.array([-1, 2, 3])\n",
        "b =  np.array([1, -2, 4])\n",
        "\n",
        "print(a * b)\n",
        "np.sum (a * b)"
      ],
      "metadata": {
        "colab": {
          "base_uri": "https://localhost:8080/"
        },
        "id": "DQg9N83Ftdj2",
        "outputId": "aa526df8-cbeb-4b9b-ddaa-325470ef3612"
      },
      "execution_count": 18,
      "outputs": [
        {
          "output_type": "stream",
          "name": "stdout",
          "text": [
            "[-1 -4 12]\n"
          ]
        },
        {
          "output_type": "execute_result",
          "data": {
            "text/plain": [
              "7"
            ]
          },
          "metadata": {},
          "execution_count": 18
        }
      ]
    },
    {
      "cell_type": "code",
      "source": [
        "#with function\n",
        "print(np.inner(a, b))\n",
        "print(np.dot(a, b))"
      ],
      "metadata": {
        "colab": {
          "base_uri": "https://localhost:8080/"
        },
        "id": "wXOpHknVtzsj",
        "outputId": "b9dd70fd-50fa-48cf-dce3-65e3e9d61e2b"
      },
      "execution_count": 19,
      "outputs": [
        {
          "output_type": "stream",
          "name": "stdout",
          "text": [
            "7\n",
            "7\n"
          ]
        }
      ]
    },
    {
      "cell_type": "code",
      "source": [
        "#commutative law\n",
        "np.dot(a, b) == np.dot(b, a)"
      ],
      "metadata": {
        "colab": {
          "base_uri": "https://localhost:8080/"
        },
        "id": "nfYiQnFYw2YL",
        "outputId": "6b4ccfcd-c1be-4d08-aa72-5a8813555410"
      },
      "execution_count": 20,
      "outputs": [
        {
          "output_type": "execute_result",
          "data": {
            "text/plain": [
              "True"
            ]
          },
          "metadata": {},
          "execution_count": 20
        }
      ]
    },
    {
      "cell_type": "code",
      "source": [
        "#associative law\n",
        "alpha = 0.5\n",
        "np.dot(alpha * a, b) == alpha * np.dot(a, b)"
      ],
      "metadata": {
        "colab": {
          "base_uri": "https://localhost:8080/"
        },
        "id": "Y9mDP361xDJT",
        "outputId": "11925c7e-fddf-494b-d9e6-e83ae1b1a18a"
      },
      "execution_count": 21,
      "outputs": [
        {
          "output_type": "execute_result",
          "data": {
            "text/plain": [
              "True"
            ]
          },
          "metadata": {},
          "execution_count": 21
        }
      ]
    },
    {
      "cell_type": "code",
      "source": [
        "#distributive law\n",
        "c = np.array([1, 2, 3])\n",
        "np.dot(a + b, c) == np.dot(a, c) + np.dot(b, c)"
      ],
      "metadata": {
        "colab": {
          "base_uri": "https://localhost:8080/"
        },
        "id": "_aMMYfC7xSIZ",
        "outputId": "b73034f5-00a0-4b29-b6fe-994d006b507b"
      },
      "execution_count": 22,
      "outputs": [
        {
          "output_type": "execute_result",
          "data": {
            "text/plain": [
              "True"
            ]
          },
          "metadata": {},
          "execution_count": 22
        }
      ]
    },
    {
      "cell_type": "markdown",
      "source": [
        "some usuage of inner product\n",
        "1. $1^Ta = a_1 + \\ldots +a_n = \\sum_{i=1}^{n} a_i$\n",
        "2. $\\frac{1}{n}1^Ta = \\frac{1}{n}(a_1 + \\ldots + a_n) = \\bar{a}$\n",
        "3. $a^Ta = a^2_1 + \\ldots + a^2_n$"
      ],
      "metadata": {
        "id": "inY9GwCxycU7"
      }
    },
    {
      "cell_type": "code",
      "source": [
        "a = np.array([1, 2, 3])\n",
        "size = len(a)\n",
        "ones = np.ones(shape=(size, ))\n",
        "np.dot(ones, a)"
      ],
      "metadata": {
        "colab": {
          "base_uri": "https://localhost:8080/"
        },
        "id": "2vvl0-rrzTiU",
        "outputId": "fedda89f-0283-4a59-8913-04f792cc163c"
      },
      "execution_count": 23,
      "outputs": [
        {
          "output_type": "execute_result",
          "data": {
            "text/plain": [
              "6.0"
            ]
          },
          "metadata": {},
          "execution_count": 23
        }
      ]
    },
    {
      "cell_type": "code",
      "source": [
        "np.dot(ones, a) / len(a)"
      ],
      "metadata": {
        "colab": {
          "base_uri": "https://localhost:8080/"
        },
        "id": "l4MnBDsr08Bu",
        "outputId": "083b2ab6-cbd1-4b69-dccd-e948c4b7a057"
      },
      "execution_count": 24,
      "outputs": [
        {
          "output_type": "execute_result",
          "data": {
            "text/plain": [
              "2.0"
            ]
          },
          "metadata": {},
          "execution_count": 24
        }
      ]
    },
    {
      "cell_type": "code",
      "source": [
        "np.dot(a, a)"
      ],
      "metadata": {
        "colab": {
          "base_uri": "https://localhost:8080/"
        },
        "id": "d5BxIJVe1AaM",
        "outputId": "f7870540-a196-4c0d-8384-c6aa4a423dd2"
      },
      "execution_count": 25,
      "outputs": [
        {
          "output_type": "execute_result",
          "data": {
            "text/plain": [
              "14"
            ]
          },
          "metadata": {},
          "execution_count": 25
        }
      ]
    },
    {
      "cell_type": "markdown",
      "source": [
        "###4.1.7 Vector norm\n",
        "This is Euclidean norm of Vector.\n",
        "Norm means length or magnitude of vector\n",
        "\n",
        "$||a||_2 = \\sqrt{a^Ta} = \\sqrt{a^2_1 + \\ldots + a^2_n}$\n",
        "\n",
        "example\n",
        "\n",
        "$\\bigg|\\bigg|\\begin{bmatrix} 2 \\\\ 3 \\end{bmatrix}\\bigg|\\bigg|= \\sqrt{\\begin{bmatrix}2 \\\\ 3 \\end{bmatrix}^T\\begin{bmatrix}2 \\\\ 3 \\end{bmatrix}} = \\sqrt{sum\\begin{bmatrix}4 \\\\ 9 \\end{bmatrix}} = \\sqrt{13} = 3.606...$"
      ],
      "metadata": {
        "id": "01DpL-BD1Kw8"
      }
    },
    {
      "cell_type": "code",
      "source": [
        "a = np.array([2, 3])\n",
        "la.norm(a)"
      ],
      "metadata": {
        "colab": {
          "base_uri": "https://localhost:8080/"
        },
        "id": "1bNdkedX3qDa",
        "outputId": "8c7b01ed-1b7d-4bd4-c017-511e12f66ec7"
      },
      "execution_count": 26,
      "outputs": [
        {
          "output_type": "execute_result",
          "data": {
            "text/plain": [
              "3.605551275463989"
            ]
          },
          "metadata": {},
          "execution_count": 26
        }
      ]
    },
    {
      "cell_type": "markdown",
      "source": [
        "A norm satisfies the following properties.\n",
        "\n",
        "* $||\\beta a|| = |\\beta|\\,||a||$\n",
        "* $||a + b|| \\leq ||a|| + ||b||$\n",
        "* $||a|| \\geq 0$\n",
        "* $||a|| = 0 \\Rightarrow a = 0$"
      ],
      "metadata": {
        "id": "GQxp-sLs4Czg"
      }
    },
    {
      "cell_type": "code",
      "source": [
        "a = np.array([-1, 2, 3])\n",
        "b = np.array([1, -2, 4])\n",
        "\n",
        "beta = 0.5\n",
        "la.norm(beta * a) == np.abs(beta) * la.norm(a)"
      ],
      "metadata": {
        "colab": {
          "base_uri": "https://localhost:8080/"
        },
        "id": "gma9FmdJ7lfd",
        "outputId": "05bd0a8d-5922-4367-b0ad-e1754b31970f"
      },
      "execution_count": 27,
      "outputs": [
        {
          "output_type": "execute_result",
          "data": {
            "text/plain": [
              "True"
            ]
          },
          "metadata": {},
          "execution_count": 27
        }
      ]
    },
    {
      "cell_type": "code",
      "source": [
        "la.norm(a + b) <= la.norm(a) + la.norm(b)"
      ],
      "metadata": {
        "colab": {
          "base_uri": "https://localhost:8080/"
        },
        "id": "m38fwzGn7_8k",
        "outputId": "b1a6a5d1-ea61-4e50-d755-454d7f8872ff"
      },
      "execution_count": 28,
      "outputs": [
        {
          "output_type": "execute_result",
          "data": {
            "text/plain": [
              "True"
            ]
          },
          "metadata": {},
          "execution_count": 28
        }
      ]
    },
    {
      "cell_type": "code",
      "source": [
        "la.norm(a) >= 0"
      ],
      "metadata": {
        "colab": {
          "base_uri": "https://localhost:8080/"
        },
        "id": "PzbmpjQw8SxV",
        "outputId": "1ffa6509-9d9a-433f-f35a-42640450102c"
      },
      "execution_count": 29,
      "outputs": [
        {
          "output_type": "execute_result",
          "data": {
            "text/plain": [
              "True"
            ]
          },
          "metadata": {},
          "execution_count": 29
        }
      ]
    },
    {
      "cell_type": "code",
      "source": [
        "print(la.norm(np.zeros(shape=(2,))))\n",
        "a == 0"
      ],
      "metadata": {
        "colab": {
          "base_uri": "https://localhost:8080/"
        },
        "id": "byG3slgp8dWi",
        "outputId": "6035bb72-d192-4c8e-9eb5-57a2f9fa93ce"
      },
      "execution_count": 30,
      "outputs": [
        {
          "output_type": "stream",
          "name": "stdout",
          "text": [
            "0.0\n"
          ]
        },
        {
          "output_type": "execute_result",
          "data": {
            "text/plain": [
              "array([False, False, False])"
            ]
          },
          "metadata": {},
          "execution_count": 30
        }
      ]
    },
    {
      "cell_type": "markdown",
      "source": [
        "###4.1.8 Inner product & Norm\n",
        "\n",
        "$u\\cdot v = ||u||\\,||v||\\,cos\\theta$\n",
        "\n",
        "This formula showes that the inner product is in propotional to length of the vectors and $cos$ of angle between the vectors.\n",
        "\n",
        "1.   When both of Vectors are heading the same direction($\\theta = 0^\\circ$), the inner product has the max value.\n",
        "2.   When two Vectors are perpendicular($\\theta=90^\\circ$), the inner product is 0.\n",
        "3.   When two Vectors are heading completely opposite directions($\\theta = 180^\\circ$), the inner product has the min value.\n",
        "\n",
        "\n"
      ],
      "metadata": {
        "id": "NIdi6n5IDVx_"
      }
    },
    {
      "cell_type": "markdown",
      "source": [
        "###4.1.9 Vector linear dependence\n",
        "It is a funcamental concept in linear algebra that describes the relationship between bectors in a vector space.\n",
        "\n",
        "A set of vectors ${v_q, v_2, ...,v_n}$ is linearly dependent if there exist scalars $c_1,c_2,...,c_n$, not all zero, such that:\n",
        "\n",
        "$c_1v_1 + c_2v_2 + ... +c_nv_n = 0$\n",
        "\n",
        "For example:\n",
        "\n",
        "$a_1 = \\begin{pmatrix} 1 \\\\ 0 \\\\ 0 \\end{pmatrix}, a_2 = \\begin{pmatrix} 0 \\\\ 1 \\\\ 0 \\end{pmatrix}, a_3 = \\begin{pmatrix} 1 \\\\ 1 \\\\ 0 \\end{pmatrix}$\n",
        "\n",
        "Clearly, $a_3 = a_1 + a_2$, therefore the vectors above are linearly dependent.\n",
        "<br><br>\n",
        "\n",
        "####Linear independence\n",
        "In other words, at least one vector in the set can be expressed as a linear combination of the others.\n",
        "\n",
        "Conversely, a set of vectors is linearly independent if the only solution to:\n",
        "\n",
        "$c_1v_1 + c_2v_2 + ... + c_nv_n$\n",
        "is $c_1 = c_2 = ... = c_n = 0$\n",
        "\n",
        "for example:\n",
        "\n",
        "$a_1 = \\begin{pmatrix} 1 \\\\ 0 \\\\ 0 \\end{pmatrix}, a_2 = \\begin{pmatrix} 0 \\\\ -1 \\\\ 0 \\end{pmatrix}, a_3 = \\begin{pmatrix} -1 \\\\ 0 \\\\ 1 \\end{pmatrix}$\n",
        "\n",
        "From $\\beta_1a_1 + \\beta_2a_2 + \\beta_3a_3 = 0$, we have $ \\beta+1 - \\beta_3 = 0, -\\beta_2 = 0,$ and $\\beta_3 = 0$.Therefore, all $\\beta$ values are 0 and vectors above are linearly independent.\n"
      ],
      "metadata": {
        "id": "qj67dtKhNFo8"
      }
    },
    {
      "cell_type": "markdown",
      "source": [
        "####4.1.9.1 basis\n",
        "\n",
        "A basis in $n$ linearly independent vectors in $n$ dimensions. In other words, two vectors which are linearly independent in two-dimensional vector space. When there are another vectors, they can be expressend as a linear combination of two other linearly independent vectors.\n",
        "\n",
        "So, If $n$ dimentional vector $a_1, \\ldots,a_n$ is a basis, Any $n$ dimensional vector $x$ can be expressed as a linear combination of bases."
      ],
      "metadata": {
        "id": "N7uyBXvtbl6L"
      }
    },
    {
      "cell_type": "markdown",
      "source": [
        "**Example**\n",
        "\n",
        "Express $x = \\begin{bmatrix} 0.3 \\\\ 0.7 \\end{bmatrix}$ as a linear combination of $a1 = \\begin{bmatrix} 2 \\\\ 0 \\end{bmatrix}, a2 = \\begin{bmatrix} 0 \\\\ 3 \\end{bmatrix}$\n",
        "\n",
        "<br>Answer:<br>\n",
        "$\\beta_1\\begin{bmatrix} 2 \\\\ 0 \\end{bmatrix} + \\beta_2\\begin{bmatrix} 0 \\\\ 3 \\end{bmatrix} = \\begin{bmatrix} 0.3 \\\\ 0.7 \\end{bmatrix}$\n",
        "\n",
        "So,\n",
        "$\\,2\\beta_1 =0.3, 3\\beta_2 = 0.7$\n",
        "\n",
        "Therefore, $\\begin{bmatrix} \\beta_1 \\\\ \\beta_2 \\end{bmatrix} = \\begin{bmatrix} \\frac{0.3}{2} \\\\ \\frac{0.7}{3} \\end{bmatrix}$."
      ],
      "metadata": {
        "id": "YVCOVp3Web4r"
      }
    },
    {
      "cell_type": "markdown",
      "source": [
        "####4.1.9.2 Orthonormal vector\n",
        "\n",
        "$a_1 \\cdots a_n$ being orthonormal means that they form a set of vectors that are mutually orthogonal while simultaneously each having a length of 1.\n",
        "\n",
        "In the other words, when $i = j$, the dot product, $a_i^T \\cdot a_j = 1$, and when $i \\neq j$, the dot product, $a_i^T \\cdot a_j = 0$\n",
        "\n",
        "**example**\n",
        "\n",
        "$a_1 = \\begin{bmatrix} 0 \\\\ 0 \\\\ 1 \\end{bmatrix},\n",
        "a_2 = \\frac{1}{\\sqrt{2}} \\begin{bmatrix} 1 \\\\ 1 \\\\ 0 \\end{bmatrix},\n",
        "a_3 = \\frac{1}{\\sqrt{2}} \\begin{bmatrix} 1 \\\\ -1 \\\\ 0 \\end{bmatrix}$"
      ],
      "metadata": {
        "id": "RRvtUIacO9V6"
      }
    },
    {
      "cell_type": "code",
      "source": [
        "a1 = np.array([0, 0, 1]).reshape(-1, 1)\n",
        "a2 = 1/np.sqrt(2) * np.array([1, 1, 0]).reshape(-1, 1)\n",
        "a3 = 1/np.sqrt(2) * np.array([1, -1, 0]).reshape(-1, 1)\n",
        "\n",
        "A = np.concatenate((a1, a2, a3), axis = 1)\n",
        "\n",
        "np.round(A.T @ A, 2)"
      ],
      "metadata": {
        "colab": {
          "base_uri": "https://localhost:8080/"
        },
        "id": "SC6HTywbSC0z",
        "outputId": "7615728b-93d7-4c9d-95ef-730670a921ff"
      },
      "execution_count": 31,
      "outputs": [
        {
          "output_type": "execute_result",
          "data": {
            "text/plain": [
              "array([[ 1.,  0.,  0.],\n",
              "       [ 0.,  1., -0.],\n",
              "       [ 0., -0.,  1.]])"
            ]
          },
          "metadata": {},
          "execution_count": 31
        }
      ]
    },
    {
      "cell_type": "markdown",
      "source": [
        "#4.2 Express of matrix\n",
        "Matirx is an array that is divided with row and column.\n",
        "\n",
        "You can define elements of matrix as numbers or characters\n",
        "\n",
        "$A = \\begin{bmatrix}\n",
        "-1.09 & 1 & 0.28 & -1.51 \\\\\n",
        " -0.58 & 1.65 & -2.43 & -0.43 \\\\\n",
        "  1.27 & -0.87 & -0.68 & -0.09 \\\\\n",
        "   1.49 & -0.64 & -0.44 & -0.43\n",
        "   \\end{bmatrix}$\n",
        "\n",
        "$B = \\begin{bmatrix}\n",
        "a & c \\\\\n",
        "b & d\n",
        "\\end{bmatrix}$"
      ],
      "metadata": {
        "id": "-Ve-zY56XMGH"
      }
    },
    {
      "cell_type": "code",
      "source": [
        "A = np.array(np.random.RandomState(123).normal(size = 16)).reshape(4, 4)\n",
        "A.round(3)"
      ],
      "metadata": {
        "colab": {
          "base_uri": "https://localhost:8080/"
        },
        "id": "t_H5fyr5Zq-M",
        "outputId": "bba23010-f5f6-47f2-8b8c-5c2eb0b97b48"
      },
      "execution_count": 32,
      "outputs": [
        {
          "output_type": "execute_result",
          "data": {
            "text/plain": [
              "array([[-1.086,  0.997,  0.283, -1.506],\n",
              "       [-0.579,  1.651, -2.427, -0.429],\n",
              "       [ 1.266, -0.867, -0.679, -0.095],\n",
              "       [ 1.491, -0.639, -0.444, -0.434]])"
            ]
          },
          "metadata": {},
          "execution_count": 32
        }
      ]
    },
    {
      "cell_type": "markdown",
      "source": [
        "###4.2.1 Size of matrix\n",
        "\n",
        "Size of matrix is defined with count of row & column. In 4.2, A matrix has 4 rows and 4 columns, so it is called **4 by 4** matrix.\n",
        "\n",
        "Also you can express like $A_{n\\times p}$\n",
        "\n",
        "Especially, a matrix which has the same count of rows and columns is called **square matrix**."
      ],
      "metadata": {
        "id": "SQs4gZ_ZZ8zV"
      }
    },
    {
      "cell_type": "code",
      "source": [
        "A = np.array(np.random.RandomState(123).normal(size = 12)).reshape(3, 4)\n",
        "A.shape"
      ],
      "metadata": {
        "colab": {
          "base_uri": "https://localhost:8080/"
        },
        "id": "YXPVn4Pfbucg",
        "outputId": "1a772e68-b71c-4267-eb9e-04a4ce6e2fa2"
      },
      "execution_count": 33,
      "outputs": [
        {
          "output_type": "execute_result",
          "data": {
            "text/plain": [
              "(3, 4)"
            ]
          },
          "metadata": {},
          "execution_count": 33
        }
      ]
    },
    {
      "cell_type": "markdown",
      "source": [
        "###4.2.2 Row vector and Column vector\n",
        "\n",
        "A vector which consists of row only is called row vector, and a vector which consists of column only is called column vector.\n",
        "\n",
        "**Example**\n",
        "\n",
        "$A = \\begin{bmatrix}\n",
        "3 & 3 & 7 & 2\\\\\n",
        "4 & 11 & 10 & 7 \\\\\n",
        "2 & 1 & 2 & 10\n",
        "\\end{bmatrix}$\n",
        "\n",
        "In this matrix, $\\begin{bmatrix}3 \\\\ 4 \\\\ 2\\end{bmatrix}$ is one of the column vectors, and $\\begin{bmatrix}3 & 3 & 7 & 2\\end{bmatrix}$ is one of the row vectors."
      ],
      "metadata": {
        "id": "r6NEocwTcAHO"
      }
    },
    {
      "cell_type": "code",
      "source": [
        "A = np.array(np.random.RandomState(123).randint(1, 12, size = 12)).reshape(3, 4)\n",
        "A"
      ],
      "metadata": {
        "colab": {
          "base_uri": "https://localhost:8080/"
        },
        "id": "jGF9zScTdMas",
        "outputId": "9681deb8-bcf6-4dbe-cbb0-19b7c3b73122"
      },
      "execution_count": 34,
      "outputs": [
        {
          "output_type": "execute_result",
          "data": {
            "text/plain": [
              "array([[ 3,  3,  7,  2],\n",
              "       [ 4, 11, 10,  7],\n",
              "       [ 2,  1,  2, 10]])"
            ]
          },
          "metadata": {},
          "execution_count": 34
        }
      ]
    },
    {
      "cell_type": "code",
      "source": [
        "#Row vector\n",
        "display(A[:, 0])\n",
        "display(A[:, 1])\n",
        "display(A[:, 2])\n",
        "display(A[:, 3])"
      ],
      "metadata": {
        "colab": {
          "base_uri": "https://localhost:8080/",
          "height": 90
        },
        "id": "YgL4Jv_sdUfu",
        "outputId": "c99a7958-96e2-4716-8ccf-bf9fb97a80d0"
      },
      "execution_count": 35,
      "outputs": [
        {
          "output_type": "display_data",
          "data": {
            "text/plain": [
              "array([3, 4, 2])"
            ]
          },
          "metadata": {}
        },
        {
          "output_type": "display_data",
          "data": {
            "text/plain": [
              "array([ 3, 11,  1])"
            ]
          },
          "metadata": {}
        },
        {
          "output_type": "display_data",
          "data": {
            "text/plain": [
              "array([ 7, 10,  2])"
            ]
          },
          "metadata": {}
        },
        {
          "output_type": "display_data",
          "data": {
            "text/plain": [
              "array([ 2,  7, 10])"
            ]
          },
          "metadata": {}
        }
      ]
    },
    {
      "cell_type": "code",
      "source": [
        "#Column vector\n",
        "display(A[0, :])\n",
        "display(A[1, :])\n",
        "display(A[2, :])"
      ],
      "metadata": {
        "colab": {
          "base_uri": "https://localhost:8080/",
          "height": 72
        },
        "id": "BM2PUXsSdg-l",
        "outputId": "87bad4f2-6f1c-4569-8d6a-0a7da1fb8941"
      },
      "execution_count": 36,
      "outputs": [
        {
          "output_type": "display_data",
          "data": {
            "text/plain": [
              "array([3, 3, 7, 2])"
            ]
          },
          "metadata": {}
        },
        {
          "output_type": "display_data",
          "data": {
            "text/plain": [
              "array([ 4, 11, 10,  7])"
            ]
          },
          "metadata": {}
        },
        {
          "output_type": "display_data",
          "data": {
            "text/plain": [
              "array([ 2,  1,  2, 10])"
            ]
          },
          "metadata": {}
        }
      ]
    },
    {
      "cell_type": "markdown",
      "source": [
        "###4.2.3 Notation of matrix\n",
        "\n",
        "Matrix is expressed with box brackets or parentheses like below.\n",
        "\n",
        "$A = \\begin{bmatrix}\n",
        "a_{1\\,1} & a_{1\\,2} & \\cdots & a_{1\\, p}\\\\\n",
        "a_{2\\,1} & a_{2\\,2} & \\cdots & a_{2\\, p}\\\\\n",
        "\\cdot & \\cdot & \\cdots & \\cdot\\\\\n",
        "a_{n\\,1} & a_{n\\,2} & \\cdots & a_{n\\, p}\n",
        "\\end{bmatrix}\n",
        "=\n",
        "\\begin{pmatrix}\n",
        "a_{1\\,1} & a_{1\\,2} & \\cdots & a_{1\\, p}\\\\\n",
        "a_{2\\,1} & a_{2\\,2} & \\cdots & a_{2\\, p}\\\\\n",
        "\\cdot & \\cdot & \\cdots & \\cdot\\\\\n",
        "a_{n\\,1} & a_{n\\,2} & \\cdots & a_{n\\, p}\n",
        "\\end{pmatrix} = (a_{i\\,j}) \\in \\mathbb{R}^{n\\times p}$\n",
        "<br><br>\n",
        "In the array below, $a_{1\\,1} = 3$,  $a_{2\\,4} = 7$"
      ],
      "metadata": {
        "id": "HNoMFSEZdzQT"
      }
    },
    {
      "cell_type": "code",
      "source": [
        "display(A[0, 0])\n",
        "display(A[1, 3])"
      ],
      "metadata": {
        "colab": {
          "base_uri": "https://localhost:8080/",
          "height": 54
        },
        "id": "FxrE-wpJgUgu",
        "outputId": "b3006897-be04-443c-c217-279d3327fceb"
      },
      "execution_count": 37,
      "outputs": [
        {
          "output_type": "display_data",
          "data": {
            "text/plain": [
              "3"
            ]
          },
          "metadata": {}
        },
        {
          "output_type": "display_data",
          "data": {
            "text/plain": [
              "7"
            ]
          },
          "metadata": {}
        }
      ]
    },
    {
      "cell_type": "markdown",
      "source": [
        "###4.2.4 Matrix operation\n",
        "\n",
        "####4.2.4.1 Matrix addition\n",
        "\n",
        "Addition of matrices of the same size is defined as follows.\n",
        "\n",
        "When $A = (a_{ij}), B = (b_{ij})$,\n",
        "\n",
        "$A + B = (a_{ij} + b_{ij})$\n",
        "\n",
        "It is the sum of the balues of the elements at the correspoinding position."
      ],
      "metadata": {
        "id": "BhsxBGcgg1QL"
      }
    },
    {
      "cell_type": "code",
      "source": [
        "A = np.arange(1, 7).reshape(2, 3)\n",
        "B = np.arange(3, 9).reshape(2, 3)\n",
        "display(A)\n",
        "display(B)\n",
        "A + B"
      ],
      "metadata": {
        "id": "3aKK9wYDiJxS",
        "outputId": "fea1f8d7-c041-4864-a89c-8a7d5a15de3d",
        "colab": {
          "base_uri": "https://localhost:8080/",
          "height": 127
        }
      },
      "execution_count": 38,
      "outputs": [
        {
          "output_type": "display_data",
          "data": {
            "text/plain": [
              "array([[1, 2, 3],\n",
              "       [4, 5, 6]])"
            ]
          },
          "metadata": {}
        },
        {
          "output_type": "display_data",
          "data": {
            "text/plain": [
              "array([[3, 4, 5],\n",
              "       [6, 7, 8]])"
            ]
          },
          "metadata": {}
        },
        {
          "output_type": "execute_result",
          "data": {
            "text/plain": [
              "array([[ 4,  6,  8],\n",
              "       [10, 12, 14]])"
            ]
          },
          "metadata": {},
          "execution_count": 38
        }
      ]
    },
    {
      "cell_type": "markdown",
      "source": [
        "This addition also obeys the commutative and associative laws."
      ],
      "metadata": {
        "id": "WRThZIAvigXg"
      }
    },
    {
      "cell_type": "code",
      "source": [
        "#Commutative law\n",
        "A + B == B + A"
      ],
      "metadata": {
        "id": "al5ruTpOifkG",
        "outputId": "756e1d81-30de-4b34-ab8d-bd6e77910f85",
        "colab": {
          "base_uri": "https://localhost:8080/"
        }
      },
      "execution_count": 39,
      "outputs": [
        {
          "output_type": "execute_result",
          "data": {
            "text/plain": [
              "array([[ True,  True,  True],\n",
              "       [ True,  True,  True]])"
            ]
          },
          "metadata": {},
          "execution_count": 39
        }
      ]
    },
    {
      "cell_type": "code",
      "source": [
        "#Associative law\n",
        "C = np.arange(5, 11).reshape(2, 3)\n",
        "(A + B) + C == A + (B + C)"
      ],
      "metadata": {
        "id": "fcIX0NNOiwTP",
        "outputId": "20b43297-2543-4dd1-968f-a3230435feb4",
        "colab": {
          "base_uri": "https://localhost:8080/"
        }
      },
      "execution_count": 40,
      "outputs": [
        {
          "output_type": "execute_result",
          "data": {
            "text/plain": [
              "array([[ True,  True,  True],\n",
              "       [ True,  True,  True]])"
            ]
          },
          "metadata": {},
          "execution_count": 40
        }
      ]
    },
    {
      "cell_type": "markdown",
      "source": [
        "####4.2.4.2 Multiplication of scalar and matrix\n",
        "\n",
        "When $A = (a_{ij}), c \\in \\mathbb{R}$\n",
        "\n",
        "$cA = (ca_{ij})$\n",
        "\n",
        "In the other words, this multiplies each element by the scalar $c$\n",
        "\n",
        "$0.1 \\times \\begin{bmatrix}1 & 2 & 3 \\\\ 4 & 5 & 6\\end{bmatrix} = \\begin{bmatrix}0.1 & 0.2 & 0.3 \\\\ 0.4 & 0.5 & 0.6\\end{bmatrix}$"
      ],
      "metadata": {
        "id": "XQuqSeJ-jHyT"
      }
    },
    {
      "cell_type": "code",
      "source": [
        "c = 0.1\n",
        "c * A"
      ],
      "metadata": {
        "id": "GqsAsPwDkDuh",
        "outputId": "6df1d6b8-7306-429a-f66b-bd2b493de0ae",
        "colab": {
          "base_uri": "https://localhost:8080/"
        }
      },
      "execution_count": 41,
      "outputs": [
        {
          "output_type": "execute_result",
          "data": {
            "text/plain": [
              "array([[0.1, 0.2, 0.3],\n",
              "       [0.4, 0.5, 0.6]])"
            ]
          },
          "metadata": {},
          "execution_count": 41
        }
      ]
    },
    {
      "cell_type": "code",
      "source": [
        "#Commutative law\n",
        "c * A == A * c"
      ],
      "metadata": {
        "id": "l4rpb0XwkHpy",
        "outputId": "25c05756-7a10-42e2-f23a-f7bfba91e06d",
        "colab": {
          "base_uri": "https://localhost:8080/"
        }
      },
      "execution_count": 42,
      "outputs": [
        {
          "output_type": "execute_result",
          "data": {
            "text/plain": [
              "array([[ True,  True,  True],\n",
              "       [ True,  True,  True]])"
            ]
          },
          "metadata": {},
          "execution_count": 42
        }
      ]
    },
    {
      "cell_type": "markdown",
      "source": [
        "####4.2.4.3 Transpose of a Matrix\n",
        "\n",
        "Basically, it means that exchanges of position of rows and columns.\n",
        "\n",
        "For example, $\\begin{bmatrix} 1 & 2 & 3 \\\\ 4 & 5 & 6\\end{bmatrix}^T = \\begin{bmatrix} 1 & 4 \\\\ 2 & 5 \\\\ 3 & 6\\end{bmatrix}$"
      ],
      "metadata": {
        "id": "xq34HmxpUhS3"
      }
    },
    {
      "cell_type": "code",
      "source": [
        "A.T"
      ],
      "metadata": {
        "colab": {
          "base_uri": "https://localhost:8080/"
        },
        "id": "4RFIow60VWIK",
        "outputId": "89c155dc-c32a-407e-f90d-37c509e3c4c2"
      },
      "execution_count": 43,
      "outputs": [
        {
          "output_type": "execute_result",
          "data": {
            "text/plain": [
              "array([[1, 4],\n",
              "       [2, 5],\n",
              "       [3, 6]])"
            ]
          },
          "metadata": {},
          "execution_count": 43
        }
      ]
    },
    {
      "cell_type": "markdown",
      "source": [
        "It has the following properties:\n",
        "\n",
        "\n",
        "\n",
        "1.  $(A + B)^T = A^T + B^T$\n",
        "2.  $(cA)^T = cA^T$\n",
        "\n"
      ],
      "metadata": {
        "id": "iOOJtfXyVhzB"
      }
    },
    {
      "cell_type": "code",
      "source": [
        "A = np.arange(1, 7).reshape(2, 3)\n",
        "B = np.arange(3, 9).reshape(2, 3)\n",
        "\n",
        "A.T + B.T == (A + B).T"
      ],
      "metadata": {
        "colab": {
          "base_uri": "https://localhost:8080/"
        },
        "id": "fsJZmrnvV9B6",
        "outputId": "e96921cf-600b-45e2-9a59-8944247222c1"
      },
      "execution_count": 44,
      "outputs": [
        {
          "output_type": "execute_result",
          "data": {
            "text/plain": [
              "array([[ True,  True],\n",
              "       [ True,  True],\n",
              "       [ True,  True]])"
            ]
          },
          "metadata": {},
          "execution_count": 44
        }
      ]
    },
    {
      "cell_type": "code",
      "source": [
        "c = 0.1\n",
        "(c * A).T == c * A.T"
      ],
      "metadata": {
        "colab": {
          "base_uri": "https://localhost:8080/"
        },
        "id": "yICsCWk_WOva",
        "outputId": "ac4e3a5c-136f-45a9-d83e-52615d1a3b88"
      },
      "execution_count": 45,
      "outputs": [
        {
          "output_type": "execute_result",
          "data": {
            "text/plain": [
              "array([[ True,  True],\n",
              "       [ True,  True],\n",
              "       [ True,  True]])"
            ]
          },
          "metadata": {},
          "execution_count": 45
        }
      ]
    },
    {
      "cell_type": "markdown",
      "source": [
        "####4.2.4.4 Matrix multiplication\n",
        "\n",
        "It is defined as below\n",
        "\n",
        "$AB = (c_{il}) = (\\sum\\limits_{r=1}^p a_{ir} b_{rl}),\\; i = 1, \\ldots, n, \\; l = 1,\\ldots,m$\n",
        "\n",
        "As you can see in definition, count of columns of $A$ and count of rows of $B$ must be the same. Size of the result matrix is count of rows of $A$ and count of columns of $B$.\n",
        "\n",
        "$\\begin{bmatrix} 1 & 2 & 3 \\\\ 4 & 5 & 6\\end{bmatrix}\\begin{bmatrix} 1 & 2 \\\\ 3 & 4 \\\\ 5 & 6\\end{bmatrix} = \\begin{bmatrix} 22 & 28 \\\\ 49 & 64\\end{bmatrix}$"
      ],
      "metadata": {
        "id": "ONeDpxdXWcsq"
      }
    },
    {
      "cell_type": "code",
      "source": [
        "A = np.arange(1, 7).reshape(2, 3)\n",
        "A"
      ],
      "metadata": {
        "colab": {
          "base_uri": "https://localhost:8080/"
        },
        "id": "EIvFE1hbYTG2",
        "outputId": "c47f4454-2db3-48f1-da51-6590cd02f5ce"
      },
      "execution_count": 46,
      "outputs": [
        {
          "output_type": "execute_result",
          "data": {
            "text/plain": [
              "array([[1, 2, 3],\n",
              "       [4, 5, 6]])"
            ]
          },
          "metadata": {},
          "execution_count": 46
        }
      ]
    },
    {
      "cell_type": "code",
      "source": [
        "B = np.arange(1, 7).reshape(3, 2)\n",
        "B"
      ],
      "metadata": {
        "colab": {
          "base_uri": "https://localhost:8080/"
        },
        "id": "ltbIE7VSYx-A",
        "outputId": "88a0df6e-7751-4f73-8bd2-e40313c3f540"
      },
      "execution_count": 51,
      "outputs": [
        {
          "output_type": "execute_result",
          "data": {
            "text/plain": [
              "array([[1, 2],\n",
              "       [3, 4],\n",
              "       [5, 6]])"
            ]
          },
          "metadata": {},
          "execution_count": 51
        }
      ]
    },
    {
      "cell_type": "code",
      "source": [
        "A @ B"
      ],
      "metadata": {
        "colab": {
          "base_uri": "https://localhost:8080/"
        },
        "id": "1GH6_knFY4BD",
        "outputId": "fcdf693d-2c45-4c25-a207-452256ba1f88"
      },
      "execution_count": 52,
      "outputs": [
        {
          "output_type": "execute_result",
          "data": {
            "text/plain": [
              "array([[22, 28],\n",
              "       [49, 64]])"
            ]
          },
          "metadata": {},
          "execution_count": 52
        }
      ]
    },
    {
      "cell_type": "code",
      "source": [
        "np.matmul(A, B)"
      ],
      "metadata": {
        "colab": {
          "base_uri": "https://localhost:8080/"
        },
        "id": "Xp6FynKiY7-_",
        "outputId": "c00b6f4c-3c81-4f18-a548-d1a189a8e529"
      },
      "execution_count": 53,
      "outputs": [
        {
          "output_type": "execute_result",
          "data": {
            "text/plain": [
              "array([[22, 28],\n",
              "       [49, 64]])"
            ]
          },
          "metadata": {},
          "execution_count": 53
        }
      ]
    },
    {
      "cell_type": "markdown",
      "source": [
        "Multiplication of Matrix doesn't meet commutative law."
      ],
      "metadata": {
        "id": "RJDe5UY2Y_g4"
      }
    },
    {
      "cell_type": "code",
      "source": [
        "A = np.arange(1, 5).reshape(2, 2)\n",
        "display(A)\n",
        "B = np.arange(5, 9).reshape(2, 2)\n",
        "display(B)\n",
        "\n",
        "display('A @ B: ', A @ B)\n",
        "display('B @ A: ', B @ A)"
      ],
      "metadata": {
        "colab": {
          "base_uri": "https://localhost:8080/",
          "height": 201
        },
        "id": "ohzIxj4EZRXh",
        "outputId": "baa5f6fa-2dbc-4ac8-b138-07fb19877a97"
      },
      "execution_count": 58,
      "outputs": [
        {
          "output_type": "display_data",
          "data": {
            "text/plain": [
              "array([[1, 2],\n",
              "       [3, 4]])"
            ]
          },
          "metadata": {}
        },
        {
          "output_type": "display_data",
          "data": {
            "text/plain": [
              "array([[5, 6],\n",
              "       [7, 8]])"
            ]
          },
          "metadata": {}
        },
        {
          "output_type": "display_data",
          "data": {
            "text/plain": [
              "'A @ B: '"
            ],
            "application/vnd.google.colaboratory.intrinsic+json": {
              "type": "string"
            }
          },
          "metadata": {}
        },
        {
          "output_type": "display_data",
          "data": {
            "text/plain": [
              "array([[19, 22],\n",
              "       [43, 50]])"
            ]
          },
          "metadata": {}
        },
        {
          "output_type": "display_data",
          "data": {
            "text/plain": [
              "'B @ A: '"
            ],
            "application/vnd.google.colaboratory.intrinsic+json": {
              "type": "string"
            }
          },
          "metadata": {}
        },
        {
          "output_type": "display_data",
          "data": {
            "text/plain": [
              "array([[23, 34],\n",
              "       [31, 46]])"
            ]
          },
          "metadata": {}
        }
      ]
    },
    {
      "cell_type": "markdown",
      "source": [
        "For matrix muliplication, the transpose operator holds as follows:\n",
        "\n",
        "$(AB)^T = B^TA^T$\n",
        "\n",
        "Because, $((AB)^T)_{ij} = \\sum_rb_{ri}a_{rj}$ and $(B^TA^T)_{ij} = \\sum_rb_{ri}a_{rj}$"
      ],
      "metadata": {
        "id": "fOVska2yZ2Qr"
      }
    },
    {
      "cell_type": "code",
      "source": [
        "#example\n",
        "(A @ B).T"
      ],
      "metadata": {
        "colab": {
          "base_uri": "https://localhost:8080/"
        },
        "id": "Edu21RvSaVmt",
        "outputId": "e8b09ffc-956c-470e-e7bc-61cdac20da47"
      },
      "execution_count": 59,
      "outputs": [
        {
          "output_type": "execute_result",
          "data": {
            "text/plain": [
              "array([[19, 43],\n",
              "       [22, 50]])"
            ]
          },
          "metadata": {},
          "execution_count": 59
        }
      ]
    },
    {
      "cell_type": "code",
      "source": [
        "B.T @ A.T"
      ],
      "metadata": {
        "colab": {
          "base_uri": "https://localhost:8080/"
        },
        "id": "bUqIVUHPbk7R",
        "outputId": "c3a23306-18f4-4edf-b707-2eec649d3502"
      },
      "execution_count": 60,
      "outputs": [
        {
          "output_type": "execute_result",
          "data": {
            "text/plain": [
              "array([[19, 43],\n",
              "       [22, 50]])"
            ]
          },
          "metadata": {},
          "execution_count": 60
        }
      ]
    },
    {
      "cell_type": "markdown",
      "source": [
        "####4.2.4.5 Submatrix\n",
        "\n",
        "A submatrix is ​​a matrix that can be obtained by deleting arbitrary rows and columns from any matrix A.\n",
        "\n",
        "$A = \\begin{bmatrix}1 & 2 & 3 \\\\ 4 & 5 &6\\\\7&8&9\\\\10&11&12\\end{bmatrix}$\n",
        "\n",
        "$A_{1:2, 2:3} = \\begin{bmatrix}2 & 3 \\\\ 5 & 6\\end{bmatrix}$\n",
        "$A_{:, 2:3} = \\begin{bmatrix}2 & 3 \\\\ 5 & 6 \\\\ 8&9 \\\\ 11&12\\end{bmatrix}$\n",
        "$A_{(1,3), (2,3)} = \\begin{bmatrix}2 & 3 \\\\ 8 & 9\\end{bmatrix}$"
      ],
      "metadata": {
        "id": "9zz9ng4nbo6q"
      }
    },
    {
      "cell_type": "code",
      "source": [
        "A = np.arange(1, 13).reshape(4, 3)\n",
        "A"
      ],
      "metadata": {
        "colab": {
          "base_uri": "https://localhost:8080/"
        },
        "id": "thB2Jpo2dVc_",
        "outputId": "c52f1132-571b-4a94-9c14-cebe61ae9703"
      },
      "execution_count": 63,
      "outputs": [
        {
          "output_type": "execute_result",
          "data": {
            "text/plain": [
              "array([[ 1,  2,  3],\n",
              "       [ 4,  5,  6],\n",
              "       [ 7,  8,  9],\n",
              "       [10, 11, 12]])"
            ]
          },
          "metadata": {},
          "execution_count": 63
        }
      ]
    },
    {
      "cell_type": "code",
      "source": [
        "A[0:2, 1:3]"
      ],
      "metadata": {
        "colab": {
          "base_uri": "https://localhost:8080/"
        },
        "id": "ZXquKxWFdjHH",
        "outputId": "a24fc2de-3f0a-4af9-f2d0-78ff9014af96"
      },
      "execution_count": 64,
      "outputs": [
        {
          "output_type": "execute_result",
          "data": {
            "text/plain": [
              "array([[2, 3],\n",
              "       [5, 6]])"
            ]
          },
          "metadata": {},
          "execution_count": 64
        }
      ]
    },
    {
      "cell_type": "code",
      "source": [
        "A[:, 1:3]"
      ],
      "metadata": {
        "colab": {
          "base_uri": "https://localhost:8080/"
        },
        "id": "UbYCZOC3dmyP",
        "outputId": "feff28f8-f3c9-4a2f-f95a-7a66c797c29e"
      },
      "execution_count": 65,
      "outputs": [
        {
          "output_type": "execute_result",
          "data": {
            "text/plain": [
              "array([[ 2,  3],\n",
              "       [ 5,  6],\n",
              "       [ 8,  9],\n",
              "       [11, 12]])"
            ]
          },
          "metadata": {},
          "execution_count": 65
        }
      ]
    },
    {
      "cell_type": "code",
      "source": [
        "A[[0, 2], :][:, [1, 2]]"
      ],
      "metadata": {
        "colab": {
          "base_uri": "https://localhost:8080/"
        },
        "id": "AWWx4z7Hdr7h",
        "outputId": "715a69ea-8214-4f2b-b7f6-10d7dd1855ed"
      },
      "execution_count": 67,
      "outputs": [
        {
          "output_type": "execute_result",
          "data": {
            "text/plain": [
              "array([[2, 3],\n",
              "       [8, 9]])"
            ]
          },
          "metadata": {},
          "execution_count": 67
        }
      ]
    },
    {
      "cell_type": "markdown",
      "source": [
        "###4.2.5 Special matrix\n",
        "\n",
        "Zero Matrix\n",
        "\n",
        "$\\begin{bmatrix}0&0&0\\\\0&0&0\\\\0&0&0\\end{bmatrix}$\n",
        "\n",
        "Identity Matrix:\n",
        "Only the diagonal elements have values ​​of 1, the rest are all 0.\n",
        "\n",
        "$I_3 = \\begin{bmatrix}1&0&0\\\\0&1&0\\\\0&0&1\\end{bmatrix}$\n",
        "\n",
        "Diagonal Matrix:\n",
        "All elements except the diagonal values ​​have values ​​of 0.\n",
        "\n",
        "$D_3 = \\begin{bmatrix}1&0&0\\\\0&2&0\\\\0&0&3\\end{bmatrix}$"
      ],
      "metadata": {
        "id": "hdV4IwpieDIB"
      }
    },
    {
      "cell_type": "code",
      "source": [
        "size = 3\n",
        "np.zeros(shape=(size, size))"
      ],
      "metadata": {
        "colab": {
          "base_uri": "https://localhost:8080/"
        },
        "id": "JKO8e1eve-zs",
        "outputId": "faf02a81-1913-4ddf-c04f-3efc2d0638f0"
      },
      "execution_count": 68,
      "outputs": [
        {
          "output_type": "execute_result",
          "data": {
            "text/plain": [
              "array([[0., 0., 0.],\n",
              "       [0., 0., 0.],\n",
              "       [0., 0., 0.]])"
            ]
          },
          "metadata": {},
          "execution_count": 68
        }
      ]
    },
    {
      "cell_type": "code",
      "source": [
        "np.identity(n = size)"
      ],
      "metadata": {
        "colab": {
          "base_uri": "https://localhost:8080/"
        },
        "id": "tPZMnkJAfFLl",
        "outputId": "2a2d8ff1-66e1-493f-a2ff-72ead6fd7edb"
      },
      "execution_count": 69,
      "outputs": [
        {
          "output_type": "execute_result",
          "data": {
            "text/plain": [
              "array([[1., 0., 0.],\n",
              "       [0., 1., 0.],\n",
              "       [0., 0., 1.]])"
            ]
          },
          "metadata": {},
          "execution_count": 69
        }
      ]
    },
    {
      "cell_type": "code",
      "source": [
        "np.diag([1, 2, 3])"
      ],
      "metadata": {
        "colab": {
          "base_uri": "https://localhost:8080/"
        },
        "id": "KMIf8koJfISl",
        "outputId": "a8e99208-f01c-4364-959b-476ec8616559"
      },
      "execution_count": 70,
      "outputs": [
        {
          "output_type": "execute_result",
          "data": {
            "text/plain": [
              "array([[1, 0, 0],\n",
              "       [0, 2, 0],\n",
              "       [0, 0, 3]])"
            ]
          },
          "metadata": {},
          "execution_count": 70
        }
      ]
    },
    {
      "cell_type": "markdown",
      "source": [
        "Triangular Matrix: It is a matrix in which all sides of the diagonal are 0. If lower is all 0, it is called an **upper triangular matrix**, and the opposite is called a **lower triangular matrix**.\n",
        "\n",
        "$T^{upper} = \\begin{bmatrix}1&2&3\\\\0&2&7\\\\0&0&5\\end{bmatrix}$\n",
        "\n",
        "\n"
      ],
      "metadata": {
        "id": "ZWIK4jxSfRwd"
      }
    },
    {
      "cell_type": "code",
      "source": [
        "np.triu([[1, 2, 3],[1, 2, 7],[7, 8, 5]], k= 0)"
      ],
      "metadata": {
        "colab": {
          "base_uri": "https://localhost:8080/"
        },
        "id": "BwTH2c4efuVt",
        "outputId": "f0f97ebf-1750-470c-cf0a-7b87c5309370"
      },
      "execution_count": 74,
      "outputs": [
        {
          "output_type": "execute_result",
          "data": {
            "text/plain": [
              "array([[1, 2, 3],\n",
              "       [0, 2, 7],\n",
              "       [0, 0, 5]])"
            ]
          },
          "metadata": {},
          "execution_count": 74
        }
      ]
    },
    {
      "cell_type": "markdown",
      "source": [
        "Orthogonal Matrix: each column or ros is an orthonormal vector.\n",
        "\n",
        "$A^TA = AA^T = I$"
      ],
      "metadata": {
        "id": "JrbhOWvigZUj"
      }
    },
    {
      "cell_type": "code",
      "source": [
        "A = np.array([[1,0], [0, -1]])\n",
        "A"
      ],
      "metadata": {
        "colab": {
          "base_uri": "https://localhost:8080/"
        },
        "id": "mC9QI_0ihFPe",
        "outputId": "25a82c8e-c432-4046-b872-65eabb79c437"
      },
      "execution_count": 75,
      "outputs": [
        {
          "output_type": "execute_result",
          "data": {
            "text/plain": [
              "array([[ 1,  0],\n",
              "       [ 0, -1]])"
            ]
          },
          "metadata": {},
          "execution_count": 75
        }
      ]
    },
    {
      "cell_type": "code",
      "source": [
        "A.T @ A"
      ],
      "metadata": {
        "colab": {
          "base_uri": "https://localhost:8080/"
        },
        "id": "n8VJ84pNhLoX",
        "outputId": "4df4a828-fe3d-4340-b1b4-fa60a1d9fa4e"
      },
      "execution_count": 76,
      "outputs": [
        {
          "output_type": "execute_result",
          "data": {
            "text/plain": [
              "array([[1, 0],\n",
              "       [0, 1]])"
            ]
          },
          "metadata": {},
          "execution_count": 76
        }
      ]
    },
    {
      "cell_type": "code",
      "source": [
        "A @ A.T"
      ],
      "metadata": {
        "colab": {
          "base_uri": "https://localhost:8080/"
        },
        "id": "KpTB1xZjhOoV",
        "outputId": "53d43daa-3c38-4b89-981a-0a2a7cf843a6"
      },
      "execution_count": 77,
      "outputs": [
        {
          "output_type": "execute_result",
          "data": {
            "text/plain": [
              "array([[1, 0],\n",
              "       [0, 1]])"
            ]
          },
          "metadata": {},
          "execution_count": 77
        }
      ]
    },
    {
      "cell_type": "markdown",
      "source": [
        "#4.3 Linear Equation\n",
        "\n",
        "Linear Equation means like below:\n",
        "\n",
        "$a_1x_1 + a_2x_2 + \\cdots + a_nx_n = b_1$\n",
        "\n",
        "In here, $x_1, \\cdots , x_p $ are variables, b_1 is a constant, and $a_1,\\cdots ,a_n are coefficients.$\n",
        "\n",
        "For example,\n",
        "\n",
        "$x_1 + x_2 = 5$\n",
        "\n",
        "$\\frac{1}{2}x_1 - x_2 = 2$\n",
        "\n",
        "It can be expressed with matrix like below:\n",
        "\n",
        "$\\begin{bmatrix}1 & 1 \\\\ \\frac{1}{2} & -1\\end{bmatrix} \\begin{bmatrix}x_1\\\\x_2\\end{bmatrix} =\\begin{bmatrix}5\\\\2\\end{bmatrix}$\n",
        "\n",
        "So, you can express it in form of $Ax = b$. In linear equation matrix like this, you can evaluate solution with addition or subtraction method."
      ],
      "metadata": {
        "id": "DG14IPeoimPr"
      }
    }
  ]
}